{
 "cells": [
  {
   "cell_type": "code",
   "execution_count": 1,
   "id": "e93c7ee7-9cdb-403c-aca1-715d696293b3",
   "metadata": {},
   "outputs": [
    {
     "name": "stdout",
     "output_type": "stream",
     "text": [
      "Files already downloaded and verified\n",
      "Files already downloaded and verified\n"
     ]
    }
   ],
   "source": [
    "import os\n",
    "import time\n",
    "import torch\n",
    "import torch.nn as nn\n",
    "import torch.optim as optim\n",
    "import torchvision\n",
    "import torchvision.transforms as transforms\n",
    "from torch.utils.data import DataLoader, SubsetRandomSampler\n",
    "import numpy as np\n",
    "from torchvision.models import resnet50\n",
    "from tqdm import tqdm\n",
    "\n",
    "def get_cifar100_data_loaders(data_dir='./data'):\n",
    "    train_tf = transforms.Compose([\n",
    "        transforms.RandomCrop(32, padding=4),\n",
    "        transforms.RandomHorizontalFlip(),\n",
    "        transforms.ToTensor(),\n",
    "        transforms.Normalize((0.5071, 0.4867, 0.4408), (0.2675, 0.2565, 0.2761)),\n",
    "    ])\n",
    "    test_tf = transforms.Compose([\n",
    "        transforms.ToTensor(),\n",
    "        transforms.Normalize((0.5071, 0.4867, 0.4408), (0.2675, 0.2565, 0.2761)),\n",
    "    ])\n",
    "\n",
    "    train_ds = torchvision.datasets.CIFAR100(data_dir, train=True, download=True, transform=train_tf)\n",
    "    test_ds = torchvision.datasets.CIFAR100(data_dir, train=False, download=True, transform=test_tf)\n",
    "\n",
    "    train_size = len(train_ds)\n",
    "    indices = list(range(train_size))\n",
    "    np.random.seed(42)\n",
    "    np.random.shuffle(indices)\n",
    "    split = int(0.1 * train_size)\n",
    "    train_idx, val_idx = indices[split:], indices[:split]\n",
    "\n",
    "    test_loader = DataLoader(test_ds, batch_size=8, shuffle=False, num_workers=4, pin_memory=False)\n",
    "    train_loader = DataLoader(train_ds, batch_size=128, sampler=SubsetRandomSampler(train_idx), num_workers=4, pin_memory=True)\n",
    "    val_loader = DataLoader(train_ds, batch_size=256, sampler=SubsetRandomSampler(val_idx), num_workers=4, pin_memory=True)\n",
    "\n",
    "    return train_loader, val_loader, test_loader, train_idx\n",
    "\n",
    "train_loader, val_loader, test_loader, train_idx = get_cifar100_data_loaders()"
   ]
  },
  {
   "cell_type": "markdown",
   "id": "dcef38af-207d-433d-b801-e638af68467a",
   "metadata": {},
   "source": [
    "# FP32 BASELINE"
   ]
  },
  {
   "cell_type": "code",
   "execution_count": 6,
   "id": "fd1e35b7-9c0b-43e1-af11-70ed68efdad6",
   "metadata": {
    "scrolled": true
   },
   "outputs": [
    {
     "name": "stderr",
     "output_type": "stream",
     "text": [
      "Training Epoch 1/200: 100%|██████████| 352/352 [00:19<00:00, 17.78it/s]\n",
      "                                                           \r"
     ]
    },
    {
     "name": "stdout",
     "output_type": "stream",
     "text": [
      "Epoch 1/200 – Loss: 4.1701, Val Accuracy: 13.94%\n",
      "Saved best FP32 model with Val Accuracy: 13.94%\n"
     ]
    },
    {
     "name": "stderr",
     "output_type": "stream",
     "text": [
      "Training Epoch 2/200: 100%|██████████| 352/352 [00:19<00:00, 17.78it/s]\n",
      "                                                           \r"
     ]
    },
    {
     "name": "stdout",
     "output_type": "stream",
     "text": [
      "Epoch 2/200 – Loss: 3.5226, Val Accuracy: 24.60%\n",
      "Saved best FP32 model with Val Accuracy: 24.60%\n"
     ]
    },
    {
     "name": "stderr",
     "output_type": "stream",
     "text": [
      "Training Epoch 3/200: 100%|██████████| 352/352 [00:20<00:00, 17.56it/s]\n",
      "                                                           \r"
     ]
    },
    {
     "name": "stdout",
     "output_type": "stream",
     "text": [
      "Epoch 3/200 – Loss: 3.0564, Val Accuracy: 34.84%\n",
      "Saved best FP32 model with Val Accuracy: 34.84%\n"
     ]
    },
    {
     "name": "stderr",
     "output_type": "stream",
     "text": [
      "Training Epoch 4/200: 100%|██████████| 352/352 [00:19<00:00, 17.72it/s]\n",
      "                                                           \r"
     ]
    },
    {
     "name": "stdout",
     "output_type": "stream",
     "text": [
      "Epoch 4/200 – Loss: 2.7243, Val Accuracy: 40.26%\n",
      "Saved best FP32 model with Val Accuracy: 40.26%\n"
     ]
    },
    {
     "name": "stderr",
     "output_type": "stream",
     "text": [
      "Training Epoch 5/200: 100%|██████████| 352/352 [00:19<00:00, 17.70it/s]\n",
      "                                                           \r"
     ]
    },
    {
     "name": "stdout",
     "output_type": "stream",
     "text": [
      "Epoch 5/200 – Loss: 2.4913, Val Accuracy: 47.48%\n",
      "Saved best FP32 model with Val Accuracy: 47.48%\n"
     ]
    },
    {
     "name": "stderr",
     "output_type": "stream",
     "text": [
      "Training Epoch 6/200: 100%|██████████| 352/352 [00:20<00:00, 17.55it/s]\n",
      "                                                           \r"
     ]
    },
    {
     "name": "stdout",
     "output_type": "stream",
     "text": [
      "Epoch 6/200 – Loss: 2.3103, Val Accuracy: 51.26%\n",
      "Saved best FP32 model with Val Accuracy: 51.26%\n"
     ]
    },
    {
     "name": "stderr",
     "output_type": "stream",
     "text": [
      "Training Epoch 7/200: 100%|██████████| 352/352 [00:19<00:00, 17.70it/s]\n",
      "                                                           \r"
     ]
    },
    {
     "name": "stdout",
     "output_type": "stream",
     "text": [
      "Epoch 7/200 – Loss: 2.1748, Val Accuracy: 52.26%\n",
      "Saved best FP32 model with Val Accuracy: 52.26%\n"
     ]
    },
    {
     "name": "stderr",
     "output_type": "stream",
     "text": [
      "Training Epoch 8/200: 100%|██████████| 352/352 [00:20<00:00, 17.54it/s]\n",
      "                                                           \r"
     ]
    },
    {
     "name": "stdout",
     "output_type": "stream",
     "text": [
      "Epoch 8/200 – Loss: 2.0476, Val Accuracy: 55.44%\n",
      "Saved best FP32 model with Val Accuracy: 55.44%\n"
     ]
    },
    {
     "name": "stderr",
     "output_type": "stream",
     "text": [
      "Training Epoch 9/200: 100%|██████████| 352/352 [00:19<00:00, 17.73it/s]\n",
      "                                                           \r"
     ]
    },
    {
     "name": "stdout",
     "output_type": "stream",
     "text": [
      "Epoch 9/200 – Loss: 1.9429, Val Accuracy: 59.34%\n",
      "Saved best FP32 model with Val Accuracy: 59.34%\n"
     ]
    },
    {
     "name": "stderr",
     "output_type": "stream",
     "text": [
      "Training Epoch 10/200: 100%|██████████| 352/352 [00:19<00:00, 17.68it/s]\n",
      "                                                           \r"
     ]
    },
    {
     "name": "stdout",
     "output_type": "stream",
     "text": [
      "Epoch 10/200 – Loss: 1.8499, Val Accuracy: 57.66%\n",
      "No improvement in validation accuracy. Patience counter: 1/20\n"
     ]
    },
    {
     "name": "stderr",
     "output_type": "stream",
     "text": [
      "Training Epoch 11/200: 100%|██████████| 352/352 [00:20<00:00, 17.52it/s]\n",
      "                                                           \r"
     ]
    },
    {
     "name": "stdout",
     "output_type": "stream",
     "text": [
      "Epoch 11/200 – Loss: 1.7755, Val Accuracy: 60.14%\n",
      "Saved best FP32 model with Val Accuracy: 60.14%\n"
     ]
    },
    {
     "name": "stderr",
     "output_type": "stream",
     "text": [
      "Training Epoch 12/200: 100%|██████████| 352/352 [00:19<00:00, 17.70it/s]\n",
      "                                                           \r"
     ]
    },
    {
     "name": "stdout",
     "output_type": "stream",
     "text": [
      "Epoch 12/200 – Loss: 1.6945, Val Accuracy: 60.54%\n",
      "Saved best FP32 model with Val Accuracy: 60.54%\n"
     ]
    },
    {
     "name": "stderr",
     "output_type": "stream",
     "text": [
      "Training Epoch 13/200: 100%|██████████| 352/352 [00:19<00:00, 17.72it/s]\n",
      "                                                           \r"
     ]
    },
    {
     "name": "stdout",
     "output_type": "stream",
     "text": [
      "Epoch 13/200 – Loss: 1.6294, Val Accuracy: 62.88%\n",
      "Saved best FP32 model with Val Accuracy: 62.88%\n"
     ]
    },
    {
     "name": "stderr",
     "output_type": "stream",
     "text": [
      "Training Epoch 14/200: 100%|██████████| 352/352 [00:20<00:00, 17.55it/s]\n",
      "                                                           \r"
     ]
    },
    {
     "name": "stdout",
     "output_type": "stream",
     "text": [
      "Epoch 14/200 – Loss: 1.5672, Val Accuracy: 64.72%\n",
      "Saved best FP32 model with Val Accuracy: 64.72%\n"
     ]
    },
    {
     "name": "stderr",
     "output_type": "stream",
     "text": [
      "Training Epoch 15/200: 100%|██████████| 352/352 [00:19<00:00, 17.66it/s]\n",
      "                                                           \r"
     ]
    },
    {
     "name": "stdout",
     "output_type": "stream",
     "text": [
      "Epoch 15/200 – Loss: 1.5325, Val Accuracy: 63.78%\n",
      "No improvement in validation accuracy. Patience counter: 1/20\n"
     ]
    },
    {
     "name": "stderr",
     "output_type": "stream",
     "text": [
      "Training Epoch 16/200: 100%|██████████| 352/352 [00:19<00:00, 17.70it/s]\n",
      "                                                           \r"
     ]
    },
    {
     "name": "stdout",
     "output_type": "stream",
     "text": [
      "Epoch 16/200 – Loss: 1.4622, Val Accuracy: 66.10%\n",
      "Saved best FP32 model with Val Accuracy: 66.10%\n"
     ]
    },
    {
     "name": "stderr",
     "output_type": "stream",
     "text": [
      "Training Epoch 17/200: 100%|██████████| 352/352 [00:20<00:00, 17.54it/s]\n",
      "                                                           \r"
     ]
    },
    {
     "name": "stdout",
     "output_type": "stream",
     "text": [
      "Epoch 17/200 – Loss: 1.4018, Val Accuracy: 66.50%\n",
      "Saved best FP32 model with Val Accuracy: 66.50%\n"
     ]
    },
    {
     "name": "stderr",
     "output_type": "stream",
     "text": [
      "Training Epoch 18/200: 100%|██████████| 352/352 [00:19<00:00, 17.71it/s]\n",
      "                                                           \r"
     ]
    },
    {
     "name": "stdout",
     "output_type": "stream",
     "text": [
      "Epoch 18/200 – Loss: 1.3488, Val Accuracy: 66.48%\n",
      "No improvement in validation accuracy. Patience counter: 1/20\n"
     ]
    },
    {
     "name": "stderr",
     "output_type": "stream",
     "text": [
      "Training Epoch 19/200: 100%|██████████| 352/352 [00:19<00:00, 17.69it/s]\n",
      "                                                           \r"
     ]
    },
    {
     "name": "stdout",
     "output_type": "stream",
     "text": [
      "Epoch 19/200 – Loss: 1.3050, Val Accuracy: 68.72%\n",
      "Saved best FP32 model with Val Accuracy: 68.72%\n"
     ]
    },
    {
     "name": "stderr",
     "output_type": "stream",
     "text": [
      "Training Epoch 20/200: 100%|██████████| 352/352 [00:20<00:00, 17.58it/s]\n",
      "                                                           \r"
     ]
    },
    {
     "name": "stdout",
     "output_type": "stream",
     "text": [
      "Epoch 20/200 – Loss: 1.2604, Val Accuracy: 66.56%\n",
      "No improvement in validation accuracy. Patience counter: 1/20\n"
     ]
    },
    {
     "name": "stderr",
     "output_type": "stream",
     "text": [
      "Training Epoch 21/200: 100%|██████████| 352/352 [00:19<00:00, 17.78it/s]\n",
      "                                                           \r"
     ]
    },
    {
     "name": "stdout",
     "output_type": "stream",
     "text": [
      "Epoch 21/200 – Loss: 1.2308, Val Accuracy: 66.76%\n",
      "No improvement in validation accuracy. Patience counter: 2/20\n"
     ]
    },
    {
     "name": "stderr",
     "output_type": "stream",
     "text": [
      "Training Epoch 22/200: 100%|██████████| 352/352 [00:19<00:00, 17.74it/s]\n",
      "                                                           \r"
     ]
    },
    {
     "name": "stdout",
     "output_type": "stream",
     "text": [
      "Epoch 22/200 – Loss: 1.1947, Val Accuracy: 66.70%\n",
      "No improvement in validation accuracy. Patience counter: 3/20\n"
     ]
    },
    {
     "name": "stderr",
     "output_type": "stream",
     "text": [
      "Training Epoch 23/200: 100%|██████████| 352/352 [00:19<00:00, 17.64it/s]\n",
      "                                                           \r"
     ]
    },
    {
     "name": "stdout",
     "output_type": "stream",
     "text": [
      "Epoch 23/200 – Loss: 1.1545, Val Accuracy: 67.82%\n",
      "No improvement in validation accuracy. Patience counter: 4/20\n"
     ]
    },
    {
     "name": "stderr",
     "output_type": "stream",
     "text": [
      "Training Epoch 24/200: 100%|██████████| 352/352 [00:19<00:00, 17.75it/s]\n",
      "                                                           \r"
     ]
    },
    {
     "name": "stdout",
     "output_type": "stream",
     "text": [
      "Epoch 24/200 – Loss: 1.1187, Val Accuracy: 68.20%\n",
      "No improvement in validation accuracy. Patience counter: 5/20\n"
     ]
    },
    {
     "name": "stderr",
     "output_type": "stream",
     "text": [
      "Training Epoch 25/200: 100%|██████████| 352/352 [00:19<00:00, 17.66it/s]\n",
      "                                                           \r"
     ]
    },
    {
     "name": "stdout",
     "output_type": "stream",
     "text": [
      "Epoch 25/200 – Loss: 1.0951, Val Accuracy: 67.84%\n",
      "No improvement in validation accuracy. Patience counter: 6/20\n"
     ]
    },
    {
     "name": "stderr",
     "output_type": "stream",
     "text": [
      "Training Epoch 26/200: 100%|██████████| 352/352 [00:20<00:00, 17.52it/s]\n",
      "                                                           \r"
     ]
    },
    {
     "name": "stdout",
     "output_type": "stream",
     "text": [
      "Epoch 26/200 – Loss: 1.0644, Val Accuracy: 68.68%\n",
      "No improvement in validation accuracy. Patience counter: 7/20\n"
     ]
    },
    {
     "name": "stderr",
     "output_type": "stream",
     "text": [
      "Training Epoch 27/200: 100%|██████████| 352/352 [00:19<00:00, 17.69it/s]\n",
      "                                                           \r"
     ]
    },
    {
     "name": "stdout",
     "output_type": "stream",
     "text": [
      "Epoch 27/200 – Loss: 1.0935, Val Accuracy: 69.94%\n",
      "Saved best FP32 model with Val Accuracy: 69.94%\n"
     ]
    },
    {
     "name": "stderr",
     "output_type": "stream",
     "text": [
      "Training Epoch 28/200: 100%|██████████| 352/352 [00:19<00:00, 17.72it/s]\n",
      "                                                           \r"
     ]
    },
    {
     "name": "stdout",
     "output_type": "stream",
     "text": [
      "Epoch 28/200 – Loss: 1.0278, Val Accuracy: 69.26%\n",
      "No improvement in validation accuracy. Patience counter: 1/20\n"
     ]
    },
    {
     "name": "stderr",
     "output_type": "stream",
     "text": [
      "Training Epoch 29/200: 100%|██████████| 352/352 [00:20<00:00, 17.53it/s]\n",
      "                                                           \r"
     ]
    },
    {
     "name": "stdout",
     "output_type": "stream",
     "text": [
      "Epoch 29/200 – Loss: 1.0062, Val Accuracy: 68.70%\n",
      "No improvement in validation accuracy. Patience counter: 2/20\n"
     ]
    },
    {
     "name": "stderr",
     "output_type": "stream",
     "text": [
      "Training Epoch 30/200: 100%|██████████| 352/352 [00:19<00:00, 17.69it/s]\n",
      "                                                           \r"
     ]
    },
    {
     "name": "stdout",
     "output_type": "stream",
     "text": [
      "Epoch 30/200 – Loss: 0.9937, Val Accuracy: 70.28%\n",
      "Saved best FP32 model with Val Accuracy: 70.28%\n"
     ]
    },
    {
     "name": "stderr",
     "output_type": "stream",
     "text": [
      "Training Epoch 31/200: 100%|██████████| 352/352 [00:20<00:00, 17.56it/s]\n",
      "                                                           \r"
     ]
    },
    {
     "name": "stdout",
     "output_type": "stream",
     "text": [
      "Epoch 31/200 – Loss: 0.9819, Val Accuracy: 69.28%\n",
      "No improvement in validation accuracy. Patience counter: 1/20\n"
     ]
    },
    {
     "name": "stderr",
     "output_type": "stream",
     "text": [
      "Training Epoch 32/200: 100%|██████████| 352/352 [00:19<00:00, 17.78it/s]\n",
      "                                                           \r"
     ]
    },
    {
     "name": "stdout",
     "output_type": "stream",
     "text": [
      "Epoch 32/200 – Loss: 0.9736, Val Accuracy: 69.16%\n",
      "No improvement in validation accuracy. Patience counter: 2/20\n"
     ]
    },
    {
     "name": "stderr",
     "output_type": "stream",
     "text": [
      "Training Epoch 33/200: 100%|██████████| 352/352 [00:19<00:00, 17.80it/s]\n",
      "                                                           \r"
     ]
    },
    {
     "name": "stdout",
     "output_type": "stream",
     "text": [
      "Epoch 33/200 – Loss: 0.9700, Val Accuracy: 69.26%\n",
      "No improvement in validation accuracy. Patience counter: 3/20\n"
     ]
    },
    {
     "name": "stderr",
     "output_type": "stream",
     "text": [
      "Training Epoch 34/200: 100%|██████████| 352/352 [00:20<00:00, 17.58it/s]\n",
      "                                                           \r"
     ]
    },
    {
     "name": "stdout",
     "output_type": "stream",
     "text": [
      "Epoch 34/200 – Loss: 0.9530, Val Accuracy: 69.58%\n",
      "No improvement in validation accuracy. Patience counter: 4/20\n"
     ]
    },
    {
     "name": "stderr",
     "output_type": "stream",
     "text": [
      "Training Epoch 35/200: 100%|██████████| 352/352 [00:19<00:00, 17.73it/s]\n",
      "                                                           \r"
     ]
    },
    {
     "name": "stdout",
     "output_type": "stream",
     "text": [
      "Epoch 35/200 – Loss: 0.9846, Val Accuracy: 67.74%\n",
      "No improvement in validation accuracy. Patience counter: 5/20\n"
     ]
    },
    {
     "name": "stderr",
     "output_type": "stream",
     "text": [
      "Training Epoch 36/200: 100%|██████████| 352/352 [00:19<00:00, 17.70it/s]\n",
      "                                                           \r"
     ]
    },
    {
     "name": "stdout",
     "output_type": "stream",
     "text": [
      "Epoch 36/200 – Loss: 0.9598, Val Accuracy: 70.54%\n",
      "Saved best FP32 model with Val Accuracy: 70.54%\n"
     ]
    },
    {
     "name": "stderr",
     "output_type": "stream",
     "text": [
      "Training Epoch 37/200: 100%|██████████| 352/352 [00:20<00:00, 17.49it/s]\n",
      "                                                           \r"
     ]
    },
    {
     "name": "stdout",
     "output_type": "stream",
     "text": [
      "Epoch 37/200 – Loss: 0.9200, Val Accuracy: 70.00%\n",
      "No improvement in validation accuracy. Patience counter: 1/20\n"
     ]
    },
    {
     "name": "stderr",
     "output_type": "stream",
     "text": [
      "Training Epoch 38/200: 100%|██████████| 352/352 [00:19<00:00, 17.68it/s]\n",
      "                                                           \r"
     ]
    },
    {
     "name": "stdout",
     "output_type": "stream",
     "text": [
      "Epoch 38/200 – Loss: 0.9139, Val Accuracy: 69.96%\n",
      "No improvement in validation accuracy. Patience counter: 2/20\n"
     ]
    },
    {
     "name": "stderr",
     "output_type": "stream",
     "text": [
      "Training Epoch 39/200: 100%|██████████| 352/352 [00:20<00:00, 17.58it/s]\n",
      "                                                           \r"
     ]
    },
    {
     "name": "stdout",
     "output_type": "stream",
     "text": [
      "Epoch 39/200 – Loss: 0.9084, Val Accuracy: 70.80%\n",
      "Saved best FP32 model with Val Accuracy: 70.80%\n"
     ]
    },
    {
     "name": "stderr",
     "output_type": "stream",
     "text": [
      "Training Epoch 40/200: 100%|██████████| 352/352 [00:19<00:00, 17.72it/s]\n",
      "                                                           \r"
     ]
    },
    {
     "name": "stdout",
     "output_type": "stream",
     "text": [
      "Epoch 40/200 – Loss: 0.9054, Val Accuracy: 69.94%\n",
      "No improvement in validation accuracy. Patience counter: 1/20\n"
     ]
    },
    {
     "name": "stderr",
     "output_type": "stream",
     "text": [
      "Training Epoch 41/200: 100%|██████████| 352/352 [00:19<00:00, 17.72it/s]\n",
      "                                                           \r"
     ]
    },
    {
     "name": "stdout",
     "output_type": "stream",
     "text": [
      "Epoch 41/200 – Loss: 0.9078, Val Accuracy: 69.40%\n",
      "No improvement in validation accuracy. Patience counter: 2/20\n"
     ]
    },
    {
     "name": "stderr",
     "output_type": "stream",
     "text": [
      "Training Epoch 42/200: 100%|██████████| 352/352 [00:20<00:00, 17.52it/s]\n",
      "                                                           \r"
     ]
    },
    {
     "name": "stdout",
     "output_type": "stream",
     "text": [
      "Epoch 42/200 – Loss: 0.8980, Val Accuracy: 68.72%\n",
      "No improvement in validation accuracy. Patience counter: 3/20\n"
     ]
    },
    {
     "name": "stderr",
     "output_type": "stream",
     "text": [
      "Training Epoch 43/200: 100%|██████████| 352/352 [00:19<00:00, 17.73it/s]\n",
      "                                                           \r"
     ]
    },
    {
     "name": "stdout",
     "output_type": "stream",
     "text": [
      "Epoch 43/200 – Loss: 0.9036, Val Accuracy: 69.62%\n",
      "No improvement in validation accuracy. Patience counter: 4/20\n"
     ]
    },
    {
     "name": "stderr",
     "output_type": "stream",
     "text": [
      "Training Epoch 44/200: 100%|██████████| 352/352 [00:19<00:00, 17.75it/s]\n",
      "                                                           \r"
     ]
    },
    {
     "name": "stdout",
     "output_type": "stream",
     "text": [
      "Epoch 44/200 – Loss: 0.8907, Val Accuracy: 71.24%\n",
      "Saved best FP32 model with Val Accuracy: 71.24%\n"
     ]
    },
    {
     "name": "stderr",
     "output_type": "stream",
     "text": [
      "Training Epoch 45/200: 100%|██████████| 352/352 [00:20<00:00, 17.59it/s]\n",
      "                                                           \r"
     ]
    },
    {
     "name": "stdout",
     "output_type": "stream",
     "text": [
      "Epoch 45/200 – Loss: 0.8821, Val Accuracy: 70.72%\n",
      "No improvement in validation accuracy. Patience counter: 1/20\n"
     ]
    },
    {
     "name": "stderr",
     "output_type": "stream",
     "text": [
      "Training Epoch 46/200: 100%|██████████| 352/352 [00:19<00:00, 17.76it/s]\n",
      "                                                           \r"
     ]
    },
    {
     "name": "stdout",
     "output_type": "stream",
     "text": [
      "Epoch 46/200 – Loss: 0.8875, Val Accuracy: 70.26%\n",
      "No improvement in validation accuracy. Patience counter: 2/20\n"
     ]
    },
    {
     "name": "stderr",
     "output_type": "stream",
     "text": [
      "Training Epoch 47/200: 100%|██████████| 352/352 [00:19<00:00, 17.74it/s]\n",
      "                                                           \r"
     ]
    },
    {
     "name": "stdout",
     "output_type": "stream",
     "text": [
      "Epoch 47/200 – Loss: 0.8837, Val Accuracy: 70.58%\n",
      "No improvement in validation accuracy. Patience counter: 3/20\n"
     ]
    },
    {
     "name": "stderr",
     "output_type": "stream",
     "text": [
      "Training Epoch 48/200: 100%|██████████| 352/352 [00:20<00:00, 17.49it/s]\n",
      "                                                           \r"
     ]
    },
    {
     "name": "stdout",
     "output_type": "stream",
     "text": [
      "Epoch 48/200 – Loss: 0.8729, Val Accuracy: 70.84%\n",
      "No improvement in validation accuracy. Patience counter: 4/20\n"
     ]
    },
    {
     "name": "stderr",
     "output_type": "stream",
     "text": [
      "Training Epoch 49/200: 100%|██████████| 352/352 [00:19<00:00, 17.74it/s]\n",
      "                                                           \r"
     ]
    },
    {
     "name": "stdout",
     "output_type": "stream",
     "text": [
      "Epoch 49/200 – Loss: 0.8725, Val Accuracy: 69.48%\n",
      "No improvement in validation accuracy. Patience counter: 5/20\n"
     ]
    },
    {
     "name": "stderr",
     "output_type": "stream",
     "text": [
      "Training Epoch 50/200: 100%|██████████| 352/352 [00:19<00:00, 17.75it/s]\n",
      "                                                           \r"
     ]
    },
    {
     "name": "stdout",
     "output_type": "stream",
     "text": [
      "Epoch 50/200 – Loss: 0.8686, Val Accuracy: 70.82%\n",
      "No improvement in validation accuracy. Patience counter: 6/20\n"
     ]
    },
    {
     "name": "stderr",
     "output_type": "stream",
     "text": [
      "Training Epoch 51/200: 100%|██████████| 352/352 [00:20<00:00, 17.59it/s]\n",
      "                                                           \r"
     ]
    },
    {
     "name": "stdout",
     "output_type": "stream",
     "text": [
      "Epoch 51/200 – Loss: 0.8725, Val Accuracy: 70.34%\n",
      "No improvement in validation accuracy. Patience counter: 7/20\n"
     ]
    },
    {
     "name": "stderr",
     "output_type": "stream",
     "text": [
      "Training Epoch 52/200: 100%|██████████| 352/352 [00:19<00:00, 17.69it/s]\n",
      "                                                           \r"
     ]
    },
    {
     "name": "stdout",
     "output_type": "stream",
     "text": [
      "Epoch 52/200 – Loss: 0.8727, Val Accuracy: 70.72%\n",
      "No improvement in validation accuracy. Patience counter: 8/20\n"
     ]
    },
    {
     "name": "stderr",
     "output_type": "stream",
     "text": [
      "Training Epoch 53/200: 100%|██████████| 352/352 [00:19<00:00, 17.69it/s]\n",
      "                                                           \r"
     ]
    },
    {
     "name": "stdout",
     "output_type": "stream",
     "text": [
      "Epoch 53/200 – Loss: 0.8562, Val Accuracy: 70.86%\n",
      "No improvement in validation accuracy. Patience counter: 9/20\n"
     ]
    },
    {
     "name": "stderr",
     "output_type": "stream",
     "text": [
      "Training Epoch 54/200: 100%|██████████| 352/352 [00:20<00:00, 17.56it/s]\n",
      "                                                           \r"
     ]
    },
    {
     "name": "stdout",
     "output_type": "stream",
     "text": [
      "Epoch 54/200 – Loss: 0.8541, Val Accuracy: 71.38%\n",
      "Saved best FP32 model with Val Accuracy: 71.38%\n"
     ]
    },
    {
     "name": "stderr",
     "output_type": "stream",
     "text": [
      "Training Epoch 55/200: 100%|██████████| 352/352 [00:19<00:00, 17.75it/s]\n",
      "                                                           \r"
     ]
    },
    {
     "name": "stdout",
     "output_type": "stream",
     "text": [
      "Epoch 55/200 – Loss: 0.8593, Val Accuracy: 70.68%\n",
      "No improvement in validation accuracy. Patience counter: 1/20\n"
     ]
    },
    {
     "name": "stderr",
     "output_type": "stream",
     "text": [
      "Training Epoch 56/200: 100%|██████████| 352/352 [00:19<00:00, 17.72it/s]\n",
      "                                                           \r"
     ]
    },
    {
     "name": "stdout",
     "output_type": "stream",
     "text": [
      "Epoch 56/200 – Loss: 0.8475, Val Accuracy: 70.36%\n",
      "No improvement in validation accuracy. Patience counter: 2/20\n"
     ]
    },
    {
     "name": "stderr",
     "output_type": "stream",
     "text": [
      "Training Epoch 57/200: 100%|██████████| 352/352 [00:20<00:00, 17.53it/s]\n",
      "                                                           \r"
     ]
    },
    {
     "name": "stdout",
     "output_type": "stream",
     "text": [
      "Epoch 57/200 – Loss: 0.8481, Val Accuracy: 71.36%\n",
      "No improvement in validation accuracy. Patience counter: 3/20\n"
     ]
    },
    {
     "name": "stderr",
     "output_type": "stream",
     "text": [
      "Training Epoch 58/200: 100%|██████████| 352/352 [00:19<00:00, 17.68it/s]\n",
      "                                                           \r"
     ]
    },
    {
     "name": "stdout",
     "output_type": "stream",
     "text": [
      "Epoch 58/200 – Loss: 0.8478, Val Accuracy: 70.44%\n",
      "No improvement in validation accuracy. Patience counter: 4/20\n"
     ]
    },
    {
     "name": "stderr",
     "output_type": "stream",
     "text": [
      "Training Epoch 59/200: 100%|██████████| 352/352 [00:20<00:00, 17.57it/s]\n",
      "                                                           \r"
     ]
    },
    {
     "name": "stdout",
     "output_type": "stream",
     "text": [
      "Epoch 59/200 – Loss: 0.8540, Val Accuracy: 70.22%\n",
      "No improvement in validation accuracy. Patience counter: 5/20\n"
     ]
    },
    {
     "name": "stderr",
     "output_type": "stream",
     "text": [
      "Training Epoch 60/200: 100%|██████████| 352/352 [00:19<00:00, 17.75it/s]\n",
      "                                                           \r"
     ]
    },
    {
     "name": "stdout",
     "output_type": "stream",
     "text": [
      "Epoch 60/200 – Loss: 0.8495, Val Accuracy: 70.78%\n",
      "No improvement in validation accuracy. Patience counter: 6/20\n"
     ]
    },
    {
     "name": "stderr",
     "output_type": "stream",
     "text": [
      "Training Epoch 61/200: 100%|██████████| 352/352 [00:19<00:00, 17.73it/s]\n",
      "                                                           \r"
     ]
    },
    {
     "name": "stdout",
     "output_type": "stream",
     "text": [
      "Epoch 61/200 – Loss: 0.8363, Val Accuracy: 70.66%\n",
      "No improvement in validation accuracy. Patience counter: 7/20\n"
     ]
    },
    {
     "name": "stderr",
     "output_type": "stream",
     "text": [
      "Training Epoch 62/200: 100%|██████████| 352/352 [00:20<00:00, 17.52it/s]\n",
      "                                                           \r"
     ]
    },
    {
     "name": "stdout",
     "output_type": "stream",
     "text": [
      "Epoch 62/200 – Loss: 0.8459, Val Accuracy: 71.10%\n",
      "No improvement in validation accuracy. Patience counter: 8/20\n"
     ]
    },
    {
     "name": "stderr",
     "output_type": "stream",
     "text": [
      "Training Epoch 63/200: 100%|██████████| 352/352 [00:19<00:00, 17.68it/s]\n",
      "                                                           \r"
     ]
    },
    {
     "name": "stdout",
     "output_type": "stream",
     "text": [
      "Epoch 63/200 – Loss: 0.8354, Val Accuracy: 70.40%\n",
      "No improvement in validation accuracy. Patience counter: 9/20\n"
     ]
    },
    {
     "name": "stderr",
     "output_type": "stream",
     "text": [
      "Training Epoch 64/200: 100%|██████████| 352/352 [00:19<00:00, 17.74it/s]\n",
      "                                                           \r"
     ]
    },
    {
     "name": "stdout",
     "output_type": "stream",
     "text": [
      "Epoch 64/200 – Loss: 0.8397, Val Accuracy: 70.48%\n",
      "No improvement in validation accuracy. Patience counter: 10/20\n"
     ]
    },
    {
     "name": "stderr",
     "output_type": "stream",
     "text": [
      "Training Epoch 65/200: 100%|██████████| 352/352 [00:20<00:00, 17.59it/s]\n",
      "                                                           \r"
     ]
    },
    {
     "name": "stdout",
     "output_type": "stream",
     "text": [
      "Epoch 65/200 – Loss: 0.8314, Val Accuracy: 70.72%\n",
      "No improvement in validation accuracy. Patience counter: 11/20\n"
     ]
    },
    {
     "name": "stderr",
     "output_type": "stream",
     "text": [
      "Training Epoch 66/200: 100%|██████████| 352/352 [00:19<00:00, 17.73it/s]\n",
      "                                                           \r"
     ]
    },
    {
     "name": "stdout",
     "output_type": "stream",
     "text": [
      "Epoch 66/200 – Loss: 0.8671, Val Accuracy: 70.90%\n",
      "No improvement in validation accuracy. Patience counter: 12/20\n"
     ]
    },
    {
     "name": "stderr",
     "output_type": "stream",
     "text": [
      "Training Epoch 67/200: 100%|██████████| 352/352 [00:19<00:00, 17.67it/s]\n",
      "                                                           \r"
     ]
    },
    {
     "name": "stdout",
     "output_type": "stream",
     "text": [
      "Epoch 67/200 – Loss: 0.8322, Val Accuracy: 70.80%\n",
      "No improvement in validation accuracy. Patience counter: 13/20\n"
     ]
    },
    {
     "name": "stderr",
     "output_type": "stream",
     "text": [
      "Training Epoch 68/200: 100%|██████████| 352/352 [00:20<00:00, 17.52it/s]\n",
      "                                                           \r"
     ]
    },
    {
     "name": "stdout",
     "output_type": "stream",
     "text": [
      "Epoch 68/200 – Loss: 0.8298, Val Accuracy: 71.66%\n",
      "Saved best FP32 model with Val Accuracy: 71.66%\n"
     ]
    },
    {
     "name": "stderr",
     "output_type": "stream",
     "text": [
      "Training Epoch 69/200: 100%|██████████| 352/352 [00:19<00:00, 17.74it/s]\n",
      "                                                           \r"
     ]
    },
    {
     "name": "stdout",
     "output_type": "stream",
     "text": [
      "Epoch 69/200 – Loss: 0.8238, Val Accuracy: 71.56%\n",
      "No improvement in validation accuracy. Patience counter: 1/20\n"
     ]
    },
    {
     "name": "stderr",
     "output_type": "stream",
     "text": [
      "Training Epoch 70/200: 100%|██████████| 352/352 [00:19<00:00, 17.76it/s]\n",
      "                                                           \r"
     ]
    },
    {
     "name": "stdout",
     "output_type": "stream",
     "text": [
      "Epoch 70/200 – Loss: 0.8260, Val Accuracy: 70.78%\n",
      "No improvement in validation accuracy. Patience counter: 2/20\n"
     ]
    },
    {
     "name": "stderr",
     "output_type": "stream",
     "text": [
      "Training Epoch 71/200: 100%|██████████| 352/352 [00:20<00:00, 17.48it/s]\n",
      "                                                           \r"
     ]
    },
    {
     "name": "stdout",
     "output_type": "stream",
     "text": [
      "Epoch 71/200 – Loss: 0.8271, Val Accuracy: 71.54%\n",
      "No improvement in validation accuracy. Patience counter: 3/20\n"
     ]
    },
    {
     "name": "stderr",
     "output_type": "stream",
     "text": [
      "Training Epoch 72/200: 100%|██████████| 352/352 [00:19<00:00, 17.73it/s]\n",
      "                                                           \r"
     ]
    },
    {
     "name": "stdout",
     "output_type": "stream",
     "text": [
      "Epoch 72/200 – Loss: 0.8240, Val Accuracy: 70.96%\n",
      "No improvement in validation accuracy. Patience counter: 4/20\n"
     ]
    },
    {
     "name": "stderr",
     "output_type": "stream",
     "text": [
      "Training Epoch 73/200: 100%|██████████| 352/352 [00:20<00:00, 17.57it/s]\n",
      "                                                           \r"
     ]
    },
    {
     "name": "stdout",
     "output_type": "stream",
     "text": [
      "Epoch 73/200 – Loss: 0.8236, Val Accuracy: 71.24%\n",
      "No improvement in validation accuracy. Patience counter: 5/20\n"
     ]
    },
    {
     "name": "stderr",
     "output_type": "stream",
     "text": [
      "Training Epoch 74/200: 100%|██████████| 352/352 [00:19<00:00, 17.72it/s]\n",
      "                                                           \r"
     ]
    },
    {
     "name": "stdout",
     "output_type": "stream",
     "text": [
      "Epoch 74/200 – Loss: 0.8213, Val Accuracy: 71.72%\n",
      "Saved best FP32 model with Val Accuracy: 71.72%\n"
     ]
    },
    {
     "name": "stderr",
     "output_type": "stream",
     "text": [
      "Training Epoch 75/200: 100%|██████████| 352/352 [00:19<00:00, 17.67it/s]\n",
      "                                                           \r"
     ]
    },
    {
     "name": "stdout",
     "output_type": "stream",
     "text": [
      "Epoch 75/200 – Loss: 0.8244, Val Accuracy: 71.16%\n",
      "No improvement in validation accuracy. Patience counter: 1/20\n"
     ]
    },
    {
     "name": "stderr",
     "output_type": "stream",
     "text": [
      "Training Epoch 76/200: 100%|██████████| 352/352 [00:20<00:00, 17.57it/s]\n",
      "                                                           \r"
     ]
    },
    {
     "name": "stdout",
     "output_type": "stream",
     "text": [
      "Epoch 76/200 – Loss: 0.8201, Val Accuracy: 70.68%\n",
      "No improvement in validation accuracy. Patience counter: 2/20\n"
     ]
    },
    {
     "name": "stderr",
     "output_type": "stream",
     "text": [
      "Training Epoch 77/200: 100%|██████████| 352/352 [00:19<00:00, 17.73it/s]\n",
      "                                                           \r"
     ]
    },
    {
     "name": "stdout",
     "output_type": "stream",
     "text": [
      "Epoch 77/200 – Loss: 0.8164, Val Accuracy: 71.30%\n",
      "No improvement in validation accuracy. Patience counter: 3/20\n"
     ]
    },
    {
     "name": "stderr",
     "output_type": "stream",
     "text": [
      "Training Epoch 78/200: 100%|██████████| 352/352 [00:19<00:00, 17.68it/s]\n",
      "                                                           \r"
     ]
    },
    {
     "name": "stdout",
     "output_type": "stream",
     "text": [
      "Epoch 78/200 – Loss: 0.8139, Val Accuracy: 71.18%\n",
      "No improvement in validation accuracy. Patience counter: 4/20\n"
     ]
    },
    {
     "name": "stderr",
     "output_type": "stream",
     "text": [
      "Training Epoch 79/200: 100%|██████████| 352/352 [00:20<00:00, 17.54it/s]\n",
      "                                                           \r"
     ]
    },
    {
     "name": "stdout",
     "output_type": "stream",
     "text": [
      "Epoch 79/200 – Loss: 0.8207, Val Accuracy: 72.92%\n",
      "Saved best FP32 model with Val Accuracy: 72.92%\n"
     ]
    },
    {
     "name": "stderr",
     "output_type": "stream",
     "text": [
      "Training Epoch 80/200: 100%|██████████| 352/352 [00:19<00:00, 17.70it/s]\n",
      "                                                           \r"
     ]
    },
    {
     "name": "stdout",
     "output_type": "stream",
     "text": [
      "Epoch 80/200 – Loss: 0.8178, Val Accuracy: 70.82%\n",
      "No improvement in validation accuracy. Patience counter: 1/20\n"
     ]
    },
    {
     "name": "stderr",
     "output_type": "stream",
     "text": [
      "Training Epoch 81/200: 100%|██████████| 352/352 [00:20<00:00, 17.52it/s]\n",
      "                                                           \r"
     ]
    },
    {
     "name": "stdout",
     "output_type": "stream",
     "text": [
      "Epoch 81/200 – Loss: 0.8168, Val Accuracy: 71.26%\n",
      "No improvement in validation accuracy. Patience counter: 2/20\n"
     ]
    },
    {
     "name": "stderr",
     "output_type": "stream",
     "text": [
      "Training Epoch 82/200: 100%|██████████| 352/352 [00:19<00:00, 17.79it/s]\n",
      "                                                           \r"
     ]
    },
    {
     "name": "stdout",
     "output_type": "stream",
     "text": [
      "Epoch 82/200 – Loss: 0.8136, Val Accuracy: 71.48%\n",
      "No improvement in validation accuracy. Patience counter: 3/20\n"
     ]
    },
    {
     "name": "stderr",
     "output_type": "stream",
     "text": [
      "Training Epoch 83/200: 100%|██████████| 352/352 [00:19<00:00, 17.76it/s]\n",
      "                                                           \r"
     ]
    },
    {
     "name": "stdout",
     "output_type": "stream",
     "text": [
      "Epoch 83/200 – Loss: 0.8144, Val Accuracy: 71.26%\n",
      "No improvement in validation accuracy. Patience counter: 4/20\n"
     ]
    },
    {
     "name": "stderr",
     "output_type": "stream",
     "text": [
      "Training Epoch 84/200: 100%|██████████| 352/352 [00:19<00:00, 17.75it/s]\n",
      "                                                           \r"
     ]
    },
    {
     "name": "stdout",
     "output_type": "stream",
     "text": [
      "Epoch 84/200 – Loss: 0.8147, Val Accuracy: 70.88%\n",
      "No improvement in validation accuracy. Patience counter: 5/20\n"
     ]
    },
    {
     "name": "stderr",
     "output_type": "stream",
     "text": [
      "Training Epoch 85/200: 100%|██████████| 352/352 [00:20<00:00, 17.59it/s]\n",
      "                                                           \r"
     ]
    },
    {
     "name": "stdout",
     "output_type": "stream",
     "text": [
      "Epoch 85/200 – Loss: 0.8073, Val Accuracy: 72.22%\n",
      "No improvement in validation accuracy. Patience counter: 6/20\n"
     ]
    },
    {
     "name": "stderr",
     "output_type": "stream",
     "text": [
      "Training Epoch 86/200: 100%|██████████| 352/352 [00:19<00:00, 17.69it/s]\n",
      "                                                           \r"
     ]
    },
    {
     "name": "stdout",
     "output_type": "stream",
     "text": [
      "Epoch 86/200 – Loss: 0.8112, Val Accuracy: 71.04%\n",
      "No improvement in validation accuracy. Patience counter: 7/20\n"
     ]
    },
    {
     "name": "stderr",
     "output_type": "stream",
     "text": [
      "Training Epoch 87/200: 100%|██████████| 352/352 [00:20<00:00, 17.59it/s]\n",
      "                                                           \r"
     ]
    },
    {
     "name": "stdout",
     "output_type": "stream",
     "text": [
      "Epoch 87/200 – Loss: 0.8120, Val Accuracy: 71.62%\n",
      "No improvement in validation accuracy. Patience counter: 8/20\n"
     ]
    },
    {
     "name": "stderr",
     "output_type": "stream",
     "text": [
      "Training Epoch 88/200: 100%|██████████| 352/352 [00:19<00:00, 17.75it/s]\n",
      "                                                           \r"
     ]
    },
    {
     "name": "stdout",
     "output_type": "stream",
     "text": [
      "Epoch 88/200 – Loss: 0.8093, Val Accuracy: 71.54%\n",
      "No improvement in validation accuracy. Patience counter: 9/20\n"
     ]
    },
    {
     "name": "stderr",
     "output_type": "stream",
     "text": [
      "Training Epoch 89/200: 100%|██████████| 352/352 [00:19<00:00, 17.71it/s]\n",
      "                                                           \r"
     ]
    },
    {
     "name": "stdout",
     "output_type": "stream",
     "text": [
      "Epoch 89/200 – Loss: 0.8114, Val Accuracy: 71.82%\n",
      "No improvement in validation accuracy. Patience counter: 10/20\n"
     ]
    },
    {
     "name": "stderr",
     "output_type": "stream",
     "text": [
      "Training Epoch 90/200: 100%|██████████| 352/352 [00:19<00:00, 17.66it/s]\n",
      "                                                           \r"
     ]
    },
    {
     "name": "stdout",
     "output_type": "stream",
     "text": [
      "Epoch 90/200 – Loss: 0.8024, Val Accuracy: 71.30%\n",
      "No improvement in validation accuracy. Patience counter: 11/20\n"
     ]
    },
    {
     "name": "stderr",
     "output_type": "stream",
     "text": [
      "Training Epoch 91/200: 100%|██████████| 352/352 [00:19<00:00, 17.67it/s]\n",
      "                                                           \r"
     ]
    },
    {
     "name": "stdout",
     "output_type": "stream",
     "text": [
      "Epoch 91/200 – Loss: 0.8028, Val Accuracy: 71.90%\n",
      "No improvement in validation accuracy. Patience counter: 12/20\n"
     ]
    },
    {
     "name": "stderr",
     "output_type": "stream",
     "text": [
      "Training Epoch 92/200: 100%|██████████| 352/352 [00:19<00:00, 17.77it/s]\n",
      "                                                           \r"
     ]
    },
    {
     "name": "stdout",
     "output_type": "stream",
     "text": [
      "Epoch 92/200 – Loss: 0.8039, Val Accuracy: 71.90%\n",
      "No improvement in validation accuracy. Patience counter: 13/20\n"
     ]
    },
    {
     "name": "stderr",
     "output_type": "stream",
     "text": [
      "Training Epoch 93/200: 100%|██████████| 352/352 [00:20<00:00, 17.52it/s]\n",
      "                                                           \r"
     ]
    },
    {
     "name": "stdout",
     "output_type": "stream",
     "text": [
      "Epoch 93/200 – Loss: 0.8066, Val Accuracy: 71.04%\n",
      "No improvement in validation accuracy. Patience counter: 14/20\n"
     ]
    },
    {
     "name": "stderr",
     "output_type": "stream",
     "text": [
      "Training Epoch 94/200: 100%|██████████| 352/352 [00:19<00:00, 17.67it/s]\n",
      "                                                           \r"
     ]
    },
    {
     "name": "stdout",
     "output_type": "stream",
     "text": [
      "Epoch 94/200 – Loss: 0.8044, Val Accuracy: 71.44%\n",
      "No improvement in validation accuracy. Patience counter: 15/20\n"
     ]
    },
    {
     "name": "stderr",
     "output_type": "stream",
     "text": [
      "Training Epoch 95/200: 100%|██████████| 352/352 [00:19<00:00, 17.80it/s]\n",
      "                                                           \r"
     ]
    },
    {
     "name": "stdout",
     "output_type": "stream",
     "text": [
      "Epoch 95/200 – Loss: 0.8052, Val Accuracy: 72.56%\n",
      "No improvement in validation accuracy. Patience counter: 16/20\n"
     ]
    },
    {
     "name": "stderr",
     "output_type": "stream",
     "text": [
      "Training Epoch 96/200: 100%|██████████| 352/352 [00:19<00:00, 17.80it/s]\n",
      "                                                           \r"
     ]
    },
    {
     "name": "stdout",
     "output_type": "stream",
     "text": [
      "Epoch 96/200 – Loss: 0.8038, Val Accuracy: 71.80%\n",
      "No improvement in validation accuracy. Patience counter: 17/20\n"
     ]
    },
    {
     "name": "stderr",
     "output_type": "stream",
     "text": [
      "Training Epoch 97/200: 100%|██████████| 352/352 [00:19<00:00, 17.74it/s]\n",
      "                                                           \r"
     ]
    },
    {
     "name": "stdout",
     "output_type": "stream",
     "text": [
      "Epoch 97/200 – Loss: 0.8020, Val Accuracy: 71.62%\n",
      "No improvement in validation accuracy. Patience counter: 18/20\n"
     ]
    },
    {
     "name": "stderr",
     "output_type": "stream",
     "text": [
      "Training Epoch 98/200: 100%|██████████| 352/352 [00:19<00:00, 17.79it/s]\n",
      "                                                           \r"
     ]
    },
    {
     "name": "stdout",
     "output_type": "stream",
     "text": [
      "Epoch 98/200 – Loss: 0.7989, Val Accuracy: 71.82%\n",
      "No improvement in validation accuracy. Patience counter: 19/20\n"
     ]
    },
    {
     "name": "stderr",
     "output_type": "stream",
     "text": [
      "Training Epoch 99/200: 100%|██████████| 352/352 [00:19<00:00, 17.62it/s]\n",
      "                                                           \r"
     ]
    },
    {
     "name": "stdout",
     "output_type": "stream",
     "text": [
      "Epoch 99/200 – Loss: 0.8020, Val Accuracy: 72.46%\n",
      "No improvement in validation accuracy. Patience counter: 20/20\n",
      "Early stopping triggered after 99 epochs.\n"
     ]
    },
    {
     "name": "stderr",
     "output_type": "stream",
     "text": [
      "                                                                 "
     ]
    },
    {
     "name": "stdout",
     "output_type": "stream",
     "text": [
      "\n",
      "Best FP32 Model – Test Accuracy: 72.05%\n",
      "Average FP32 Inference Latency (CPU): 261.23 ms/batch\n"
     ]
    },
    {
     "name": "stderr",
     "output_type": "stream",
     "text": [
      "\r"
     ]
    }
   ],
   "source": [
    "\n",
    "\n",
    "def evaluate_accuracy_and_latency(model, loader, device, num_batches=None, desc=\"Evaluating\"):\n",
    "    model.eval()\n",
    "    model.to(device)\n",
    "    correct = total = 0\n",
    "    latencies = []\n",
    "    with torch.no_grad():\n",
    "        for i, (imgs, labels) in enumerate(tqdm(loader, desc=desc, leave=False)):\n",
    "            if num_batches is not None and i >= num_batches:\n",
    "                break\n",
    "            imgs, labels = imgs.to(device), labels.to(device)\n",
    "            start_time = time.time()\n",
    "            outputs = model(imgs)\n",
    "            latency = (time.time() - start_time) * 1000  # Latency in ms/batch\n",
    "            latencies.append(latency)\n",
    "            preds = outputs.argmax(dim=1)\n",
    "            correct += (preds == labels).sum().item()\n",
    "            total += labels.size(0)\n",
    "    accuracy = 100.0 * correct / total\n",
    "    avg_latency = sum(latencies) / len(latencies)\n",
    "    return accuracy, avg_latency\n",
    "\n",
    "def main():\n",
    "    train_device = torch.device('cuda' if torch.cuda.is_available() else 'cpu')\n",
    "    assert train_device.type == 'cuda', \"GPU not available for training/validation\"\n",
    "    test_device = torch.device('cpu')\n",
    "\n",
    "    model = resnet50(pretrained=False, num_classes=100)\n",
    "    # Modify conv1 and maxpool for 32x32 inputs\n",
    "    model.conv1 = nn.Conv2d(3, 64, kernel_size=3, stride=1, padding=0, bias=False)\n",
    "    model.maxpool = nn.Identity()  # Remove maxpool to preserve spatial dimensions\n",
    "    model.to(train_device)\n",
    "\n",
    "    optimizer = optim.AdamW(model.parameters(), lr=1e-3, weight_decay=1e-4)\n",
    "    scheduler = optim.lr_scheduler.CosineAnnealingLR(optimizer, T_max=200)\n",
    "    criterion = nn.CrossEntropyLoss(label_smoothing=0.1)\n",
    "    best_val_acc = 0.0\n",
    "    best_model_path = 'best_fp32_resnet50_cifar100_32x32_200.pth'\n",
    "    epochs = 200\n",
    "    patience = 20\n",
    "    patience_counter = 0\n",
    "\n",
    "    for epoch in range(epochs):\n",
    "        model.train()\n",
    "        running_loss = 0.0\n",
    "        for imgs, targets in tqdm(train_loader, desc=f\"Training Epoch {epoch+1}/{epochs}\", leave=True):\n",
    "            imgs, targets = imgs.to(train_device), targets.to(train_device)\n",
    "            optimizer.zero_grad()\n",
    "            outputs = model(imgs)\n",
    "            loss = criterion(outputs, targets)\n",
    "            loss.backward()\n",
    "            optimizer.step()\n",
    "            running_loss += loss.item() * imgs.size(0)\n",
    "\n",
    "        val_acc, _ = evaluate_accuracy_and_latency(model, val_loader, train_device, desc=\"Validating\")\n",
    "        print(f\"Epoch {epoch+1}/{epochs} – Loss: {running_loss/len(train_idx):.4f}, Val Accuracy: {val_acc:.2f}%\")\n",
    "\n",
    "        if val_acc > best_val_acc:\n",
    "            best_val_acc = val_acc\n",
    "            torch.save(model.state_dict(), best_model_path)\n",
    "            print(f\"Saved best FP32 model with Val Accuracy: {best_val_acc:.2f}%\")\n",
    "            patience_counter = 0\n",
    "        else:\n",
    "            patience_counter += 1\n",
    "            print(f\"No improvement in validation accuracy. Patience counter: {patience_counter}/{patience}\")\n",
    "\n",
    "        if patience_counter >= patience:\n",
    "            print(f\"Early stopping triggered after {epoch+1} epochs.\")\n",
    "            break\n",
    "\n",
    "        scheduler.step()\n",
    "\n",
    "    model.load_state_dict(torch.load(best_model_path))\n",
    "    test_acc, avg_latency = evaluate_accuracy_and_latency(model, test_loader, test_device, desc=\"Testing FP32\")\n",
    "    print(f\"\\nBest FP32 Model – Test Accuracy: {test_acc:.2f}%\")\n",
    "    print(f\"Average FP32 Inference Latency (CPU): {avg_latency:.2f} ms/batch\")\n",
    "\n",
    "if __name__ == '__main__':\n",
    "    main()"
   ]
  },
  {
   "cell_type": "markdown",
   "id": "8143e980-1a60-404b-9eb0-2de79a5287c8",
   "metadata": {},
   "source": [
    "# QAT "
   ]
  },
  {
   "cell_type": "code",
   "execution_count": 7,
   "id": "6b62138d-4dea-4b94-8e20-6fa7e4ef12e0",
   "metadata": {},
   "outputs": [
    {
     "name": "stderr",
     "output_type": "stream",
     "text": [
      "Validating: 100%|██████████| 20/20 [00:01<00:00, 10.98it/s]            \n"
     ]
    },
    {
     "name": "stdout",
     "output_type": "stream",
     "text": [
      "Epoch 1/200 – Loss: 4.1797, ValAcc: 14.60%\n",
      "Saved best QAT model with ValAcc: 14.60%\n"
     ]
    },
    {
     "name": "stderr",
     "output_type": "stream",
     "text": [
      "Validating: 100%|██████████| 20/20 [00:01<00:00, 11.55it/s]            \n"
     ]
    },
    {
     "name": "stdout",
     "output_type": "stream",
     "text": [
      "Epoch 2/200 – Loss: 3.5307, ValAcc: 21.30%\n",
      "Saved best QAT model with ValAcc: 21.30%\n"
     ]
    },
    {
     "name": "stderr",
     "output_type": "stream",
     "text": [
      "Validating: 100%|██████████| 20/20 [00:01<00:00, 11.09it/s]            \n"
     ]
    },
    {
     "name": "stdout",
     "output_type": "stream",
     "text": [
      "Epoch 3/200 – Loss: 3.0942, ValAcc: 30.14%\n",
      "Saved best QAT model with ValAcc: 30.14%\n"
     ]
    },
    {
     "name": "stderr",
     "output_type": "stream",
     "text": [
      "Validating: 100%|██████████| 20/20 [00:01<00:00, 11.05it/s]            \n"
     ]
    },
    {
     "name": "stdout",
     "output_type": "stream",
     "text": [
      "Epoch 4/200 – Loss: 2.7711, ValAcc: 39.28%\n",
      "Saved best QAT model with ValAcc: 39.28%\n"
     ]
    },
    {
     "name": "stderr",
     "output_type": "stream",
     "text": [
      "Validating: 100%|██████████| 20/20 [00:01<00:00, 11.11it/s]            \n"
     ]
    },
    {
     "name": "stdout",
     "output_type": "stream",
     "text": [
      "Epoch 5/200 – Loss: 2.5544, ValAcc: 43.22%\n",
      "Saved best QAT model with ValAcc: 43.22%\n"
     ]
    },
    {
     "name": "stderr",
     "output_type": "stream",
     "text": [
      "Validating: 100%|██████████| 20/20 [00:01<00:00, 11.14it/s]            \n"
     ]
    },
    {
     "name": "stdout",
     "output_type": "stream",
     "text": [
      "Epoch 6/200 – Loss: 2.3797, ValAcc: 49.88%\n",
      "Saved best QAT model with ValAcc: 49.88%\n"
     ]
    },
    {
     "name": "stderr",
     "output_type": "stream",
     "text": [
      "Validating: 100%|██████████| 20/20 [00:01<00:00, 10.98it/s]            \n"
     ]
    },
    {
     "name": "stdout",
     "output_type": "stream",
     "text": [
      "Epoch 7/200 – Loss: 2.2297, ValAcc: 51.54%\n",
      "Saved best QAT model with ValAcc: 51.54%\n"
     ]
    },
    {
     "name": "stderr",
     "output_type": "stream",
     "text": [
      "Validating: 100%|██████████| 20/20 [00:01<00:00, 11.14it/s]            \n"
     ]
    },
    {
     "name": "stdout",
     "output_type": "stream",
     "text": [
      "Epoch 8/200 – Loss: 2.0960, ValAcc: 53.00%\n",
      "Saved best QAT model with ValAcc: 53.00%\n"
     ]
    },
    {
     "name": "stderr",
     "output_type": "stream",
     "text": [
      "Validating: 100%|██████████| 20/20 [00:01<00:00, 11.00it/s]            \n"
     ]
    },
    {
     "name": "stdout",
     "output_type": "stream",
     "text": [
      "Epoch 9/200 – Loss: 1.9876, ValAcc: 55.80%\n",
      "Saved best QAT model with ValAcc: 55.80%\n"
     ]
    },
    {
     "name": "stderr",
     "output_type": "stream",
     "text": [
      "Validating: 100%|██████████| 20/20 [00:01<00:00, 11.09it/s]             \n"
     ]
    },
    {
     "name": "stdout",
     "output_type": "stream",
     "text": [
      "Epoch 10/200 – Loss: 1.9146, ValAcc: 57.02%\n",
      "Saved best QAT model with ValAcc: 57.02%\n"
     ]
    },
    {
     "name": "stderr",
     "output_type": "stream",
     "text": [
      "Validating: 100%|██████████| 20/20 [00:01<00:00, 11.23it/s]             \n"
     ]
    },
    {
     "name": "stdout",
     "output_type": "stream",
     "text": [
      "Epoch 11/200 – Loss: 1.8503, ValAcc: 59.12%\n",
      "Saved best QAT model with ValAcc: 59.12%\n"
     ]
    },
    {
     "name": "stderr",
     "output_type": "stream",
     "text": [
      "Validating: 100%|██████████| 20/20 [00:01<00:00, 11.04it/s]             \n"
     ]
    },
    {
     "name": "stdout",
     "output_type": "stream",
     "text": [
      "Epoch 12/200 – Loss: 1.7686, ValAcc: 60.58%\n",
      "Saved best QAT model with ValAcc: 60.58%\n"
     ]
    },
    {
     "name": "stderr",
     "output_type": "stream",
     "text": [
      "Validating: 100%|██████████| 20/20 [00:01<00:00, 10.95it/s]             \n"
     ]
    },
    {
     "name": "stdout",
     "output_type": "stream",
     "text": [
      "Epoch 13/200 – Loss: 1.6922, ValAcc: 63.40%\n",
      "Saved best QAT model with ValAcc: 63.40%\n"
     ]
    },
    {
     "name": "stderr",
     "output_type": "stream",
     "text": [
      "Validating: 100%|██████████| 20/20 [00:01<00:00, 11.08it/s]             \n"
     ]
    },
    {
     "name": "stdout",
     "output_type": "stream",
     "text": [
      "Epoch 14/200 – Loss: 1.6132, ValAcc: 62.18%\n",
      "No improvement in validation accuracy. Patience counter: 1/20\n"
     ]
    },
    {
     "name": "stderr",
     "output_type": "stream",
     "text": [
      "Validating: 100%|██████████| 20/20 [00:01<00:00, 10.96it/s]             \n"
     ]
    },
    {
     "name": "stdout",
     "output_type": "stream",
     "text": [
      "Epoch 15/200 – Loss: 1.5733, ValAcc: 62.74%\n",
      "No improvement in validation accuracy. Patience counter: 2/20\n"
     ]
    },
    {
     "name": "stderr",
     "output_type": "stream",
     "text": [
      "Validating: 100%|██████████| 20/20 [00:01<00:00, 11.11it/s]             \n"
     ]
    },
    {
     "name": "stdout",
     "output_type": "stream",
     "text": [
      "Epoch 16/200 – Loss: 1.5073, ValAcc: 65.04%\n",
      "Saved best QAT model with ValAcc: 65.04%\n"
     ]
    },
    {
     "name": "stderr",
     "output_type": "stream",
     "text": [
      "Validating: 100%|██████████| 20/20 [00:01<00:00, 11.14it/s]             \n"
     ]
    },
    {
     "name": "stdout",
     "output_type": "stream",
     "text": [
      "Epoch 17/200 – Loss: 1.4532, ValAcc: 65.10%\n",
      "Saved best QAT model with ValAcc: 65.10%\n"
     ]
    },
    {
     "name": "stderr",
     "output_type": "stream",
     "text": [
      "Validating: 100%|██████████| 20/20 [00:01<00:00, 10.99it/s]             \n"
     ]
    },
    {
     "name": "stdout",
     "output_type": "stream",
     "text": [
      "Epoch 18/200 – Loss: 1.3895, ValAcc: 64.74%\n",
      "No improvement in validation accuracy. Patience counter: 1/20\n"
     ]
    },
    {
     "name": "stderr",
     "output_type": "stream",
     "text": [
      "Validating: 100%|██████████| 20/20 [00:01<00:00, 11.06it/s]             \n"
     ]
    },
    {
     "name": "stdout",
     "output_type": "stream",
     "text": [
      "Epoch 19/200 – Loss: 1.3361, ValAcc: 65.86%\n",
      "Saved best QAT model with ValAcc: 65.86%\n"
     ]
    },
    {
     "name": "stderr",
     "output_type": "stream",
     "text": [
      "Validating: 100%|██████████| 20/20 [00:01<00:00, 11.09it/s]             \n"
     ]
    },
    {
     "name": "stdout",
     "output_type": "stream",
     "text": [
      "Epoch 20/200 – Loss: 1.2853, ValAcc: 65.60%\n",
      "No improvement in validation accuracy. Patience counter: 1/20\n"
     ]
    },
    {
     "name": "stderr",
     "output_type": "stream",
     "text": [
      "Validating: 100%|██████████| 20/20 [00:01<00:00, 11.22it/s]             \n"
     ]
    },
    {
     "name": "stdout",
     "output_type": "stream",
     "text": [
      "Epoch 21/200 – Loss: 1.2457, ValAcc: 66.06%\n",
      "Saved best QAT model with ValAcc: 66.06%\n"
     ]
    },
    {
     "name": "stderr",
     "output_type": "stream",
     "text": [
      "Validating: 100%|██████████| 20/20 [00:01<00:00, 11.00it/s]             \n"
     ]
    },
    {
     "name": "stdout",
     "output_type": "stream",
     "text": [
      "Epoch 22/200 – Loss: 1.2147, ValAcc: 64.18%\n",
      "No improvement in validation accuracy. Patience counter: 1/20\n"
     ]
    },
    {
     "name": "stderr",
     "output_type": "stream",
     "text": [
      "Validating: 100%|██████████| 20/20 [00:01<00:00, 11.06it/s]             \n"
     ]
    },
    {
     "name": "stdout",
     "output_type": "stream",
     "text": [
      "Epoch 23/200 – Loss: 1.1694, ValAcc: 66.14%\n",
      "Saved best QAT model with ValAcc: 66.14%\n"
     ]
    },
    {
     "name": "stderr",
     "output_type": "stream",
     "text": [
      "Validating: 100%|██████████| 20/20 [00:01<00:00, 11.08it/s]             \n"
     ]
    },
    {
     "name": "stdout",
     "output_type": "stream",
     "text": [
      "Epoch 24/200 – Loss: 1.1390, ValAcc: 67.20%\n",
      "Saved best QAT model with ValAcc: 67.20%\n"
     ]
    },
    {
     "name": "stderr",
     "output_type": "stream",
     "text": [
      "Validating: 100%|██████████| 20/20 [00:01<00:00, 10.98it/s]             \n"
     ]
    },
    {
     "name": "stdout",
     "output_type": "stream",
     "text": [
      "Epoch 25/200 – Loss: 1.1207, ValAcc: 66.50%\n",
      "No improvement in validation accuracy. Patience counter: 1/20\n"
     ]
    },
    {
     "name": "stderr",
     "output_type": "stream",
     "text": [
      "Validating: 100%|██████████| 20/20 [00:01<00:00, 11.13it/s]             \n"
     ]
    },
    {
     "name": "stdout",
     "output_type": "stream",
     "text": [
      "Epoch 26/200 – Loss: 1.0903, ValAcc: 67.20%\n",
      "No improvement in validation accuracy. Patience counter: 2/20\n"
     ]
    },
    {
     "name": "stderr",
     "output_type": "stream",
     "text": [
      "Validating: 100%|██████████| 20/20 [00:01<00:00, 11.05it/s]             \n"
     ]
    },
    {
     "name": "stdout",
     "output_type": "stream",
     "text": [
      "Epoch 27/200 – Loss: 1.0499, ValAcc: 67.96%\n",
      "Saved best QAT model with ValAcc: 67.96%\n"
     ]
    },
    {
     "name": "stderr",
     "output_type": "stream",
     "text": [
      "Validating: 100%|██████████| 20/20 [00:01<00:00, 11.08it/s]             \n"
     ]
    },
    {
     "name": "stdout",
     "output_type": "stream",
     "text": [
      "Epoch 28/200 – Loss: 1.0165, ValAcc: 69.28%\n",
      "Saved best QAT model with ValAcc: 69.28%\n"
     ]
    },
    {
     "name": "stderr",
     "output_type": "stream",
     "text": [
      "Validating: 100%|██████████| 20/20 [00:01<00:00, 11.02it/s]             \n"
     ]
    },
    {
     "name": "stdout",
     "output_type": "stream",
     "text": [
      "Epoch 29/200 – Loss: 1.0080, ValAcc: 68.34%\n",
      "No improvement in validation accuracy. Patience counter: 1/20\n"
     ]
    },
    {
     "name": "stderr",
     "output_type": "stream",
     "text": [
      "Validating: 100%|██████████| 20/20 [00:01<00:00, 10.15it/s]             \n"
     ]
    },
    {
     "name": "stdout",
     "output_type": "stream",
     "text": [
      "Epoch 30/200 – Loss: 0.9885, ValAcc: 67.60%\n",
      "No improvement in validation accuracy. Patience counter: 2/20\n"
     ]
    },
    {
     "name": "stderr",
     "output_type": "stream",
     "text": [
      "Validating: 100%|██████████| 20/20 [00:01<00:00, 11.01it/s]             \n"
     ]
    },
    {
     "name": "stdout",
     "output_type": "stream",
     "text": [
      "Epoch 31/200 – Loss: 0.9817, ValAcc: 68.72%\n",
      "No improvement in validation accuracy. Patience counter: 3/20\n"
     ]
    },
    {
     "name": "stderr",
     "output_type": "stream",
     "text": [
      "Validating: 100%|██████████| 20/20 [00:01<00:00, 11.05it/s]             \n"
     ]
    },
    {
     "name": "stdout",
     "output_type": "stream",
     "text": [
      "Epoch 32/200 – Loss: 0.9708, ValAcc: 68.66%\n",
      "No improvement in validation accuracy. Patience counter: 4/20\n"
     ]
    },
    {
     "name": "stderr",
     "output_type": "stream",
     "text": [
      "Validating: 100%|██████████| 20/20 [00:01<00:00, 10.94it/s]             \n"
     ]
    },
    {
     "name": "stdout",
     "output_type": "stream",
     "text": [
      "Epoch 33/200 – Loss: 0.9433, ValAcc: 70.38%\n",
      "Saved best QAT model with ValAcc: 70.38%\n"
     ]
    },
    {
     "name": "stderr",
     "output_type": "stream",
     "text": [
      "Validating: 100%|██████████| 20/20 [00:01<00:00, 11.05it/s]             \n"
     ]
    },
    {
     "name": "stdout",
     "output_type": "stream",
     "text": [
      "Epoch 34/200 – Loss: 0.9209, ValAcc: 68.72%\n",
      "No improvement in validation accuracy. Patience counter: 1/20\n"
     ]
    },
    {
     "name": "stderr",
     "output_type": "stream",
     "text": [
      "Validating: 100%|██████████| 20/20 [00:01<00:00, 10.92it/s]             \n"
     ]
    },
    {
     "name": "stdout",
     "output_type": "stream",
     "text": [
      "Epoch 35/200 – Loss: 0.9232, ValAcc: 68.88%\n",
      "No improvement in validation accuracy. Patience counter: 2/20\n"
     ]
    },
    {
     "name": "stderr",
     "output_type": "stream",
     "text": [
      "Validating: 100%|██████████| 20/20 [00:01<00:00, 11.01it/s]             \n"
     ]
    },
    {
     "name": "stdout",
     "output_type": "stream",
     "text": [
      "Epoch 36/200 – Loss: 0.9136, ValAcc: 70.38%\n",
      "No improvement in validation accuracy. Patience counter: 3/20\n"
     ]
    },
    {
     "name": "stderr",
     "output_type": "stream",
     "text": [
      "Validating: 100%|██████████| 20/20 [00:01<00:00, 10.98it/s]             \n"
     ]
    },
    {
     "name": "stdout",
     "output_type": "stream",
     "text": [
      "Epoch 37/200 – Loss: 0.9021, ValAcc: 68.92%\n",
      "No improvement in validation accuracy. Patience counter: 4/20\n"
     ]
    },
    {
     "name": "stderr",
     "output_type": "stream",
     "text": [
      "Validating: 100%|██████████| 20/20 [00:01<00:00, 10.96it/s]             \n"
     ]
    },
    {
     "name": "stdout",
     "output_type": "stream",
     "text": [
      "Epoch 38/200 – Loss: 0.8976, ValAcc: 69.44%\n",
      "No improvement in validation accuracy. Patience counter: 5/20\n"
     ]
    },
    {
     "name": "stderr",
     "output_type": "stream",
     "text": [
      "Validating: 100%|██████████| 20/20 [00:01<00:00, 11.16it/s]             \n"
     ]
    },
    {
     "name": "stdout",
     "output_type": "stream",
     "text": [
      "Epoch 39/200 – Loss: 0.8867, ValAcc: 70.32%\n",
      "No improvement in validation accuracy. Patience counter: 6/20\n"
     ]
    },
    {
     "name": "stderr",
     "output_type": "stream",
     "text": [
      "Validating: 100%|██████████| 20/20 [00:01<00:00, 10.99it/s]             \n"
     ]
    },
    {
     "name": "stdout",
     "output_type": "stream",
     "text": [
      "Epoch 40/200 – Loss: 0.8803, ValAcc: 71.02%\n",
      "Saved best QAT model with ValAcc: 71.02%\n"
     ]
    },
    {
     "name": "stderr",
     "output_type": "stream",
     "text": [
      "Validating: 100%|██████████| 20/20 [00:01<00:00, 11.10it/s]             \n"
     ]
    },
    {
     "name": "stdout",
     "output_type": "stream",
     "text": [
      "Epoch 41/200 – Loss: 0.8757, ValAcc: 71.16%\n",
      "Saved best QAT model with ValAcc: 71.16%\n"
     ]
    },
    {
     "name": "stderr",
     "output_type": "stream",
     "text": [
      "Validating: 100%|██████████| 20/20 [00:01<00:00, 10.95it/s]             \n"
     ]
    },
    {
     "name": "stdout",
     "output_type": "stream",
     "text": [
      "Epoch 42/200 – Loss: 0.8703, ValAcc: 70.06%\n",
      "No improvement in validation accuracy. Patience counter: 1/20\n"
     ]
    },
    {
     "name": "stderr",
     "output_type": "stream",
     "text": [
      "Validating: 100%|██████████| 20/20 [00:01<00:00, 11.17it/s]             \n"
     ]
    },
    {
     "name": "stdout",
     "output_type": "stream",
     "text": [
      "Epoch 43/200 – Loss: 0.8635, ValAcc: 70.68%\n",
      "No improvement in validation accuracy. Patience counter: 2/20\n"
     ]
    },
    {
     "name": "stderr",
     "output_type": "stream",
     "text": [
      "Validating: 100%|██████████| 20/20 [00:01<00:00, 11.01it/s]             \n"
     ]
    },
    {
     "name": "stdout",
     "output_type": "stream",
     "text": [
      "Epoch 44/200 – Loss: 0.8591, ValAcc: 71.28%\n",
      "Saved best QAT model with ValAcc: 71.28%\n"
     ]
    },
    {
     "name": "stderr",
     "output_type": "stream",
     "text": [
      "Validating: 100%|██████████| 20/20 [00:01<00:00, 11.08it/s]             \n"
     ]
    },
    {
     "name": "stdout",
     "output_type": "stream",
     "text": [
      "Epoch 45/200 – Loss: 0.8521, ValAcc: 71.32%\n",
      "Saved best QAT model with ValAcc: 71.32%\n"
     ]
    },
    {
     "name": "stderr",
     "output_type": "stream",
     "text": [
      "Validating: 100%|██████████| 20/20 [00:01<00:00, 11.06it/s]             \n"
     ]
    },
    {
     "name": "stdout",
     "output_type": "stream",
     "text": [
      "Epoch 46/200 – Loss: 0.8598, ValAcc: 71.06%\n",
      "No improvement in validation accuracy. Patience counter: 1/20\n"
     ]
    },
    {
     "name": "stderr",
     "output_type": "stream",
     "text": [
      "Validating: 100%|██████████| 20/20 [00:01<00:00, 10.91it/s]             \n"
     ]
    },
    {
     "name": "stdout",
     "output_type": "stream",
     "text": [
      "Epoch 47/200 – Loss: 0.8501, ValAcc: 70.92%\n",
      "No improvement in validation accuracy. Patience counter: 2/20\n"
     ]
    },
    {
     "name": "stderr",
     "output_type": "stream",
     "text": [
      "Validating: 100%|██████████| 20/20 [00:01<00:00, 11.15it/s]             \n"
     ]
    },
    {
     "name": "stdout",
     "output_type": "stream",
     "text": [
      "Epoch 48/200 – Loss: 0.8399, ValAcc: 72.14%\n",
      "Saved best QAT model with ValAcc: 72.14%\n"
     ]
    },
    {
     "name": "stderr",
     "output_type": "stream",
     "text": [
      "Validating: 100%|██████████| 20/20 [00:01<00:00, 11.06it/s]             \n"
     ]
    },
    {
     "name": "stdout",
     "output_type": "stream",
     "text": [
      "Epoch 49/200 – Loss: 0.8362, ValAcc: 71.72%\n",
      "No improvement in validation accuracy. Patience counter: 1/20\n"
     ]
    },
    {
     "name": "stderr",
     "output_type": "stream",
     "text": [
      "Validating: 100%|██████████| 20/20 [00:01<00:00, 11.18it/s]             \n"
     ]
    },
    {
     "name": "stdout",
     "output_type": "stream",
     "text": [
      "Epoch 50/200 – Loss: 0.8345, ValAcc: 71.74%\n",
      "No improvement in validation accuracy. Patience counter: 2/20\n"
     ]
    },
    {
     "name": "stderr",
     "output_type": "stream",
     "text": [
      "Validating: 100%|██████████| 20/20 [00:01<00:00, 11.07it/s]             \n"
     ]
    },
    {
     "name": "stdout",
     "output_type": "stream",
     "text": [
      "Epoch 51/200 – Loss: 0.8321, ValAcc: 71.08%\n",
      "No improvement in validation accuracy. Patience counter: 3/20\n"
     ]
    },
    {
     "name": "stderr",
     "output_type": "stream",
     "text": [
      "Validating: 100%|██████████| 20/20 [00:01<00:00, 11.02it/s]             \n"
     ]
    },
    {
     "name": "stdout",
     "output_type": "stream",
     "text": [
      "Epoch 52/200 – Loss: 0.8270, ValAcc: 71.44%\n",
      "No improvement in validation accuracy. Patience counter: 4/20\n"
     ]
    },
    {
     "name": "stderr",
     "output_type": "stream",
     "text": [
      "Validating: 100%|██████████| 20/20 [00:01<00:00, 11.05it/s]             \n"
     ]
    },
    {
     "name": "stdout",
     "output_type": "stream",
     "text": [
      "Epoch 53/200 – Loss: 0.8241, ValAcc: 71.98%\n",
      "No improvement in validation accuracy. Patience counter: 5/20\n"
     ]
    },
    {
     "name": "stderr",
     "output_type": "stream",
     "text": [
      "Validating: 100%|██████████| 20/20 [00:01<00:00, 11.10it/s]             \n"
     ]
    },
    {
     "name": "stdout",
     "output_type": "stream",
     "text": [
      "Epoch 54/200 – Loss: 0.8206, ValAcc: 72.44%\n",
      "Saved best QAT model with ValAcc: 72.44%\n"
     ]
    },
    {
     "name": "stderr",
     "output_type": "stream",
     "text": [
      "Validating: 100%|██████████| 20/20 [00:01<00:00, 10.97it/s]             \n"
     ]
    },
    {
     "name": "stdout",
     "output_type": "stream",
     "text": [
      "Epoch 55/200 – Loss: 0.8177, ValAcc: 71.96%\n",
      "No improvement in validation accuracy. Patience counter: 1/20\n"
     ]
    },
    {
     "name": "stderr",
     "output_type": "stream",
     "text": [
      "Validating: 100%|██████████| 20/20 [00:01<00:00, 11.10it/s]             \n"
     ]
    },
    {
     "name": "stdout",
     "output_type": "stream",
     "text": [
      "Epoch 56/200 – Loss: 0.8153, ValAcc: 72.28%\n",
      "No improvement in validation accuracy. Patience counter: 2/20\n"
     ]
    },
    {
     "name": "stderr",
     "output_type": "stream",
     "text": [
      "Validating: 100%|██████████| 20/20 [00:01<00:00, 11.05it/s]             \n"
     ]
    },
    {
     "name": "stdout",
     "output_type": "stream",
     "text": [
      "Epoch 57/200 – Loss: 0.8142, ValAcc: 72.34%\n",
      "No improvement in validation accuracy. Patience counter: 3/20\n"
     ]
    },
    {
     "name": "stderr",
     "output_type": "stream",
     "text": [
      "Validating: 100%|██████████| 20/20 [00:01<00:00, 11.07it/s]             \n"
     ]
    },
    {
     "name": "stdout",
     "output_type": "stream",
     "text": [
      "Epoch 58/200 – Loss: 0.8119, ValAcc: 73.00%\n",
      "Saved best QAT model with ValAcc: 73.00%\n"
     ]
    },
    {
     "name": "stderr",
     "output_type": "stream",
     "text": [
      "Validating: 100%|██████████| 20/20 [00:01<00:00, 10.97it/s]             \n"
     ]
    },
    {
     "name": "stdout",
     "output_type": "stream",
     "text": [
      "Epoch 59/200 – Loss: 0.8111, ValAcc: 73.04%\n",
      "Saved best QAT model with ValAcc: 73.04%\n"
     ]
    },
    {
     "name": "stderr",
     "output_type": "stream",
     "text": [
      "Validating: 100%|██████████| 20/20 [00:01<00:00, 11.05it/s]             \n"
     ]
    },
    {
     "name": "stdout",
     "output_type": "stream",
     "text": [
      "Epoch 60/200 – Loss: 0.8082, ValAcc: 72.06%\n",
      "No improvement in validation accuracy. Patience counter: 1/20\n"
     ]
    },
    {
     "name": "stderr",
     "output_type": "stream",
     "text": [
      "Validating: 100%|██████████| 20/20 [00:01<00:00, 10.98it/s]             \n"
     ]
    },
    {
     "name": "stdout",
     "output_type": "stream",
     "text": [
      "Epoch 61/200 – Loss: 0.8058, ValAcc: 73.24%\n",
      "Saved best QAT model with ValAcc: 73.24%\n"
     ]
    },
    {
     "name": "stderr",
     "output_type": "stream",
     "text": [
      "Validating: 100%|██████████| 20/20 [00:01<00:00, 11.05it/s]             \n"
     ]
    },
    {
     "name": "stdout",
     "output_type": "stream",
     "text": [
      "Epoch 62/200 – Loss: 0.8053, ValAcc: 73.22%\n",
      "No improvement in validation accuracy. Patience counter: 1/20\n"
     ]
    },
    {
     "name": "stderr",
     "output_type": "stream",
     "text": [
      "Validating: 100%|██████████| 20/20 [00:01<00:00, 10.93it/s]             \n"
     ]
    },
    {
     "name": "stdout",
     "output_type": "stream",
     "text": [
      "Epoch 63/200 – Loss: 0.8042, ValAcc: 72.78%\n",
      "No improvement in validation accuracy. Patience counter: 2/20\n"
     ]
    },
    {
     "name": "stderr",
     "output_type": "stream",
     "text": [
      "Validating: 100%|██████████| 20/20 [00:01<00:00, 11.00it/s]             \n"
     ]
    },
    {
     "name": "stdout",
     "output_type": "stream",
     "text": [
      "Epoch 64/200 – Loss: 0.8027, ValAcc: 73.14%\n",
      "No improvement in validation accuracy. Patience counter: 3/20\n"
     ]
    },
    {
     "name": "stderr",
     "output_type": "stream",
     "text": [
      "Validating: 100%|██████████| 20/20 [00:01<00:00, 10.82it/s]             \n"
     ]
    },
    {
     "name": "stdout",
     "output_type": "stream",
     "text": [
      "Epoch 65/200 – Loss: 0.8017, ValAcc: 73.20%\n",
      "No improvement in validation accuracy. Patience counter: 4/20\n"
     ]
    },
    {
     "name": "stderr",
     "output_type": "stream",
     "text": [
      "Validating: 100%|██████████| 20/20 [00:01<00:00, 11.07it/s]             \n"
     ]
    },
    {
     "name": "stdout",
     "output_type": "stream",
     "text": [
      "Epoch 66/200 – Loss: 0.8017, ValAcc: 73.46%\n",
      "Saved best QAT model with ValAcc: 73.46%\n"
     ]
    },
    {
     "name": "stderr",
     "output_type": "stream",
     "text": [
      "Validating: 100%|██████████| 20/20 [00:01<00:00, 10.93it/s]             \n"
     ]
    },
    {
     "name": "stdout",
     "output_type": "stream",
     "text": [
      "Epoch 67/200 – Loss: 0.8005, ValAcc: 73.24%\n",
      "No improvement in validation accuracy. Patience counter: 1/20\n"
     ]
    },
    {
     "name": "stderr",
     "output_type": "stream",
     "text": [
      "Validating: 100%|██████████| 20/20 [00:01<00:00, 10.92it/s]             \n"
     ]
    },
    {
     "name": "stdout",
     "output_type": "stream",
     "text": [
      "Epoch 68/200 – Loss: 0.8004, ValAcc: 73.22%\n",
      "No improvement in validation accuracy. Patience counter: 2/20\n"
     ]
    },
    {
     "name": "stderr",
     "output_type": "stream",
     "text": [
      "Validating: 100%|██████████| 20/20 [00:01<00:00, 11.05it/s]             \n"
     ]
    },
    {
     "name": "stdout",
     "output_type": "stream",
     "text": [
      "Epoch 69/200 – Loss: 0.7992, ValAcc: 72.86%\n",
      "No improvement in validation accuracy. Patience counter: 3/20\n"
     ]
    },
    {
     "name": "stderr",
     "output_type": "stream",
     "text": [
      "Validating: 100%|██████████| 20/20 [00:01<00:00, 11.03it/s]             \n"
     ]
    },
    {
     "name": "stdout",
     "output_type": "stream",
     "text": [
      "Epoch 70/200 – Loss: 0.7984, ValAcc: 73.12%\n",
      "No improvement in validation accuracy. Patience counter: 4/20\n"
     ]
    },
    {
     "name": "stderr",
     "output_type": "stream",
     "text": [
      "Validating: 100%|██████████| 20/20 [00:01<00:00, 11.10it/s]             \n"
     ]
    },
    {
     "name": "stdout",
     "output_type": "stream",
     "text": [
      "Epoch 71/200 – Loss: 0.7973, ValAcc: 73.20%\n",
      "No improvement in validation accuracy. Patience counter: 5/20\n"
     ]
    },
    {
     "name": "stderr",
     "output_type": "stream",
     "text": [
      "Validating: 100%|██████████| 20/20 [00:01<00:00, 11.08it/s]             \n"
     ]
    },
    {
     "name": "stdout",
     "output_type": "stream",
     "text": [
      "Epoch 72/200 – Loss: 0.7972, ValAcc: 72.90%\n",
      "No improvement in validation accuracy. Patience counter: 6/20\n"
     ]
    },
    {
     "name": "stderr",
     "output_type": "stream",
     "text": [
      "Validating: 100%|██████████| 20/20 [00:01<00:00, 11.06it/s]             \n"
     ]
    },
    {
     "name": "stdout",
     "output_type": "stream",
     "text": [
      "Epoch 73/200 – Loss: 0.7963, ValAcc: 73.08%\n",
      "No improvement in validation accuracy. Patience counter: 7/20\n"
     ]
    },
    {
     "name": "stderr",
     "output_type": "stream",
     "text": [
      "Validating: 100%|██████████| 20/20 [00:01<00:00, 10.84it/s]             \n"
     ]
    },
    {
     "name": "stdout",
     "output_type": "stream",
     "text": [
      "Epoch 74/200 – Loss: 0.7960, ValAcc: 73.36%\n",
      "No improvement in validation accuracy. Patience counter: 8/20\n"
     ]
    },
    {
     "name": "stderr",
     "output_type": "stream",
     "text": [
      "Validating: 100%|██████████| 20/20 [00:01<00:00, 11.13it/s]             \n"
     ]
    },
    {
     "name": "stdout",
     "output_type": "stream",
     "text": [
      "Epoch 75/200 – Loss: 0.7960, ValAcc: 73.38%\n",
      "No improvement in validation accuracy. Patience counter: 9/20\n"
     ]
    },
    {
     "name": "stderr",
     "output_type": "stream",
     "text": [
      "Validating: 100%|██████████| 20/20 [00:01<00:00, 10.94it/s]             \n"
     ]
    },
    {
     "name": "stdout",
     "output_type": "stream",
     "text": [
      "Epoch 76/200 – Loss: 0.7956, ValAcc: 73.02%\n",
      "No improvement in validation accuracy. Patience counter: 10/20\n"
     ]
    },
    {
     "name": "stderr",
     "output_type": "stream",
     "text": [
      "Validating: 100%|██████████| 20/20 [00:01<00:00, 11.08it/s]             \n"
     ]
    },
    {
     "name": "stdout",
     "output_type": "stream",
     "text": [
      "Epoch 77/200 – Loss: 0.7957, ValAcc: 72.98%\n",
      "No improvement in validation accuracy. Patience counter: 11/20\n"
     ]
    },
    {
     "name": "stderr",
     "output_type": "stream",
     "text": [
      "Validating: 100%|██████████| 20/20 [00:01<00:00, 11.02it/s]             \n"
     ]
    },
    {
     "name": "stdout",
     "output_type": "stream",
     "text": [
      "Epoch 78/200 – Loss: 0.7954, ValAcc: 73.16%\n",
      "No improvement in validation accuracy. Patience counter: 12/20\n"
     ]
    },
    {
     "name": "stderr",
     "output_type": "stream",
     "text": [
      "Validating: 100%|██████████| 20/20 [00:01<00:00, 11.09it/s]             \n"
     ]
    },
    {
     "name": "stdout",
     "output_type": "stream",
     "text": [
      "Epoch 79/200 – Loss: 0.7957, ValAcc: 73.32%\n",
      "No improvement in validation accuracy. Patience counter: 13/20\n"
     ]
    },
    {
     "name": "stderr",
     "output_type": "stream",
     "text": [
      "Validating: 100%|██████████| 20/20 [00:01<00:00, 11.15it/s]             \n"
     ]
    },
    {
     "name": "stdout",
     "output_type": "stream",
     "text": [
      "Epoch 80/200 – Loss: 0.7954, ValAcc: 73.30%\n",
      "No improvement in validation accuracy. Patience counter: 14/20\n"
     ]
    },
    {
     "name": "stderr",
     "output_type": "stream",
     "text": [
      "Validating: 100%|██████████| 20/20 [00:01<00:00, 11.08it/s]             \n"
     ]
    },
    {
     "name": "stdout",
     "output_type": "stream",
     "text": [
      "Epoch 81/200 – Loss: 0.7955, ValAcc: 72.86%\n",
      "No improvement in validation accuracy. Patience counter: 15/20\n"
     ]
    },
    {
     "name": "stderr",
     "output_type": "stream",
     "text": [
      "Validating: 100%|██████████| 20/20 [00:01<00:00, 10.97it/s]             \n"
     ]
    },
    {
     "name": "stdout",
     "output_type": "stream",
     "text": [
      "Epoch 82/200 – Loss: 0.7952, ValAcc: 73.26%\n",
      "No improvement in validation accuracy. Patience counter: 16/20\n"
     ]
    },
    {
     "name": "stderr",
     "output_type": "stream",
     "text": [
      "Validating: 100%|██████████| 20/20 [00:01<00:00, 10.89it/s]             \n"
     ]
    },
    {
     "name": "stdout",
     "output_type": "stream",
     "text": [
      "Epoch 83/200 – Loss: 0.7958, ValAcc: 73.34%\n",
      "No improvement in validation accuracy. Patience counter: 17/20\n"
     ]
    },
    {
     "name": "stderr",
     "output_type": "stream",
     "text": [
      "Validating: 100%|██████████| 20/20 [00:01<00:00, 11.01it/s]             \n"
     ]
    },
    {
     "name": "stdout",
     "output_type": "stream",
     "text": [
      "Epoch 84/200 – Loss: 0.7953, ValAcc: 73.52%\n",
      "Saved best QAT model with ValAcc: 73.52%\n"
     ]
    },
    {
     "name": "stderr",
     "output_type": "stream",
     "text": [
      "Validating: 100%|██████████| 20/20 [00:01<00:00, 11.05it/s]             \n"
     ]
    },
    {
     "name": "stdout",
     "output_type": "stream",
     "text": [
      "Epoch 85/200 – Loss: 0.7950, ValAcc: 73.12%\n",
      "No improvement in validation accuracy. Patience counter: 1/20\n"
     ]
    },
    {
     "name": "stderr",
     "output_type": "stream",
     "text": [
      "Validating: 100%|██████████| 20/20 [00:01<00:00, 10.97it/s]             \n"
     ]
    },
    {
     "name": "stdout",
     "output_type": "stream",
     "text": [
      "Epoch 86/200 – Loss: 0.7954, ValAcc: 73.50%\n",
      "No improvement in validation accuracy. Patience counter: 2/20\n"
     ]
    },
    {
     "name": "stderr",
     "output_type": "stream",
     "text": [
      "Validating: 100%|██████████| 20/20 [00:01<00:00, 11.04it/s]             \n"
     ]
    },
    {
     "name": "stdout",
     "output_type": "stream",
     "text": [
      "Epoch 87/200 – Loss: 0.7953, ValAcc: 72.78%\n",
      "No improvement in validation accuracy. Patience counter: 3/20\n"
     ]
    },
    {
     "name": "stderr",
     "output_type": "stream",
     "text": [
      "Validating: 100%|██████████| 20/20 [00:01<00:00, 11.12it/s]             \n"
     ]
    },
    {
     "name": "stdout",
     "output_type": "stream",
     "text": [
      "Epoch 88/200 – Loss: 0.7955, ValAcc: 73.12%\n",
      "No improvement in validation accuracy. Patience counter: 4/20\n"
     ]
    },
    {
     "name": "stderr",
     "output_type": "stream",
     "text": [
      "Validating: 100%|██████████| 20/20 [00:01<00:00, 11.03it/s]             \n"
     ]
    },
    {
     "name": "stdout",
     "output_type": "stream",
     "text": [
      "Epoch 89/200 – Loss: 0.7952, ValAcc: 72.90%\n",
      "No improvement in validation accuracy. Patience counter: 5/20\n"
     ]
    },
    {
     "name": "stderr",
     "output_type": "stream",
     "text": [
      "Validating: 100%|██████████| 20/20 [00:01<00:00, 11.03it/s]             \n"
     ]
    },
    {
     "name": "stdout",
     "output_type": "stream",
     "text": [
      "Epoch 90/200 – Loss: 0.7955, ValAcc: 73.06%\n",
      "No improvement in validation accuracy. Patience counter: 6/20\n"
     ]
    },
    {
     "name": "stderr",
     "output_type": "stream",
     "text": [
      "Validating: 100%|██████████| 20/20 [00:01<00:00, 10.77it/s]             \n"
     ]
    },
    {
     "name": "stdout",
     "output_type": "stream",
     "text": [
      "Epoch 91/200 – Loss: 0.7955, ValAcc: 72.72%\n",
      "No improvement in validation accuracy. Patience counter: 7/20\n"
     ]
    },
    {
     "name": "stderr",
     "output_type": "stream",
     "text": [
      "Validating: 100%|██████████| 20/20 [00:01<00:00, 11.16it/s]             \n"
     ]
    },
    {
     "name": "stdout",
     "output_type": "stream",
     "text": [
      "Epoch 92/200 – Loss: 0.7963, ValAcc: 73.50%\n",
      "No improvement in validation accuracy. Patience counter: 8/20\n"
     ]
    },
    {
     "name": "stderr",
     "output_type": "stream",
     "text": [
      "Validating: 100%|██████████| 20/20 [00:01<00:00, 10.87it/s]             \n"
     ]
    },
    {
     "name": "stdout",
     "output_type": "stream",
     "text": [
      "Epoch 93/200 – Loss: 0.7961, ValAcc: 73.34%\n",
      "No improvement in validation accuracy. Patience counter: 9/20\n"
     ]
    },
    {
     "name": "stderr",
     "output_type": "stream",
     "text": [
      "Validating: 100%|██████████| 20/20 [00:01<00:00, 11.17it/s]             \n"
     ]
    },
    {
     "name": "stdout",
     "output_type": "stream",
     "text": [
      "Epoch 94/200 – Loss: 0.7957, ValAcc: 73.64%\n",
      "Saved best QAT model with ValAcc: 73.64%\n"
     ]
    },
    {
     "name": "stderr",
     "output_type": "stream",
     "text": [
      "Validating: 100%|██████████| 20/20 [00:01<00:00, 11.02it/s]             \n"
     ]
    },
    {
     "name": "stdout",
     "output_type": "stream",
     "text": [
      "Epoch 95/200 – Loss: 0.7962, ValAcc: 72.90%\n",
      "No improvement in validation accuracy. Patience counter: 1/20\n"
     ]
    },
    {
     "name": "stderr",
     "output_type": "stream",
     "text": [
      "Validating: 100%|██████████| 20/20 [00:01<00:00, 11.15it/s]             \n"
     ]
    },
    {
     "name": "stdout",
     "output_type": "stream",
     "text": [
      "Epoch 96/200 – Loss: 0.7968, ValAcc: 72.50%\n",
      "No improvement in validation accuracy. Patience counter: 2/20\n"
     ]
    },
    {
     "name": "stderr",
     "output_type": "stream",
     "text": [
      "Validating: 100%|██████████| 20/20 [00:01<00:00, 11.02it/s]             \n"
     ]
    },
    {
     "name": "stdout",
     "output_type": "stream",
     "text": [
      "Epoch 97/200 – Loss: 0.7973, ValAcc: 72.98%\n",
      "No improvement in validation accuracy. Patience counter: 3/20\n"
     ]
    },
    {
     "name": "stderr",
     "output_type": "stream",
     "text": [
      "Validating: 100%|██████████| 20/20 [00:01<00:00, 11.08it/s]             \n"
     ]
    },
    {
     "name": "stdout",
     "output_type": "stream",
     "text": [
      "Epoch 98/200 – Loss: 0.7981, ValAcc: 72.72%\n",
      "No improvement in validation accuracy. Patience counter: 4/20\n"
     ]
    },
    {
     "name": "stderr",
     "output_type": "stream",
     "text": [
      "Validating: 100%|██████████| 20/20 [00:01<00:00, 10.95it/s]             \n"
     ]
    },
    {
     "name": "stdout",
     "output_type": "stream",
     "text": [
      "Epoch 99/200 – Loss: 0.7983, ValAcc: 72.52%\n",
      "No improvement in validation accuracy. Patience counter: 5/20\n"
     ]
    },
    {
     "name": "stderr",
     "output_type": "stream",
     "text": [
      "Validating: 100%|██████████| 20/20 [00:01<00:00, 11.15it/s]              \n"
     ]
    },
    {
     "name": "stdout",
     "output_type": "stream",
     "text": [
      "Epoch 100/200 – Loss: 0.7981, ValAcc: 72.90%\n",
      "No improvement in validation accuracy. Patience counter: 6/20\n"
     ]
    },
    {
     "name": "stderr",
     "output_type": "stream",
     "text": [
      "Validating: 100%|██████████| 20/20 [00:01<00:00, 10.92it/s]              \n"
     ]
    },
    {
     "name": "stdout",
     "output_type": "stream",
     "text": [
      "Epoch 101/200 – Loss: 0.7991, ValAcc: 72.68%\n",
      "No improvement in validation accuracy. Patience counter: 7/20\n"
     ]
    },
    {
     "name": "stderr",
     "output_type": "stream",
     "text": [
      "Validating: 100%|██████████| 20/20 [00:01<00:00, 10.92it/s]              \n"
     ]
    },
    {
     "name": "stdout",
     "output_type": "stream",
     "text": [
      "Epoch 102/200 – Loss: 0.8003, ValAcc: 72.34%\n",
      "No improvement in validation accuracy. Patience counter: 8/20\n"
     ]
    },
    {
     "name": "stderr",
     "output_type": "stream",
     "text": [
      "Validating: 100%|██████████| 20/20 [00:01<00:00, 11.08it/s]              \n"
     ]
    },
    {
     "name": "stdout",
     "output_type": "stream",
     "text": [
      "Epoch 103/200 – Loss: 0.8025, ValAcc: 72.06%\n",
      "No improvement in validation accuracy. Patience counter: 9/20\n"
     ]
    },
    {
     "name": "stderr",
     "output_type": "stream",
     "text": [
      "Validating: 100%|██████████| 20/20 [00:01<00:00, 11.11it/s]              \n"
     ]
    },
    {
     "name": "stdout",
     "output_type": "stream",
     "text": [
      "Epoch 104/200 – Loss: 0.8038, ValAcc: 72.20%\n",
      "No improvement in validation accuracy. Patience counter: 10/20\n"
     ]
    },
    {
     "name": "stderr",
     "output_type": "stream",
     "text": [
      "Validating: 100%|██████████| 20/20 [00:01<00:00, 10.98it/s]              \n"
     ]
    },
    {
     "name": "stdout",
     "output_type": "stream",
     "text": [
      "Epoch 105/200 – Loss: 0.8067, ValAcc: 71.90%\n",
      "No improvement in validation accuracy. Patience counter: 11/20\n"
     ]
    },
    {
     "name": "stderr",
     "output_type": "stream",
     "text": [
      "Validating: 100%|██████████| 20/20 [00:01<00:00, 10.98it/s]              \n"
     ]
    },
    {
     "name": "stdout",
     "output_type": "stream",
     "text": [
      "Epoch 106/200 – Loss: 0.8121, ValAcc: 70.94%\n",
      "No improvement in validation accuracy. Patience counter: 12/20\n"
     ]
    },
    {
     "name": "stderr",
     "output_type": "stream",
     "text": [
      "Validating: 100%|██████████| 20/20 [00:01<00:00, 11.11it/s]              \n"
     ]
    },
    {
     "name": "stdout",
     "output_type": "stream",
     "text": [
      "Epoch 107/200 – Loss: 0.8041, ValAcc: 71.68%\n",
      "No improvement in validation accuracy. Patience counter: 13/20\n"
     ]
    },
    {
     "name": "stderr",
     "output_type": "stream",
     "text": [
      "Validating: 100%|██████████| 20/20 [00:01<00:00, 11.05it/s]              \n"
     ]
    },
    {
     "name": "stdout",
     "output_type": "stream",
     "text": [
      "Epoch 108/200 – Loss: 0.8072, ValAcc: 71.32%\n",
      "No improvement in validation accuracy. Patience counter: 14/20\n"
     ]
    },
    {
     "name": "stderr",
     "output_type": "stream",
     "text": [
      "Validating: 100%|██████████| 20/20 [00:01<00:00, 11.03it/s]              \n"
     ]
    },
    {
     "name": "stdout",
     "output_type": "stream",
     "text": [
      "Epoch 109/200 – Loss: 0.8107, ValAcc: 70.38%\n",
      "No improvement in validation accuracy. Patience counter: 15/20\n"
     ]
    },
    {
     "name": "stderr",
     "output_type": "stream",
     "text": [
      "Validating: 100%|██████████| 20/20 [00:01<00:00, 10.93it/s]              \n"
     ]
    },
    {
     "name": "stdout",
     "output_type": "stream",
     "text": [
      "Epoch 110/200 – Loss: 0.8176, ValAcc: 71.58%\n",
      "No improvement in validation accuracy. Patience counter: 16/20\n"
     ]
    },
    {
     "name": "stderr",
     "output_type": "stream",
     "text": [
      "Validating: 100%|██████████| 20/20 [00:01<00:00, 11.15it/s]              \n"
     ]
    },
    {
     "name": "stdout",
     "output_type": "stream",
     "text": [
      "Epoch 111/200 – Loss: 0.8149, ValAcc: 70.62%\n",
      "No improvement in validation accuracy. Patience counter: 17/20\n"
     ]
    },
    {
     "name": "stderr",
     "output_type": "stream",
     "text": [
      "Validating: 100%|██████████| 20/20 [00:01<00:00, 11.09it/s]              \n"
     ]
    },
    {
     "name": "stdout",
     "output_type": "stream",
     "text": [
      "Epoch 112/200 – Loss: 0.8209, ValAcc: 70.78%\n",
      "No improvement in validation accuracy. Patience counter: 18/20\n"
     ]
    },
    {
     "name": "stderr",
     "output_type": "stream",
     "text": [
      "Validating: 100%|██████████| 20/20 [00:01<00:00, 10.96it/s]              \n"
     ]
    },
    {
     "name": "stdout",
     "output_type": "stream",
     "text": [
      "Epoch 113/200 – Loss: 0.8215, ValAcc: 71.38%\n",
      "No improvement in validation accuracy. Patience counter: 19/20\n"
     ]
    },
    {
     "name": "stderr",
     "output_type": "stream",
     "text": [
      "Validating: 100%|██████████| 20/20 [00:01<00:00, 11.06it/s]              \n"
     ]
    },
    {
     "name": "stdout",
     "output_type": "stream",
     "text": [
      "Epoch 114/200 – Loss: 0.8223, ValAcc: 70.20%\n",
      "No improvement in validation accuracy. Patience counter: 20/20\n",
      "Early stopping triggered after 114 epochs.\n"
     ]
    },
    {
     "name": "stderr",
     "output_type": "stream",
     "text": [
      "Testing Fake-Quantized: 100%|██████████| 1250/1250 [00:33<00:00, 36.88it/s]\n"
     ]
    },
    {
     "name": "stdout",
     "output_type": "stream",
     "text": [
      "\n",
      "Best Fake-Quantized Model – Test Accuracy: 73.78%\n"
     ]
    },
    {
     "name": "stderr",
     "output_type": "stream",
     "text": [
      "Testing INT8: 100%|██████████| 1250/1250 [02:45<00:00,  7.54it/s]\n"
     ]
    },
    {
     "name": "stdout",
     "output_type": "stream",
     "text": [
      "Best INT8 Model – Test Accuracy: 73.67%\n",
      "Average INT8 Inference Latency (CPU): 130.13 ms/batch\n"
     ]
    }
   ],
   "source": [
    "import os\n",
    "import time\n",
    "import torch\n",
    "import torch.nn as nn\n",
    "import torch.optim as optim\n",
    "import torchvision\n",
    "import torchvision.transforms as transforms\n",
    "from torch.utils.data import DataLoader, SubsetRandomSampler\n",
    "from torch.quantization import (\n",
    "    prepare_qat,\n",
    "    convert,\n",
    "    enable_observer,\n",
    "    disable_observer,\n",
    "    enable_fake_quant,\n",
    "    disable_fake_quant,\n",
    ")\n",
    "from torchvision.models.quantization import resnet50\n",
    "import numpy as np\n",
    "from tqdm import tqdm\n",
    "\n",
    "torch.backends.quantized.engine = 'fbgemm'\n",
    "\n",
    "def get_cifar100_data_loaders(data_dir='./data'):\n",
    "    train_tf = transforms.Compose([\n",
    "        transforms.RandomCrop(32, padding=4),\n",
    "        transforms.RandomHorizontalFlip(),\n",
    "        transforms.ToTensor(),\n",
    "        transforms.Normalize((0.5071, 0.4867, 0.4408), (0.2675, 0.2565, 0.2761)),\n",
    "    ])\n",
    "    test_tf = transforms.Compose([\n",
    "        transforms.ToTensor(),\n",
    "        transforms.Normalize((0.5071, 0.4867, 0.4408), (0.2675, 0.2565, 0.2761)),\n",
    "    ])\n",
    "\n",
    "    train_ds = torchvision.datasets.CIFAR100(data_dir, train=True, download=True, transform=train_tf)\n",
    "    test_ds = torchvision.datasets.CIFAR100(data_dir, train=False, download=True, transform=test_tf)\n",
    "\n",
    "    train_size = len(train_ds)\n",
    "    indices = list(range(train_size))\n",
    "    np.random.seed(42)\n",
    "    np.random.shuffle(indices)\n",
    "    split = int(0.1 * train_size)\n",
    "    train_idx, val_idx = indices[split:], indices[:split]\n",
    "\n",
    "    train_loader = DataLoader(train_ds, batch_size=128, sampler=SubsetRandomSampler(train_idx), num_workers=4, pin_memory=True)\n",
    "    val_loader = DataLoader(train_ds, batch_size=256, sampler=SubsetRandomSampler(val_idx), num_workers=4, pin_memory=True)\n",
    "    test_loader = DataLoader(test_ds, batch_size=8, shuffle=False, num_workers=4, pin_memory=False)\n",
    "\n",
    "    return train_loader, val_loader, test_loader, train_idx\n",
    "\n",
    "# train_loader, val_loader, test_loader, train_idx = get_cifar100_data_loaders()\n",
    "\n",
    "def evaluate_accuracy_and_latency(model, loader, device, num_batches=None, desc=\"Evaluating\"):\n",
    "    model.eval()\n",
    "    model.to(device)\n",
    "    correct = total = 0\n",
    "    latencies = []\n",
    "    with torch.no_grad():\n",
    "        for i, (imgs, labels) in enumerate(tqdm(loader, desc=desc, leave=True)):\n",
    "            if num_batches is not None and i >= num_batches:\n",
    "                break\n",
    "            imgs, labels = imgs.to(device), labels.to(device)\n",
    "            start_time = time.time()\n",
    "            outputs = model(imgs)\n",
    "            latency = (time.time() - start_time) * 1000  # Latency in ms/batch\n",
    "            latencies.append(latency)\n",
    "            preds = outputs.argmax(dim=1)\n",
    "            correct += (preds == labels).sum().item()\n",
    "            total += labels.size(0)\n",
    "    accuracy = 100.0 * correct / total\n",
    "    avg_latency = sum(latencies) / len(latencies)\n",
    "    return accuracy, avg_latency\n",
    "\n",
    "def main():\n",
    "    train_device = torch.device('cuda' if torch.cuda.is_available() else 'cpu')\n",
    "    assert train_device.type == 'cuda', \"GPU not available for training/validation\"\n",
    "    test_device = torch.device('cpu')\n",
    "\n",
    "    model = resnet50(pretrained=False, quantize=False, num_classes=100)\n",
    "    # Modify conv1 and maxpool for 32x32 inputs\n",
    "    model.conv1 = nn.Conv2d(3, 64, kernel_size=3, stride=1, padding=0, bias=False)\n",
    "    model.maxpool = nn.Identity()  # Remove maxpool to preserve spatial dimensions\n",
    "    model.fuse_model()\n",
    "    model.qconfig = torch.quantization.get_default_qat_qconfig('fbgemm')\n",
    "    prepare_qat(model, inplace=True)\n",
    "    model.to(train_device)\n",
    "\n",
    "    model.eval()\n",
    "    disable_fake_quant(model)\n",
    "    enable_observer(model)\n",
    "    with torch.no_grad():\n",
    "        for i, (imgs, _) in enumerate(tqdm(train_loader, desc=\"Calibrating\", leave=False)):\n",
    "            if i >= 200:\n",
    "                break\n",
    "            imgs = imgs.to(train_device)\n",
    "            model(imgs)\n",
    "    disable_observer(model)\n",
    "    enable_fake_quant(model)\n",
    "\n",
    "    optimizer = optim.AdamW(model.parameters(), lr=1e-3, weight_decay=1e-4)\n",
    "    scheduler = optim.lr_scheduler.CosineAnnealingLR(optimizer, T_max=200)\n",
    "    criterion = nn.CrossEntropyLoss(label_smoothing=0.1)\n",
    "    best_val_acc = 0.0\n",
    "    best_model_path = 'qat_resnet50_cifar100_float_32x32_200.pth'\n",
    "    epochs = 200\n",
    "    patience = 20\n",
    "    patience_counter = 0\n",
    "\n",
    "    for epoch in range(epochs):\n",
    "        model.train()\n",
    "        enable_fake_quant(model)\n",
    "        running_loss = 0.0\n",
    "        for imgs, targets in tqdm(train_loader, desc=f\"Training Epoch {epoch+1}/{epochs}\", leave=False):\n",
    "            imgs, targets = imgs.to(train_device), targets.to(train_device)\n",
    "            optimizer.zero_grad()\n",
    "            outputs = model(imgs)\n",
    "            loss = criterion(outputs, targets)\n",
    "            loss.backward()\n",
    "            optimizer.step()\n",
    "            running_loss += loss.item() * imgs.size(0)\n",
    "\n",
    "        val_acc, _ = evaluate_accuracy_and_latency(model, val_loader, train_device, desc=\"Validating\")\n",
    "        print(f\"Epoch {epoch+1}/{epochs} – Loss: {running_loss/len(train_idx):.4f}, ValAcc: {val_acc:.2f}%\")\n",
    "\n",
    "        if val_acc > best_val_acc:\n",
    "            best_val_acc = val_acc\n",
    "            torch.save(model.state_dict(), best_model_path)\n",
    "            print(f\"Saved best QAT model with ValAcc: {best_val_acc:.2f}%\")\n",
    "            patience_counter = 0\n",
    "        else:\n",
    "            patience_counter += 1\n",
    "            print(f\"No improvement in validation accuracy. Patience counter: {patience_counter}/{patience}\")\n",
    "\n",
    "        if patience_counter >= patience:\n",
    "            print(f\"Early stopping triggered after {epoch+1} epochs.\")\n",
    "            break\n",
    "\n",
    "        scheduler.step()\n",
    "\n",
    "    model.load_state_dict(torch.load(best_model_path))\n",
    "    fake_quant_acc, _ = evaluate_accuracy_and_latency(model, test_loader, train_device, desc=\"Testing Fake-Quantized\")\n",
    "    print(f\"\\nBest Fake-Quantized Model – Test Accuracy: {fake_quant_acc:.2f}%\")\n",
    "\n",
    "    model.cpu()\n",
    "    model.eval()\n",
    "    quantized_model = convert(model, inplace=False)\n",
    "\n",
    "    int8_acc, int8_latency = evaluate_accuracy_and_latency(quantized_model, test_loader, test_device, desc=\"Testing INT8\")\n",
    "    print(f\"Best INT8 Model – Test Accuracy: {int8_acc:.2f}%\")\n",
    "    print(f\"Average INT8 Inference Latency (CPU): {int8_latency:.2f} ms/batch\")\n",
    "\n",
    "    # torch.save(quantized_model.state_dict(), 'qat_resnet50_cifar100_int8_final_32x32.pth')\n",
    "    # TODO ONNX integration\n",
    "if __name__ == '__main__':\n",
    "    main()"
   ]
  },
  {
   "cell_type": "markdown",
   "id": "9bcb037e-1adc-4715-8d06-415ce04d78bf",
   "metadata": {},
   "source": [
    "# QAT +KD"
   ]
  },
  {
   "cell_type": "code",
   "execution_count": 10,
   "id": "1d8b1afa-b570-4e6c-957a-9c6f1166e6cc",
   "metadata": {},
   "outputs": [
    {
     "name": "stderr",
     "output_type": "stream",
     "text": [
      "                                                                       \r"
     ]
    },
    {
     "name": "stdout",
     "output_type": "stream",
     "text": [
      "Epoch 1/200 – Loss: 3.3097, ValAcc: 15.38%\n",
      "Saved best QAT+KD model with ValAcc: 15.38%\n"
     ]
    },
    {
     "name": "stderr",
     "output_type": "stream",
     "text": [
      "                                                                       \r"
     ]
    },
    {
     "name": "stdout",
     "output_type": "stream",
     "text": [
      "Epoch 2/200 – Loss: 2.8383, ValAcc: 26.56%\n",
      "Saved best QAT+KD model with ValAcc: 26.56%\n"
     ]
    },
    {
     "name": "stderr",
     "output_type": "stream",
     "text": [
      "                                                                       \r"
     ]
    },
    {
     "name": "stdout",
     "output_type": "stream",
     "text": [
      "Epoch 3/200 – Loss: 2.5279, ValAcc: 31.40%\n",
      "Saved best QAT+KD model with ValAcc: 31.40%\n"
     ]
    },
    {
     "name": "stderr",
     "output_type": "stream",
     "text": [
      "                                                                       \r"
     ]
    },
    {
     "name": "stdout",
     "output_type": "stream",
     "text": [
      "Epoch 4/200 – Loss: 2.2946, ValAcc: 37.94%\n",
      "Saved best QAT+KD model with ValAcc: 37.94%\n"
     ]
    },
    {
     "name": "stderr",
     "output_type": "stream",
     "text": [
      "                                                                       \r"
     ]
    },
    {
     "name": "stdout",
     "output_type": "stream",
     "text": [
      "Epoch 5/200 – Loss: 2.0871, ValAcc: 43.28%\n",
      "Saved best QAT+KD model with ValAcc: 43.28%\n"
     ]
    },
    {
     "name": "stderr",
     "output_type": "stream",
     "text": [
      "                                                                       \r"
     ]
    },
    {
     "name": "stdout",
     "output_type": "stream",
     "text": [
      "Epoch 6/200 – Loss: 1.9426, ValAcc: 48.44%\n",
      "Saved best QAT+KD model with ValAcc: 48.44%\n"
     ]
    },
    {
     "name": "stderr",
     "output_type": "stream",
     "text": [
      "                                                                       \r"
     ]
    },
    {
     "name": "stdout",
     "output_type": "stream",
     "text": [
      "Epoch 7/200 – Loss: 1.8103, ValAcc: 51.14%\n",
      "Saved best QAT+KD model with ValAcc: 51.14%\n"
     ]
    },
    {
     "name": "stderr",
     "output_type": "stream",
     "text": [
      "                                                                       \r"
     ]
    },
    {
     "name": "stdout",
     "output_type": "stream",
     "text": [
      "Epoch 8/200 – Loss: 1.7195, ValAcc: 55.46%\n",
      "Saved best QAT+KD model with ValAcc: 55.46%\n"
     ]
    },
    {
     "name": "stderr",
     "output_type": "stream",
     "text": [
      "                                                                       \r"
     ]
    },
    {
     "name": "stdout",
     "output_type": "stream",
     "text": [
      "Epoch 9/200 – Loss: 1.6402, ValAcc: 50.50%\n",
      "No improvement in validation accuracy. Patience counter: 1/20\n"
     ]
    },
    {
     "name": "stderr",
     "output_type": "stream",
     "text": [
      "                                                                        \r"
     ]
    },
    {
     "name": "stdout",
     "output_type": "stream",
     "text": [
      "Epoch 10/200 – Loss: 1.5689, ValAcc: 58.32%\n",
      "Saved best QAT+KD model with ValAcc: 58.32%\n"
     ]
    },
    {
     "name": "stderr",
     "output_type": "stream",
     "text": [
      "                                                                        \r"
     ]
    },
    {
     "name": "stdout",
     "output_type": "stream",
     "text": [
      "Epoch 11/200 – Loss: 1.4853, ValAcc: 58.52%\n",
      "Saved best QAT+KD model with ValAcc: 58.52%\n"
     ]
    },
    {
     "name": "stderr",
     "output_type": "stream",
     "text": [
      "                                                                        \r"
     ]
    },
    {
     "name": "stdout",
     "output_type": "stream",
     "text": [
      "Epoch 12/200 – Loss: 1.4363, ValAcc: 58.96%\n",
      "Saved best QAT+KD model with ValAcc: 58.96%\n"
     ]
    },
    {
     "name": "stderr",
     "output_type": "stream",
     "text": [
      "                                                                        \r"
     ]
    },
    {
     "name": "stdout",
     "output_type": "stream",
     "text": [
      "Epoch 13/200 – Loss: 1.3678, ValAcc: 61.12%\n",
      "Saved best QAT+KD model with ValAcc: 61.12%\n"
     ]
    },
    {
     "name": "stderr",
     "output_type": "stream",
     "text": [
      "                                                                        \r"
     ]
    },
    {
     "name": "stdout",
     "output_type": "stream",
     "text": [
      "Epoch 14/200 – Loss: 1.3221, ValAcc: 62.24%\n",
      "Saved best QAT+KD model with ValAcc: 62.24%\n"
     ]
    },
    {
     "name": "stderr",
     "output_type": "stream",
     "text": [
      "                                                                        \r"
     ]
    },
    {
     "name": "stdout",
     "output_type": "stream",
     "text": [
      "Epoch 15/200 – Loss: 1.2674, ValAcc: 63.10%\n",
      "Saved best QAT+KD model with ValAcc: 63.10%\n"
     ]
    },
    {
     "name": "stderr",
     "output_type": "stream",
     "text": [
      "                                                                        \r"
     ]
    },
    {
     "name": "stdout",
     "output_type": "stream",
     "text": [
      "Epoch 16/200 – Loss: 1.2232, ValAcc: 63.76%\n",
      "Saved best QAT+KD model with ValAcc: 63.76%\n"
     ]
    },
    {
     "name": "stderr",
     "output_type": "stream",
     "text": [
      "                                                                        \r"
     ]
    },
    {
     "name": "stdout",
     "output_type": "stream",
     "text": [
      "Epoch 17/200 – Loss: 1.1634, ValAcc: 63.74%\n",
      "No improvement in validation accuracy. Patience counter: 1/20\n"
     ]
    },
    {
     "name": "stderr",
     "output_type": "stream",
     "text": [
      "                                                                        \r"
     ]
    },
    {
     "name": "stdout",
     "output_type": "stream",
     "text": [
      "Epoch 18/200 – Loss: 1.1367, ValAcc: 65.00%\n",
      "Saved best QAT+KD model with ValAcc: 65.00%\n"
     ]
    },
    {
     "name": "stderr",
     "output_type": "stream",
     "text": [
      "                                                                        \r"
     ]
    },
    {
     "name": "stdout",
     "output_type": "stream",
     "text": [
      "Epoch 19/200 – Loss: 1.1049, ValAcc: 65.66%\n",
      "Saved best QAT+KD model with ValAcc: 65.66%\n"
     ]
    },
    {
     "name": "stderr",
     "output_type": "stream",
     "text": [
      "                                                                        \r"
     ]
    },
    {
     "name": "stdout",
     "output_type": "stream",
     "text": [
      "Epoch 20/200 – Loss: 1.0614, ValAcc: 66.74%\n",
      "Saved best QAT+KD model with ValAcc: 66.74%\n"
     ]
    },
    {
     "name": "stderr",
     "output_type": "stream",
     "text": [
      "                                                                        \r"
     ]
    },
    {
     "name": "stdout",
     "output_type": "stream",
     "text": [
      "Epoch 21/200 – Loss: 1.0281, ValAcc: 65.88%\n",
      "No improvement in validation accuracy. Patience counter: 1/20\n"
     ]
    },
    {
     "name": "stderr",
     "output_type": "stream",
     "text": [
      "                                                                        \r"
     ]
    },
    {
     "name": "stdout",
     "output_type": "stream",
     "text": [
      "Epoch 22/200 – Loss: 0.9905, ValAcc: 67.32%\n",
      "Saved best QAT+KD model with ValAcc: 67.32%\n"
     ]
    },
    {
     "name": "stderr",
     "output_type": "stream",
     "text": [
      "                                                                        \r"
     ]
    },
    {
     "name": "stdout",
     "output_type": "stream",
     "text": [
      "Epoch 23/200 – Loss: 0.9600, ValAcc: 67.38%\n",
      "Saved best QAT+KD model with ValAcc: 67.38%\n"
     ]
    },
    {
     "name": "stderr",
     "output_type": "stream",
     "text": [
      "                                                                        \r"
     ]
    },
    {
     "name": "stdout",
     "output_type": "stream",
     "text": [
      "Epoch 24/200 – Loss: 0.9360, ValAcc: 66.04%\n",
      "No improvement in validation accuracy. Patience counter: 1/20\n"
     ]
    },
    {
     "name": "stderr",
     "output_type": "stream",
     "text": [
      "                                                                        \r"
     ]
    },
    {
     "name": "stdout",
     "output_type": "stream",
     "text": [
      "Epoch 25/200 – Loss: 0.9114, ValAcc: 67.74%\n",
      "Saved best QAT+KD model with ValAcc: 67.74%\n"
     ]
    },
    {
     "name": "stderr",
     "output_type": "stream",
     "text": [
      "                                                                        \r"
     ]
    },
    {
     "name": "stdout",
     "output_type": "stream",
     "text": [
      "Epoch 26/200 – Loss: 0.8867, ValAcc: 65.96%\n",
      "No improvement in validation accuracy. Patience counter: 1/20\n"
     ]
    },
    {
     "name": "stderr",
     "output_type": "stream",
     "text": [
      "                                                                        \r"
     ]
    },
    {
     "name": "stdout",
     "output_type": "stream",
     "text": [
      "Epoch 27/200 – Loss: 0.8967, ValAcc: 67.06%\n",
      "No improvement in validation accuracy. Patience counter: 2/20\n"
     ]
    },
    {
     "name": "stderr",
     "output_type": "stream",
     "text": [
      "                                                                        \r"
     ]
    },
    {
     "name": "stdout",
     "output_type": "stream",
     "text": [
      "Epoch 28/200 – Loss: 0.8488, ValAcc: 66.84%\n",
      "No improvement in validation accuracy. Patience counter: 3/20\n"
     ]
    },
    {
     "name": "stderr",
     "output_type": "stream",
     "text": [
      "                                                                        \r"
     ]
    },
    {
     "name": "stdout",
     "output_type": "stream",
     "text": [
      "Epoch 29/200 – Loss: 0.8339, ValAcc: 67.24%\n",
      "No improvement in validation accuracy. Patience counter: 4/20\n"
     ]
    },
    {
     "name": "stderr",
     "output_type": "stream",
     "text": [
      "                                                                        \r"
     ]
    },
    {
     "name": "stdout",
     "output_type": "stream",
     "text": [
      "Epoch 30/200 – Loss: 0.7992, ValAcc: 67.92%\n",
      "Saved best QAT+KD model with ValAcc: 67.92%\n"
     ]
    },
    {
     "name": "stderr",
     "output_type": "stream",
     "text": [
      "                                                                        \r"
     ]
    },
    {
     "name": "stdout",
     "output_type": "stream",
     "text": [
      "Epoch 31/200 – Loss: 0.7866, ValAcc: 68.68%\n",
      "Saved best QAT+KD model with ValAcc: 68.68%\n"
     ]
    },
    {
     "name": "stderr",
     "output_type": "stream",
     "text": [
      "                                                                        \r"
     ]
    },
    {
     "name": "stdout",
     "output_type": "stream",
     "text": [
      "Epoch 32/200 – Loss: 0.7815, ValAcc: 68.78%\n",
      "Saved best QAT+KD model with ValAcc: 68.78%\n"
     ]
    },
    {
     "name": "stderr",
     "output_type": "stream",
     "text": [
      "                                                                        \r"
     ]
    },
    {
     "name": "stdout",
     "output_type": "stream",
     "text": [
      "Epoch 33/200 – Loss: 0.7730, ValAcc: 68.10%\n",
      "No improvement in validation accuracy. Patience counter: 1/20\n"
     ]
    },
    {
     "name": "stderr",
     "output_type": "stream",
     "text": [
      "                                                                        \r"
     ]
    },
    {
     "name": "stdout",
     "output_type": "stream",
     "text": [
      "Epoch 34/200 – Loss: 0.7549, ValAcc: 67.70%\n",
      "No improvement in validation accuracy. Patience counter: 2/20\n"
     ]
    },
    {
     "name": "stderr",
     "output_type": "stream",
     "text": [
      "                                                                        \r"
     ]
    },
    {
     "name": "stdout",
     "output_type": "stream",
     "text": [
      "Epoch 35/200 – Loss: 0.7535, ValAcc: 68.28%\n",
      "No improvement in validation accuracy. Patience counter: 3/20\n"
     ]
    },
    {
     "name": "stderr",
     "output_type": "stream",
     "text": [
      "                                                                        \r"
     ]
    },
    {
     "name": "stdout",
     "output_type": "stream",
     "text": [
      "Epoch 36/200 – Loss: 0.8182, ValAcc: 68.52%\n",
      "No improvement in validation accuracy. Patience counter: 4/20\n"
     ]
    },
    {
     "name": "stderr",
     "output_type": "stream",
     "text": [
      "                                                                        \r"
     ]
    },
    {
     "name": "stdout",
     "output_type": "stream",
     "text": [
      "Epoch 37/200 – Loss: 0.7388, ValAcc: 69.66%\n",
      "Saved best QAT+KD model with ValAcc: 69.66%\n"
     ]
    },
    {
     "name": "stderr",
     "output_type": "stream",
     "text": [
      "                                                                        \r"
     ]
    },
    {
     "name": "stdout",
     "output_type": "stream",
     "text": [
      "Epoch 38/200 – Loss: 0.7097, ValAcc: 69.34%\n",
      "No improvement in validation accuracy. Patience counter: 1/20\n"
     ]
    },
    {
     "name": "stderr",
     "output_type": "stream",
     "text": [
      "                                                                        \r"
     ]
    },
    {
     "name": "stdout",
     "output_type": "stream",
     "text": [
      "Epoch 39/200 – Loss: 0.7024, ValAcc: 69.44%\n",
      "No improvement in validation accuracy. Patience counter: 2/20\n"
     ]
    },
    {
     "name": "stderr",
     "output_type": "stream",
     "text": [
      "                                                                        \r"
     ]
    },
    {
     "name": "stdout",
     "output_type": "stream",
     "text": [
      "Epoch 40/200 – Loss: 0.6968, ValAcc: 67.90%\n",
      "No improvement in validation accuracy. Patience counter: 3/20\n"
     ]
    },
    {
     "name": "stderr",
     "output_type": "stream",
     "text": [
      "                                                                        \r"
     ]
    },
    {
     "name": "stdout",
     "output_type": "stream",
     "text": [
      "Epoch 41/200 – Loss: 0.6967, ValAcc: 69.16%\n",
      "No improvement in validation accuracy. Patience counter: 4/20\n"
     ]
    },
    {
     "name": "stderr",
     "output_type": "stream",
     "text": [
      "                                                                        \r"
     ]
    },
    {
     "name": "stdout",
     "output_type": "stream",
     "text": [
      "Epoch 42/200 – Loss: 0.6965, ValAcc: 68.90%\n",
      "No improvement in validation accuracy. Patience counter: 5/20\n"
     ]
    },
    {
     "name": "stderr",
     "output_type": "stream",
     "text": [
      "                                                                        \r"
     ]
    },
    {
     "name": "stdout",
     "output_type": "stream",
     "text": [
      "Epoch 43/200 – Loss: 0.6897, ValAcc: 69.32%\n",
      "No improvement in validation accuracy. Patience counter: 6/20\n"
     ]
    },
    {
     "name": "stderr",
     "output_type": "stream",
     "text": [
      "                                                                        \r"
     ]
    },
    {
     "name": "stdout",
     "output_type": "stream",
     "text": [
      "Epoch 44/200 – Loss: 0.6882, ValAcc: 69.06%\n",
      "No improvement in validation accuracy. Patience counter: 7/20\n"
     ]
    },
    {
     "name": "stderr",
     "output_type": "stream",
     "text": [
      "                                                                        \r"
     ]
    },
    {
     "name": "stdout",
     "output_type": "stream",
     "text": [
      "Epoch 45/200 – Loss: 0.6768, ValAcc: 68.88%\n",
      "No improvement in validation accuracy. Patience counter: 8/20\n"
     ]
    },
    {
     "name": "stderr",
     "output_type": "stream",
     "text": [
      "                                                                        \r"
     ]
    },
    {
     "name": "stdout",
     "output_type": "stream",
     "text": [
      "Epoch 46/200 – Loss: 0.6736, ValAcc: 69.96%\n",
      "Saved best QAT+KD model with ValAcc: 69.96%\n"
     ]
    },
    {
     "name": "stderr",
     "output_type": "stream",
     "text": [
      "                                                                        \r"
     ]
    },
    {
     "name": "stdout",
     "output_type": "stream",
     "text": [
      "Epoch 47/200 – Loss: 0.6634, ValAcc: 69.50%\n",
      "No improvement in validation accuracy. Patience counter: 1/20\n"
     ]
    },
    {
     "name": "stderr",
     "output_type": "stream",
     "text": [
      "                                                                        \r"
     ]
    },
    {
     "name": "stdout",
     "output_type": "stream",
     "text": [
      "Epoch 48/200 – Loss: 0.6662, ValAcc: 69.88%\n",
      "No improvement in validation accuracy. Patience counter: 2/20\n"
     ]
    },
    {
     "name": "stderr",
     "output_type": "stream",
     "text": [
      "                                                                        \r"
     ]
    },
    {
     "name": "stdout",
     "output_type": "stream",
     "text": [
      "Epoch 49/200 – Loss: 0.6684, ValAcc: 70.18%\n",
      "Saved best QAT+KD model with ValAcc: 70.18%\n"
     ]
    },
    {
     "name": "stderr",
     "output_type": "stream",
     "text": [
      "                                                                        \r"
     ]
    },
    {
     "name": "stdout",
     "output_type": "stream",
     "text": [
      "Epoch 50/200 – Loss: 0.6479, ValAcc: 69.58%\n",
      "No improvement in validation accuracy. Patience counter: 1/20\n"
     ]
    },
    {
     "name": "stderr",
     "output_type": "stream",
     "text": [
      "                                                                        \r"
     ]
    },
    {
     "name": "stdout",
     "output_type": "stream",
     "text": [
      "Epoch 51/200 – Loss: 0.6544, ValAcc: 69.40%\n",
      "No improvement in validation accuracy. Patience counter: 2/20\n"
     ]
    },
    {
     "name": "stderr",
     "output_type": "stream",
     "text": [
      "                                                                        \r"
     ]
    },
    {
     "name": "stdout",
     "output_type": "stream",
     "text": [
      "Epoch 52/200 – Loss: 0.6495, ValAcc: 69.88%\n",
      "No improvement in validation accuracy. Patience counter: 3/20\n"
     ]
    },
    {
     "name": "stderr",
     "output_type": "stream",
     "text": [
      "                                                                        \r"
     ]
    },
    {
     "name": "stdout",
     "output_type": "stream",
     "text": [
      "Epoch 53/200 – Loss: 0.6506, ValAcc: 69.32%\n",
      "No improvement in validation accuracy. Patience counter: 4/20\n"
     ]
    },
    {
     "name": "stderr",
     "output_type": "stream",
     "text": [
      "                                                                        \r"
     ]
    },
    {
     "name": "stdout",
     "output_type": "stream",
     "text": [
      "Epoch 54/200 – Loss: 0.6538, ValAcc: 70.68%\n",
      "Saved best QAT+KD model with ValAcc: 70.68%\n"
     ]
    },
    {
     "name": "stderr",
     "output_type": "stream",
     "text": [
      "                                                                        \r"
     ]
    },
    {
     "name": "stdout",
     "output_type": "stream",
     "text": [
      "Epoch 55/200 – Loss: 0.6500, ValAcc: 70.04%\n",
      "No improvement in validation accuracy. Patience counter: 1/20\n"
     ]
    },
    {
     "name": "stderr",
     "output_type": "stream",
     "text": [
      "                                                                        \r"
     ]
    },
    {
     "name": "stdout",
     "output_type": "stream",
     "text": [
      "Epoch 56/200 – Loss: 0.6453, ValAcc: 69.64%\n",
      "No improvement in validation accuracy. Patience counter: 2/20\n"
     ]
    },
    {
     "name": "stderr",
     "output_type": "stream",
     "text": [
      "                                                                        \r"
     ]
    },
    {
     "name": "stdout",
     "output_type": "stream",
     "text": [
      "Epoch 57/200 – Loss: 0.6426, ValAcc: 70.16%\n",
      "No improvement in validation accuracy. Patience counter: 3/20\n"
     ]
    },
    {
     "name": "stderr",
     "output_type": "stream",
     "text": [
      "                                                                        \r"
     ]
    },
    {
     "name": "stdout",
     "output_type": "stream",
     "text": [
      "Epoch 58/200 – Loss: 0.6315, ValAcc: 69.22%\n",
      "No improvement in validation accuracy. Patience counter: 4/20\n"
     ]
    },
    {
     "name": "stderr",
     "output_type": "stream",
     "text": [
      "                                                                        \r"
     ]
    },
    {
     "name": "stdout",
     "output_type": "stream",
     "text": [
      "Epoch 59/200 – Loss: 0.6316, ValAcc: 71.06%\n",
      "Saved best QAT+KD model with ValAcc: 71.06%\n"
     ]
    },
    {
     "name": "stderr",
     "output_type": "stream",
     "text": [
      "                                                                        \r"
     ]
    },
    {
     "name": "stdout",
     "output_type": "stream",
     "text": [
      "Epoch 60/200 – Loss: 0.6367, ValAcc: 68.56%\n",
      "No improvement in validation accuracy. Patience counter: 1/20\n"
     ]
    },
    {
     "name": "stderr",
     "output_type": "stream",
     "text": [
      "                                                                        \r"
     ]
    },
    {
     "name": "stdout",
     "output_type": "stream",
     "text": [
      "Epoch 61/200 – Loss: 0.6323, ValAcc: 69.08%\n",
      "No improvement in validation accuracy. Patience counter: 2/20\n"
     ]
    },
    {
     "name": "stderr",
     "output_type": "stream",
     "text": [
      "                                                                        \r"
     ]
    },
    {
     "name": "stdout",
     "output_type": "stream",
     "text": [
      "Epoch 62/200 – Loss: 0.6374, ValAcc: 70.10%\n",
      "No improvement in validation accuracy. Patience counter: 3/20\n"
     ]
    },
    {
     "name": "stderr",
     "output_type": "stream",
     "text": [
      "                                                                        \r"
     ]
    },
    {
     "name": "stdout",
     "output_type": "stream",
     "text": [
      "Epoch 63/200 – Loss: 0.6355, ValAcc: 68.64%\n",
      "No improvement in validation accuracy. Patience counter: 4/20\n"
     ]
    },
    {
     "name": "stderr",
     "output_type": "stream",
     "text": [
      "                                                                        \r"
     ]
    },
    {
     "name": "stdout",
     "output_type": "stream",
     "text": [
      "Epoch 64/200 – Loss: 0.6282, ValAcc: 70.34%\n",
      "No improvement in validation accuracy. Patience counter: 5/20\n"
     ]
    },
    {
     "name": "stderr",
     "output_type": "stream",
     "text": [
      "                                                                        \r"
     ]
    },
    {
     "name": "stdout",
     "output_type": "stream",
     "text": [
      "Epoch 65/200 – Loss: 0.6175, ValAcc: 69.96%\n",
      "No improvement in validation accuracy. Patience counter: 6/20\n"
     ]
    },
    {
     "name": "stderr",
     "output_type": "stream",
     "text": [
      "                                                                        \r"
     ]
    },
    {
     "name": "stdout",
     "output_type": "stream",
     "text": [
      "Epoch 66/200 – Loss: 0.6228, ValAcc: 70.52%\n",
      "No improvement in validation accuracy. Patience counter: 7/20\n"
     ]
    },
    {
     "name": "stderr",
     "output_type": "stream",
     "text": [
      "                                                                        \r"
     ]
    },
    {
     "name": "stdout",
     "output_type": "stream",
     "text": [
      "Epoch 67/200 – Loss: 0.6187, ValAcc: 71.36%\n",
      "Saved best QAT+KD model with ValAcc: 71.36%\n"
     ]
    },
    {
     "name": "stderr",
     "output_type": "stream",
     "text": [
      "                                                                        \r"
     ]
    },
    {
     "name": "stdout",
     "output_type": "stream",
     "text": [
      "Epoch 68/200 – Loss: 0.6187, ValAcc: 69.50%\n",
      "No improvement in validation accuracy. Patience counter: 1/20\n"
     ]
    },
    {
     "name": "stderr",
     "output_type": "stream",
     "text": [
      "                                                                        \r"
     ]
    },
    {
     "name": "stdout",
     "output_type": "stream",
     "text": [
      "Epoch 69/200 – Loss: 0.6182, ValAcc: 71.60%\n",
      "Saved best QAT+KD model with ValAcc: 71.60%\n"
     ]
    },
    {
     "name": "stderr",
     "output_type": "stream",
     "text": [
      "                                                                        \r"
     ]
    },
    {
     "name": "stdout",
     "output_type": "stream",
     "text": [
      "Epoch 70/200 – Loss: 0.6132, ValAcc: 70.40%\n",
      "No improvement in validation accuracy. Patience counter: 1/20\n"
     ]
    },
    {
     "name": "stderr",
     "output_type": "stream",
     "text": [
      "                                                                        \r"
     ]
    },
    {
     "name": "stdout",
     "output_type": "stream",
     "text": [
      "Epoch 71/200 – Loss: 0.6169, ValAcc: 70.52%\n",
      "No improvement in validation accuracy. Patience counter: 2/20\n"
     ]
    },
    {
     "name": "stderr",
     "output_type": "stream",
     "text": [
      "                                                                        \r"
     ]
    },
    {
     "name": "stdout",
     "output_type": "stream",
     "text": [
      "Epoch 72/200 – Loss: 0.6202, ValAcc: 69.96%\n",
      "No improvement in validation accuracy. Patience counter: 3/20\n"
     ]
    },
    {
     "name": "stderr",
     "output_type": "stream",
     "text": [
      "                                                                        \r"
     ]
    },
    {
     "name": "stdout",
     "output_type": "stream",
     "text": [
      "Epoch 73/200 – Loss: 0.6118, ValAcc: 70.66%\n",
      "No improvement in validation accuracy. Patience counter: 4/20\n"
     ]
    },
    {
     "name": "stderr",
     "output_type": "stream",
     "text": [
      "                                                                        \r"
     ]
    },
    {
     "name": "stdout",
     "output_type": "stream",
     "text": [
      "Epoch 74/200 – Loss: 0.6079, ValAcc: 71.44%\n",
      "No improvement in validation accuracy. Patience counter: 5/20\n"
     ]
    },
    {
     "name": "stderr",
     "output_type": "stream",
     "text": [
      "                                                                        \r"
     ]
    },
    {
     "name": "stdout",
     "output_type": "stream",
     "text": [
      "Epoch 75/200 – Loss: 0.6084, ValAcc: 69.98%\n",
      "No improvement in validation accuracy. Patience counter: 6/20\n"
     ]
    },
    {
     "name": "stderr",
     "output_type": "stream",
     "text": [
      "                                                                        \r"
     ]
    },
    {
     "name": "stdout",
     "output_type": "stream",
     "text": [
      "Epoch 76/200 – Loss: 0.6053, ValAcc: 70.96%\n",
      "No improvement in validation accuracy. Patience counter: 7/20\n"
     ]
    },
    {
     "name": "stderr",
     "output_type": "stream",
     "text": [
      "                                                                        \r"
     ]
    },
    {
     "name": "stdout",
     "output_type": "stream",
     "text": [
      "Epoch 77/200 – Loss: 0.6107, ValAcc: 70.16%\n",
      "No improvement in validation accuracy. Patience counter: 8/20\n"
     ]
    },
    {
     "name": "stderr",
     "output_type": "stream",
     "text": [
      "                                                                        \r"
     ]
    },
    {
     "name": "stdout",
     "output_type": "stream",
     "text": [
      "Epoch 78/200 – Loss: 0.6047, ValAcc: 70.90%\n",
      "No improvement in validation accuracy. Patience counter: 9/20\n"
     ]
    },
    {
     "name": "stderr",
     "output_type": "stream",
     "text": [
      "                                                                        \r"
     ]
    },
    {
     "name": "stdout",
     "output_type": "stream",
     "text": [
      "Epoch 79/200 – Loss: 0.6037, ValAcc: 71.20%\n",
      "No improvement in validation accuracy. Patience counter: 10/20\n"
     ]
    },
    {
     "name": "stderr",
     "output_type": "stream",
     "text": [
      "                                                                        \r"
     ]
    },
    {
     "name": "stdout",
     "output_type": "stream",
     "text": [
      "Epoch 80/200 – Loss: 0.6022, ValAcc: 70.46%\n",
      "No improvement in validation accuracy. Patience counter: 11/20\n"
     ]
    },
    {
     "name": "stderr",
     "output_type": "stream",
     "text": [
      "                                                                        \r"
     ]
    },
    {
     "name": "stdout",
     "output_type": "stream",
     "text": [
      "Epoch 81/200 – Loss: 0.6045, ValAcc: 71.38%\n",
      "No improvement in validation accuracy. Patience counter: 12/20\n"
     ]
    },
    {
     "name": "stderr",
     "output_type": "stream",
     "text": [
      "                                                                        \r"
     ]
    },
    {
     "name": "stdout",
     "output_type": "stream",
     "text": [
      "Epoch 82/200 – Loss: 0.6041, ValAcc: 70.70%\n",
      "No improvement in validation accuracy. Patience counter: 13/20\n"
     ]
    },
    {
     "name": "stderr",
     "output_type": "stream",
     "text": [
      "                                                                        \r"
     ]
    },
    {
     "name": "stdout",
     "output_type": "stream",
     "text": [
      "Epoch 83/200 – Loss: 0.6040, ValAcc: 71.60%\n",
      "No improvement in validation accuracy. Patience counter: 14/20\n"
     ]
    },
    {
     "name": "stderr",
     "output_type": "stream",
     "text": [
      "                                                                        \r"
     ]
    },
    {
     "name": "stdout",
     "output_type": "stream",
     "text": [
      "Epoch 84/200 – Loss: 0.5932, ValAcc: 71.74%\n",
      "Saved best QAT+KD model with ValAcc: 71.74%\n"
     ]
    },
    {
     "name": "stderr",
     "output_type": "stream",
     "text": [
      "                                                                        \r"
     ]
    },
    {
     "name": "stdout",
     "output_type": "stream",
     "text": [
      "Epoch 85/200 – Loss: 0.6000, ValAcc: 69.94%\n",
      "No improvement in validation accuracy. Patience counter: 1/20\n"
     ]
    },
    {
     "name": "stderr",
     "output_type": "stream",
     "text": [
      "                                                                        \r"
     ]
    },
    {
     "name": "stdout",
     "output_type": "stream",
     "text": [
      "Epoch 86/200 – Loss: 0.6006, ValAcc: 71.16%\n",
      "No improvement in validation accuracy. Patience counter: 2/20\n"
     ]
    },
    {
     "name": "stderr",
     "output_type": "stream",
     "text": [
      "                                                                        \r"
     ]
    },
    {
     "name": "stdout",
     "output_type": "stream",
     "text": [
      "Epoch 87/200 – Loss: 0.5975, ValAcc: 72.02%\n",
      "Saved best QAT+KD model with ValAcc: 72.02%\n"
     ]
    },
    {
     "name": "stderr",
     "output_type": "stream",
     "text": [
      "                                                                        \r"
     ]
    },
    {
     "name": "stdout",
     "output_type": "stream",
     "text": [
      "Epoch 88/200 – Loss: 0.5951, ValAcc: 71.52%\n",
      "No improvement in validation accuracy. Patience counter: 1/20\n"
     ]
    },
    {
     "name": "stderr",
     "output_type": "stream",
     "text": [
      "                                                                        \r"
     ]
    },
    {
     "name": "stdout",
     "output_type": "stream",
     "text": [
      "Epoch 89/200 – Loss: 0.5921, ValAcc: 72.38%\n",
      "Saved best QAT+KD model with ValAcc: 72.38%\n"
     ]
    },
    {
     "name": "stderr",
     "output_type": "stream",
     "text": [
      "                                                                        \r"
     ]
    },
    {
     "name": "stdout",
     "output_type": "stream",
     "text": [
      "Epoch 90/200 – Loss: 0.5913, ValAcc: 71.88%\n",
      "No improvement in validation accuracy. Patience counter: 1/20\n"
     ]
    },
    {
     "name": "stderr",
     "output_type": "stream",
     "text": [
      "                                                                        \r"
     ]
    },
    {
     "name": "stdout",
     "output_type": "stream",
     "text": [
      "Epoch 91/200 – Loss: 0.5941, ValAcc: 70.78%\n",
      "No improvement in validation accuracy. Patience counter: 2/20\n"
     ]
    },
    {
     "name": "stderr",
     "output_type": "stream",
     "text": [
      "                                                                        \r"
     ]
    },
    {
     "name": "stdout",
     "output_type": "stream",
     "text": [
      "Epoch 92/200 – Loss: 0.5943, ValAcc: 71.16%\n",
      "No improvement in validation accuracy. Patience counter: 3/20\n"
     ]
    },
    {
     "name": "stderr",
     "output_type": "stream",
     "text": [
      "                                                                        \r"
     ]
    },
    {
     "name": "stdout",
     "output_type": "stream",
     "text": [
      "Epoch 93/200 – Loss: 0.5897, ValAcc: 71.16%\n",
      "No improvement in validation accuracy. Patience counter: 4/20\n"
     ]
    },
    {
     "name": "stderr",
     "output_type": "stream",
     "text": [
      "                                                                        \r"
     ]
    },
    {
     "name": "stdout",
     "output_type": "stream",
     "text": [
      "Epoch 94/200 – Loss: 0.5922, ValAcc: 71.74%\n",
      "No improvement in validation accuracy. Patience counter: 5/20\n"
     ]
    },
    {
     "name": "stderr",
     "output_type": "stream",
     "text": [
      "                                                                        \r"
     ]
    },
    {
     "name": "stdout",
     "output_type": "stream",
     "text": [
      "Epoch 95/200 – Loss: 0.5906, ValAcc: 71.90%\n",
      "No improvement in validation accuracy. Patience counter: 6/20\n"
     ]
    },
    {
     "name": "stderr",
     "output_type": "stream",
     "text": [
      "                                                                        \r"
     ]
    },
    {
     "name": "stdout",
     "output_type": "stream",
     "text": [
      "Epoch 96/200 – Loss: 0.5886, ValAcc: 72.26%\n",
      "No improvement in validation accuracy. Patience counter: 7/20\n"
     ]
    },
    {
     "name": "stderr",
     "output_type": "stream",
     "text": [
      "                                                                        \r"
     ]
    },
    {
     "name": "stdout",
     "output_type": "stream",
     "text": [
      "Epoch 97/200 – Loss: 0.5861, ValAcc: 71.56%\n",
      "No improvement in validation accuracy. Patience counter: 8/20\n"
     ]
    },
    {
     "name": "stderr",
     "output_type": "stream",
     "text": [
      "                                                                        \r"
     ]
    },
    {
     "name": "stdout",
     "output_type": "stream",
     "text": [
      "Epoch 98/200 – Loss: 0.5883, ValAcc: 70.58%\n",
      "No improvement in validation accuracy. Patience counter: 9/20\n"
     ]
    },
    {
     "name": "stderr",
     "output_type": "stream",
     "text": [
      "                                                                        \r"
     ]
    },
    {
     "name": "stdout",
     "output_type": "stream",
     "text": [
      "Epoch 99/200 – Loss: 0.5897, ValAcc: 71.24%\n",
      "No improvement in validation accuracy. Patience counter: 10/20\n"
     ]
    },
    {
     "name": "stderr",
     "output_type": "stream",
     "text": [
      "                                                                         \r"
     ]
    },
    {
     "name": "stdout",
     "output_type": "stream",
     "text": [
      "Epoch 100/200 – Loss: 0.5879, ValAcc: 71.08%\n",
      "No improvement in validation accuracy. Patience counter: 11/20\n"
     ]
    },
    {
     "name": "stderr",
     "output_type": "stream",
     "text": [
      "                                                                         \r"
     ]
    },
    {
     "name": "stdout",
     "output_type": "stream",
     "text": [
      "Epoch 101/200 – Loss: 0.5861, ValAcc: 72.56%\n",
      "Saved best QAT+KD model with ValAcc: 72.56%\n"
     ]
    },
    {
     "name": "stderr",
     "output_type": "stream",
     "text": [
      "                                                                         \r"
     ]
    },
    {
     "name": "stdout",
     "output_type": "stream",
     "text": [
      "Epoch 102/200 – Loss: 0.5876, ValAcc: 72.50%\n",
      "No improvement in validation accuracy. Patience counter: 1/20\n"
     ]
    },
    {
     "name": "stderr",
     "output_type": "stream",
     "text": [
      "                                                                         \r"
     ]
    },
    {
     "name": "stdout",
     "output_type": "stream",
     "text": [
      "Epoch 103/200 – Loss: 0.5837, ValAcc: 72.44%\n",
      "No improvement in validation accuracy. Patience counter: 2/20\n"
     ]
    },
    {
     "name": "stderr",
     "output_type": "stream",
     "text": [
      "                                                                         \r"
     ]
    },
    {
     "name": "stdout",
     "output_type": "stream",
     "text": [
      "Epoch 104/200 – Loss: 0.5837, ValAcc: 71.84%\n",
      "No improvement in validation accuracy. Patience counter: 3/20\n"
     ]
    },
    {
     "name": "stderr",
     "output_type": "stream",
     "text": [
      "                                                                         \r"
     ]
    },
    {
     "name": "stdout",
     "output_type": "stream",
     "text": [
      "Epoch 105/200 – Loss: 0.5831, ValAcc: 73.06%\n",
      "Saved best QAT+KD model with ValAcc: 73.06%\n"
     ]
    },
    {
     "name": "stderr",
     "output_type": "stream",
     "text": [
      "                                                                         \r"
     ]
    },
    {
     "name": "stdout",
     "output_type": "stream",
     "text": [
      "Epoch 106/200 – Loss: 0.5796, ValAcc: 73.24%\n",
      "Saved best QAT+KD model with ValAcc: 73.24%\n"
     ]
    },
    {
     "name": "stderr",
     "output_type": "stream",
     "text": [
      "                                                                         \r"
     ]
    },
    {
     "name": "stdout",
     "output_type": "stream",
     "text": [
      "Epoch 107/200 – Loss: 0.5792, ValAcc: 73.44%\n",
      "Saved best QAT+KD model with ValAcc: 73.44%\n"
     ]
    },
    {
     "name": "stderr",
     "output_type": "stream",
     "text": [
      "                                                                         \r"
     ]
    },
    {
     "name": "stdout",
     "output_type": "stream",
     "text": [
      "Epoch 108/200 – Loss: 0.5846, ValAcc: 72.24%\n",
      "No improvement in validation accuracy. Patience counter: 1/20\n"
     ]
    },
    {
     "name": "stderr",
     "output_type": "stream",
     "text": [
      "                                                                         \r"
     ]
    },
    {
     "name": "stdout",
     "output_type": "stream",
     "text": [
      "Epoch 109/200 – Loss: 0.5871, ValAcc: 71.62%\n",
      "No improvement in validation accuracy. Patience counter: 2/20\n"
     ]
    },
    {
     "name": "stderr",
     "output_type": "stream",
     "text": [
      "                                                                         \r"
     ]
    },
    {
     "name": "stdout",
     "output_type": "stream",
     "text": [
      "Epoch 110/200 – Loss: 0.5824, ValAcc: 71.86%\n",
      "No improvement in validation accuracy. Patience counter: 3/20\n"
     ]
    },
    {
     "name": "stderr",
     "output_type": "stream",
     "text": [
      "                                                                         \r"
     ]
    },
    {
     "name": "stdout",
     "output_type": "stream",
     "text": [
      "Epoch 111/200 – Loss: 0.5808, ValAcc: 71.98%\n",
      "No improvement in validation accuracy. Patience counter: 4/20\n"
     ]
    },
    {
     "name": "stderr",
     "output_type": "stream",
     "text": [
      "                                                                         \r"
     ]
    },
    {
     "name": "stdout",
     "output_type": "stream",
     "text": [
      "Epoch 112/200 – Loss: 0.5795, ValAcc: 72.02%\n",
      "No improvement in validation accuracy. Patience counter: 5/20\n"
     ]
    },
    {
     "name": "stderr",
     "output_type": "stream",
     "text": [
      "                                                                         \r"
     ]
    },
    {
     "name": "stdout",
     "output_type": "stream",
     "text": [
      "Epoch 113/200 – Loss: 0.5785, ValAcc: 73.20%\n",
      "No improvement in validation accuracy. Patience counter: 6/20\n"
     ]
    },
    {
     "name": "stderr",
     "output_type": "stream",
     "text": [
      "                                                                         \r"
     ]
    },
    {
     "name": "stdout",
     "output_type": "stream",
     "text": [
      "Epoch 114/200 – Loss: 0.5784, ValAcc: 73.12%\n",
      "No improvement in validation accuracy. Patience counter: 7/20\n"
     ]
    },
    {
     "name": "stderr",
     "output_type": "stream",
     "text": [
      "                                                                         \r"
     ]
    },
    {
     "name": "stdout",
     "output_type": "stream",
     "text": [
      "Epoch 115/200 – Loss: 0.5798, ValAcc: 72.62%\n",
      "No improvement in validation accuracy. Patience counter: 8/20\n"
     ]
    },
    {
     "name": "stderr",
     "output_type": "stream",
     "text": [
      "                                                                         \r"
     ]
    },
    {
     "name": "stdout",
     "output_type": "stream",
     "text": [
      "Epoch 116/200 – Loss: 0.5789, ValAcc: 71.80%\n",
      "No improvement in validation accuracy. Patience counter: 9/20\n"
     ]
    },
    {
     "name": "stderr",
     "output_type": "stream",
     "text": [
      "                                                                         \r"
     ]
    },
    {
     "name": "stdout",
     "output_type": "stream",
     "text": [
      "Epoch 117/200 – Loss: 0.5777, ValAcc: 72.70%\n",
      "No improvement in validation accuracy. Patience counter: 10/20\n"
     ]
    },
    {
     "name": "stderr",
     "output_type": "stream",
     "text": [
      "                                                                         \r"
     ]
    },
    {
     "name": "stdout",
     "output_type": "stream",
     "text": [
      "Epoch 118/200 – Loss: 0.5761, ValAcc: 73.42%\n",
      "No improvement in validation accuracy. Patience counter: 11/20\n"
     ]
    },
    {
     "name": "stderr",
     "output_type": "stream",
     "text": [
      "                                                                         \r"
     ]
    },
    {
     "name": "stdout",
     "output_type": "stream",
     "text": [
      "Epoch 119/200 – Loss: 0.5777, ValAcc: 72.56%\n",
      "No improvement in validation accuracy. Patience counter: 12/20\n"
     ]
    },
    {
     "name": "stderr",
     "output_type": "stream",
     "text": [
      "                                                                         \r"
     ]
    },
    {
     "name": "stdout",
     "output_type": "stream",
     "text": [
      "Epoch 120/200 – Loss: 0.5773, ValAcc: 72.70%\n",
      "No improvement in validation accuracy. Patience counter: 13/20\n"
     ]
    },
    {
     "name": "stderr",
     "output_type": "stream",
     "text": [
      "                                                                         \r"
     ]
    },
    {
     "name": "stdout",
     "output_type": "stream",
     "text": [
      "Epoch 121/200 – Loss: 0.5769, ValAcc: 72.48%\n",
      "No improvement in validation accuracy. Patience counter: 14/20\n"
     ]
    },
    {
     "name": "stderr",
     "output_type": "stream",
     "text": [
      "                                                                         \r"
     ]
    },
    {
     "name": "stdout",
     "output_type": "stream",
     "text": [
      "Epoch 122/200 – Loss: 0.5784, ValAcc: 73.22%\n",
      "No improvement in validation accuracy. Patience counter: 15/20\n"
     ]
    },
    {
     "name": "stderr",
     "output_type": "stream",
     "text": [
      "                                                                         \r"
     ]
    },
    {
     "name": "stdout",
     "output_type": "stream",
     "text": [
      "Epoch 123/200 – Loss: 0.5766, ValAcc: 72.92%\n",
      "No improvement in validation accuracy. Patience counter: 16/20\n"
     ]
    },
    {
     "name": "stderr",
     "output_type": "stream",
     "text": [
      "                                                                         \r"
     ]
    },
    {
     "name": "stdout",
     "output_type": "stream",
     "text": [
      "Epoch 124/200 – Loss: 0.5769, ValAcc: 73.20%\n",
      "No improvement in validation accuracy. Patience counter: 17/20\n"
     ]
    },
    {
     "name": "stderr",
     "output_type": "stream",
     "text": [
      "                                                                         \r"
     ]
    },
    {
     "name": "stdout",
     "output_type": "stream",
     "text": [
      "Epoch 125/200 – Loss: 0.5749, ValAcc: 73.28%\n",
      "No improvement in validation accuracy. Patience counter: 18/20\n"
     ]
    },
    {
     "name": "stderr",
     "output_type": "stream",
     "text": [
      "                                                                         \r"
     ]
    },
    {
     "name": "stdout",
     "output_type": "stream",
     "text": [
      "Epoch 126/200 – Loss: 0.5742, ValAcc: 73.14%\n",
      "No improvement in validation accuracy. Patience counter: 19/20\n"
     ]
    },
    {
     "name": "stderr",
     "output_type": "stream",
     "text": [
      "                                                                         \r"
     ]
    },
    {
     "name": "stdout",
     "output_type": "stream",
     "text": [
      "Epoch 127/200 – Loss: 0.5740, ValAcc: 72.60%\n",
      "No improvement in validation accuracy. Patience counter: 20/20\n",
      "Early stopping triggered after 127 epochs.\n"
     ]
    },
    {
     "name": "stderr",
     "output_type": "stream",
     "text": [
      "                                                                           \r"
     ]
    },
    {
     "name": "stdout",
     "output_type": "stream",
     "text": [
      "\n",
      "Best Fake-Quantized Model – Test Accuracy: 73.96%\n",
      "Average Fake-Quantized Inference Latency (GPU): 24.97 ms/batch\n"
     ]
    },
    {
     "name": "stderr",
     "output_type": "stream",
     "text": [
      "                                                                 \r"
     ]
    },
    {
     "name": "stdout",
     "output_type": "stream",
     "text": [
      "Best INT8 Model – Test Accuracy: 73.90%\n",
      "Average INT8 Inference Latency (CPU): 130.38 ms/batch\n"
     ]
    }
   ],
   "source": [
    "import os\n",
    "import time\n",
    "import torch\n",
    "import torch.nn as nn\n",
    "import torch.optim as optim\n",
    "import torch.nn.functional as F\n",
    "import torchvision\n",
    "import torchvision.transforms as transforms\n",
    "from torch.utils.data import DataLoader, SubsetRandomSampler\n",
    "from torch.quantization import (\n",
    "    prepare_qat,\n",
    "    convert,\n",
    "    enable_observer,\n",
    "    disable_observer,\n",
    "    enable_fake_quant,\n",
    "    disable_fake_quant,\n",
    ")\n",
    "from torchvision.models.quantization import resnet50\n",
    "import numpy as np\n",
    "from tqdm import tqdm\n",
    "\n",
    "torch.backends.quantized.engine = 'fbgemm'\n",
    "\n",
    "def get_cifar100_data_loaders(data_dir='./data'):\n",
    "    train_tf = transforms.Compose([\n",
    "        transforms.RandomCrop(32, padding=4),\n",
    "        transforms.RandomHorizontalFlip(),\n",
    "        transforms.ToTensor(),\n",
    "        transforms.Normalize((0.5071, 0.4867, 0.4408), (0.2675, 0.2565, 0.2761)),\n",
    "    ])\n",
    "    test_tf = transforms.Compose([\n",
    "        transforms.ToTensor(),\n",
    "        transforms.Normalize((0.5071, 0.4867, 0.4408), (0.2675, 0.2565, 0.2761)),\n",
    "    ])\n",
    "\n",
    "    train_ds = torchvision.datasets.CIFAR100(data_dir, train=True, download=True, transform=train_tf)\n",
    "    test_ds = torchvision.datasets.CIFAR100(data_dir, train=False, download=True, transform=test_tf)\n",
    "\n",
    "    train_size = len(train_ds)\n",
    "    indices = list(range(train_size))\n",
    "    np.random.seed(42)\n",
    "    np.random.shuffle(indices)\n",
    "    split = int(0.1 * train_size)\n",
    "    train_idx, val_idx = indices[split:], indices[:split]\n",
    "\n",
    "    train_loader = DataLoader(train_ds, batch_size=128, sampler=SubsetRandomSampler(train_idx), num_workers=4, pin_memory=True)\n",
    "    val_loader = DataLoader(train_ds, batch_size=256, sampler=SubsetRandomSampler(val_idx), num_workers=4, pin_memory=True)\n",
    "    test_loader = DataLoader(test_ds, batch_size=8, shuffle=False, num_workers=4, pin_memory=False)\n",
    "\n",
    "    return train_loader, val_loader, test_loader, train_idx\n",
    "\n",
    "def evaluate_accuracy_and_latency(model, loader, device, num_batches=None, desc=\"Evaluating\"):\n",
    "    model.eval()\n",
    "    model.to(device)\n",
    "    correct = total = 0\n",
    "    latencies = []\n",
    "    with torch.no_grad():\n",
    "        for i, (imgs, labels) in enumerate(tqdm(loader, desc=desc, leave=False)):\n",
    "            if num_batches is not None and i >= num_batches:\n",
    "                break\n",
    "            imgs, labels = imgs.to(device), labels.to(device)\n",
    "            start_time = time.time()\n",
    "            outputs = model(imgs)\n",
    "            latency = (time.time() - start_time) * 1000  # Latency in ms/batch\n",
    "            latencies.append(latency)\n",
    "            preds = outputs.argmax(dim=1)\n",
    "            correct += (preds == labels).sum().item()\n",
    "            total += labels.size(0)\n",
    "    accuracy = 100.0 * correct / total\n",
    "    avg_latency = sum(latencies) / len(latencies) if latencies else 0.0\n",
    "    return accuracy, avg_latency\n",
    "\n",
    "class KDLoss(nn.Module):\n",
    "    def __init__(self, temperature=3.0, alpha=0.7):\n",
    "        super(KDLoss, self).__init__()\n",
    "        self.temperature = temperature\n",
    "        self.alpha = alpha\n",
    "        self.ce_loss = nn.CrossEntropyLoss(label_smoothing=0.1)\n",
    "        self.kld_loss = nn.KLDivLoss(reduction='batchmean')\n",
    "\n",
    "    def forward(self, student_outputs, teacher_outputs, labels):\n",
    "        ce = self.ce_loss(student_outputs, labels)\n",
    "        kld = self.kld_loss(\n",
    "            F.log_softmax(student_outputs / self.temperature, dim=1),\n",
    "            F.softmax(teacher_outputs / self.temperature, dim=1)\n",
    "        ) * (self.temperature ** 2)\n",
    "        return self.alpha * ce + (1 - self.alpha) * kld\n",
    "\n",
    "def main():\n",
    "    train_device = torch.device('cuda' if torch.cuda.is_available() else 'cpu')\n",
    "    assert train_device.type == 'cuda', \"GPU not available for training/validation\"\n",
    "    test_device = torch.device('cpu')\n",
    "\n",
    "    # train_loader, val_loader, test_loader, train_idx = get_cifar100_data_loaders()\n",
    "\n",
    "    # Load pre-trained FP32 teacher model\n",
    "    teacher_model = resnet50(pretrained=False, num_classes=100)\n",
    "    # Modify teacher model for 32x32 inputs\n",
    "    teacher_model.conv1 = nn.Conv2d(3, 64, kernel_size=3, stride=1, padding=0, bias=False)\n",
    "    teacher_model.maxpool = nn.Identity()\n",
    "    teacher_model.load_state_dict(torch.load('best_fp32_resnet50_cifar100_32x32_200.pth'))\n",
    "    teacher_model.to(train_device)\n",
    "    teacher_model.eval()\n",
    "\n",
    "    # Initialize QAT student model\n",
    "    student_model = resnet50(pretrained=False, quantize=False, num_classes=100)\n",
    "    # Modify student model for 32x32 inputs\n",
    "    student_model.conv1 = nn.Conv2d(3, 64, kernel_size=3, stride=1, padding=0, bias=False)\n",
    "    student_model.maxpool = nn.Identity()\n",
    "    student_model.fuse_model()\n",
    "    student_model.qconfig = torch.quantization.get_default_qat_qconfig('fbgemm')\n",
    "    prepare_qat(student_model, inplace=True)\n",
    "    student_model.to(train_device)\n",
    "\n",
    "    # Calibration\n",
    "    student_model.eval()\n",
    "    disable_fake_quant(student_model)\n",
    "    enable_observer(student_model)\n",
    "    with torch.no_grad():\n",
    "        for i, (imgs, _) in enumerate(tqdm(train_loader, desc=\"Calibrating\", leave=True)):\n",
    "            if i >= 200:\n",
    "                break\n",
    "            imgs = imgs.to(train_device)\n",
    "            student_model(imgs)\n",
    "    disable_observer(student_model)\n",
    "    enable_fake_quant(student_model)\n",
    "\n",
    "    optimizer = optim.AdamW(student_model.parameters(), lr=1e-3, weight_decay=1e-4)\n",
    "    scheduler = optim.lr_scheduler.CosineAnnealingLR(optimizer, T_max=200)\n",
    "    criterion = KDLoss(temperature=3.0, alpha=0.7)\n",
    "    best_val_acc = 0.0\n",
    "    best_model_path = 'qat_kd_resnet50_cifar100_float_32x32_200.pth'\n",
    "    epochs = 200\n",
    "    patience = 20\n",
    "    patience_counter = 0\n",
    "\n",
    "    for epoch in range(epochs):\n",
    "        student_model.train()\n",
    "        enable_fake_quant(student_model)\n",
    "        running_loss = 0.0\n",
    "        for imgs, targets in tqdm(train_loader, desc=f\"Training Epoch {epoch+1}/{epochs}\", leave=True):\n",
    "            imgs, targets = imgs.to(train_device), targets.to(train_device)\n",
    "            optimizer.zero_grad()\n",
    "            with torch.no_grad():\n",
    "                teacher_outputs = teacher_model(imgs)\n",
    "            student_outputs = student_model(imgs)\n",
    "            loss = criterion(student_outputs, teacher_outputs, targets)\n",
    "            loss.backward()\n",
    "            optimizer.step()\n",
    "            running_loss += loss.item() * imgs.size(0)\n",
    "\n",
    "        val_acc, _ = evaluate_accuracy_and_latency(student_model, val_loader, train_device, desc=\"Validating\")\n",
    "        print(f\"Epoch {epoch+1}/{epochs} – Loss: {running_loss/len(train_idx):.4f}, ValAcc: {val_acc:.2f}%\")\n",
    "\n",
    "        if val_acc > best_val_acc:\n",
    "            best_val_acc = val_acc\n",
    "            torch.save(student_model.state_dict(), best_model_path)\n",
    "            print(f\"Saved best QAT+KD model with ValAcc: {best_val_acc:.2f}%\")\n",
    "            patience_counter = 0\n",
    "        else:\n",
    "            patience_counter += 1\n",
    "            print(f\"No improvement in validation accuracy. Patience counter: {patience_counter}/{patience}\")\n",
    "\n",
    "        if patience_counter >= patience:\n",
    "            print(f\"Early stopping triggered after {epoch+1} epochs.\")\n",
    "            break\n",
    "\n",
    "        scheduler.step()\n",
    "\n",
    "    student_model.load_state_dict(torch.load(best_model_path))\n",
    "    fake_quant_acc, fake_quant_latency = evaluate_accuracy_and_latency(student_model, test_loader, train_device, desc=\"Testing Fake-Quantized\")\n",
    "    print(f\"\\nBest Fake-Quantized Model – Test Accuracy: {fake_quant_acc:.2f}%\")\n",
    "    print(f\"Average Fake-Quantized Inference Latency (GPU): {fake_quant_latency:.2f} ms/batch\")\n",
    "\n",
    "    student_model.cpu()\n",
    "    student_model.eval()\n",
    "    quantized_model = convert(student_model, inplace=False)\n",
    "\n",
    "    int8_acc, int8_latency = evaluate_accuracy_and_latency(quantized_model, test_loader, test_device, desc=\"Testing INT8\")\n",
    "    print(f\"Best INT8 Model – Test Accuracy: {int8_acc:.2f}%\")\n",
    "    print(f\"Average INT8 Inference Latency (CPU): {int8_latency:.2f} ms/batch\")\n",
    "\n",
    "    # torch.save(quantized_model.state_dict(), 'qat_kd_resnet50_cifar100_int8_final_32x32_200.pth')\n",
    "    # TODO ONNX integration\n",
    "if __name__ == '__main__':\n",
    "    main()"
   ]
  },
  {
   "cell_type": "markdown",
   "id": "9dbe8c03-37e1-4094-b034-a3a46dcb39f2",
   "metadata": {},
   "source": [
    "# ENKD"
   ]
  },
  {
   "cell_type": "code",
   "execution_count": 2,
   "id": "5be1603a-2317-4aac-8880-ffe6bdccc8ff",
   "metadata": {
    "scrolled": true
   },
   "outputs": [
    {
     "name": "stdout",
     "output_type": "stream",
     "text": [
      "Files already downloaded and verified\n",
      "Files already downloaded and verified\n"
     ]
    },
    {
     "name": "stderr",
     "output_type": "stream",
     "text": [
      "/home/zeus/miniconda3/envs/cloudspace/lib/python3.10/site-packages/torchvision/models/_utils.py:208: UserWarning: The parameter 'pretrained' is deprecated since 0.13 and may be removed in the future, please use 'weights' instead.\n",
      "  warnings.warn(\n",
      "/home/zeus/miniconda3/envs/cloudspace/lib/python3.10/site-packages/torchvision/models/_utils.py:223: UserWarning: Arguments other than a weight enum or `None` for 'weights' are deprecated since 0.13 and may be removed in the future. The current behavior is equivalent to passing `weights=None`.\n",
      "  warnings.warn(msg)\n",
      "/home/zeus/miniconda3/envs/cloudspace/lib/python3.10/site-packages/torch/ao/quantization/observer.py:220: UserWarning: Please use quant_min and quant_max to specify the range for observers.                     reduce_range will be deprecated in a future release of PyTorch.\n",
      "  warnings.warn(\n",
      "Calibrating:   0%|          | 0/352 [00:00<?, ?it/s]/home/zeus/miniconda3/envs/cloudspace/lib/python3.10/site-packages/torch/ao/quantization/fake_quantize.py:353: UserWarning: _aminmax is deprecated as of PyTorch 1.11 and will be removed in a future release. Use aminmax instead. This warning will only appear once per process. (Triggered internally at ../aten/src/ATen/native/ReduceAllOps.cpp:71.)\n",
      "  return torch.fused_moving_avg_obs_fake_quant(\n",
      "/home/zeus/miniconda3/envs/cloudspace/lib/python3.10/site-packages/torch/ao/quantization/fake_quantize.py:353: UserWarning: _aminmax is deprecated as of PyTorch 1.11 and will be removed in a future release. Use aminmax instead. This warning will only appear once per process. (Triggered internally at ../aten/src/ATen/native/TensorCompare.cpp:687.)\n",
      "  return torch.fused_moving_avg_obs_fake_quant(\n",
      "/home/zeus/miniconda3/envs/cloudspace/lib/python3.10/site-packages/torch/nn/modules/conv.py:456: UserWarning: Plan failed with a cudnnException: CUDNN_BACKEND_EXECUTION_PLAN_DESCRIPTOR: cudnnFinalize Descriptor Failed cudnn_status: CUDNN_STATUS_NOT_SUPPORTED (Triggered internally at ../aten/src/ATen/native/cudnn/Conv_v8.cpp:919.)\n",
      "  return F.conv2d(input, weight, bias, self.stride,\n",
      "Training Epoch 1/200:   0%|          | 0/352 [00:00<?, ?it/s] /home/zeus/miniconda3/envs/cloudspace/lib/python3.10/site-packages/torch/autograd/graph.py:744: UserWarning: Plan failed with a cudnnException: CUDNN_BACKEND_EXECUTION_PLAN_DESCRIPTOR: cudnnFinalize Descriptor Failed cudnn_status: CUDNN_STATUS_NOT_SUPPORTED (Triggered internally at ../aten/src/ATen/native/cudnn/Conv_v8.cpp:919.)\n",
      "  return Variable._execution_engine.run_backward(  # Calls into the C++ engine to run the backward pass\n",
      "                                                                       \r"
     ]
    },
    {
     "name": "stdout",
     "output_type": "stream",
     "text": [
      "Epoch 1/200 – Loss: 2.2384, ValAcc: 15.56%\n",
      "Saved best QAT+EntKD model with ValAcc: 15.56%\n"
     ]
    },
    {
     "name": "stderr",
     "output_type": "stream",
     "text": [
      "                                                                       \r"
     ]
    },
    {
     "name": "stdout",
     "output_type": "stream",
     "text": [
      "Epoch 2/200 – Loss: 1.9454, ValAcc: 25.18%\n",
      "Saved best QAT+EntKD model with ValAcc: 25.18%\n"
     ]
    },
    {
     "name": "stderr",
     "output_type": "stream",
     "text": [
      "                                                                       \r"
     ]
    },
    {
     "name": "stdout",
     "output_type": "stream",
     "text": [
      "Epoch 3/200 – Loss: 1.7348, ValAcc: 29.84%\n",
      "Saved best QAT+EntKD model with ValAcc: 29.84%\n"
     ]
    },
    {
     "name": "stderr",
     "output_type": "stream",
     "text": [
      "                                                                       \r"
     ]
    },
    {
     "name": "stdout",
     "output_type": "stream",
     "text": [
      "Epoch 4/200 – Loss: 1.5564, ValAcc: 39.40%\n",
      "Saved best QAT+EntKD model with ValAcc: 39.40%\n"
     ]
    },
    {
     "name": "stderr",
     "output_type": "stream",
     "text": [
      "                                                                       \r"
     ]
    },
    {
     "name": "stdout",
     "output_type": "stream",
     "text": [
      "Epoch 5/200 – Loss: 1.4128, ValAcc: 43.64%\n",
      "Saved best QAT+EntKD model with ValAcc: 43.64%\n"
     ]
    },
    {
     "name": "stderr",
     "output_type": "stream",
     "text": [
      "                                                                       \r"
     ]
    },
    {
     "name": "stdout",
     "output_type": "stream",
     "text": [
      "Epoch 6/200 – Loss: 1.3001, ValAcc: 48.78%\n",
      "Saved best QAT+EntKD model with ValAcc: 48.78%\n"
     ]
    },
    {
     "name": "stderr",
     "output_type": "stream",
     "text": [
      "                                                                       \r"
     ]
    },
    {
     "name": "stdout",
     "output_type": "stream",
     "text": [
      "Epoch 7/200 – Loss: 1.2079, ValAcc: 48.12%\n",
      "No improvement in validation accuracy. Patience counter: 1/20\n"
     ]
    },
    {
     "name": "stderr",
     "output_type": "stream",
     "text": [
      "                                                                       \r"
     ]
    },
    {
     "name": "stdout",
     "output_type": "stream",
     "text": [
      "Epoch 8/200 – Loss: 1.1343, ValAcc: 54.24%\n",
      "Saved best QAT+EntKD model with ValAcc: 54.24%\n"
     ]
    },
    {
     "name": "stderr",
     "output_type": "stream",
     "text": [
      "                                                                       \r"
     ]
    },
    {
     "name": "stdout",
     "output_type": "stream",
     "text": [
      "Epoch 9/200 – Loss: 1.0715, ValAcc: 55.84%\n",
      "Saved best QAT+EntKD model with ValAcc: 55.84%\n"
     ]
    },
    {
     "name": "stderr",
     "output_type": "stream",
     "text": [
      "                                                                        \r"
     ]
    },
    {
     "name": "stdout",
     "output_type": "stream",
     "text": [
      "Epoch 10/200 – Loss: 1.0128, ValAcc: 58.24%\n",
      "Saved best QAT+EntKD model with ValAcc: 58.24%\n"
     ]
    },
    {
     "name": "stderr",
     "output_type": "stream",
     "text": [
      "                                                                        \r"
     ]
    },
    {
     "name": "stdout",
     "output_type": "stream",
     "text": [
      "Epoch 11/200 – Loss: 0.9626, ValAcc: 58.70%\n",
      "Saved best QAT+EntKD model with ValAcc: 58.70%\n"
     ]
    },
    {
     "name": "stderr",
     "output_type": "stream",
     "text": [
      "                                                                        \r"
     ]
    },
    {
     "name": "stdout",
     "output_type": "stream",
     "text": [
      "Epoch 12/200 – Loss: 0.9172, ValAcc: 61.36%\n",
      "Saved best QAT+EntKD model with ValAcc: 61.36%\n"
     ]
    },
    {
     "name": "stderr",
     "output_type": "stream",
     "text": [
      "                                                                        \r"
     ]
    },
    {
     "name": "stdout",
     "output_type": "stream",
     "text": [
      "Epoch 13/200 – Loss: 0.8736, ValAcc: 62.42%\n",
      "Saved best QAT+EntKD model with ValAcc: 62.42%\n"
     ]
    },
    {
     "name": "stderr",
     "output_type": "stream",
     "text": [
      "                                                                        \r"
     ]
    },
    {
     "name": "stdout",
     "output_type": "stream",
     "text": [
      "Epoch 14/200 – Loss: 0.8342, ValAcc: 63.52%\n",
      "Saved best QAT+EntKD model with ValAcc: 63.52%\n"
     ]
    },
    {
     "name": "stderr",
     "output_type": "stream",
     "text": [
      "                                                                        \r"
     ]
    },
    {
     "name": "stdout",
     "output_type": "stream",
     "text": [
      "Epoch 15/200 – Loss: 0.7912, ValAcc: 63.62%\n",
      "Saved best QAT+EntKD model with ValAcc: 63.62%\n"
     ]
    },
    {
     "name": "stderr",
     "output_type": "stream",
     "text": [
      "                                                                        \r"
     ]
    },
    {
     "name": "stdout",
     "output_type": "stream",
     "text": [
      "Epoch 16/200 – Loss: 0.7626, ValAcc: 63.38%\n",
      "No improvement in validation accuracy. Patience counter: 1/20\n"
     ]
    },
    {
     "name": "stderr",
     "output_type": "stream",
     "text": [
      "                                                                        \r"
     ]
    },
    {
     "name": "stdout",
     "output_type": "stream",
     "text": [
      "Epoch 17/200 – Loss: 0.7294, ValAcc: 65.22%\n",
      "Saved best QAT+EntKD model with ValAcc: 65.22%\n"
     ]
    },
    {
     "name": "stderr",
     "output_type": "stream",
     "text": [
      "                                                                        \r"
     ]
    },
    {
     "name": "stdout",
     "output_type": "stream",
     "text": [
      "Epoch 18/200 – Loss: 0.6986, ValAcc: 65.20%\n",
      "No improvement in validation accuracy. Patience counter: 1/20\n"
     ]
    },
    {
     "name": "stderr",
     "output_type": "stream",
     "text": [
      "                                                                        \r"
     ]
    },
    {
     "name": "stdout",
     "output_type": "stream",
     "text": [
      "Epoch 19/200 – Loss: 0.6620, ValAcc: 66.80%\n",
      "Saved best QAT+EntKD model with ValAcc: 66.80%\n"
     ]
    },
    {
     "name": "stderr",
     "output_type": "stream",
     "text": [
      "                                                                        \r"
     ]
    },
    {
     "name": "stdout",
     "output_type": "stream",
     "text": [
      "Epoch 20/200 – Loss: 0.6341, ValAcc: 65.56%\n",
      "No improvement in validation accuracy. Patience counter: 1/20\n"
     ]
    },
    {
     "name": "stderr",
     "output_type": "stream",
     "text": [
      "                                                                        \r"
     ]
    },
    {
     "name": "stdout",
     "output_type": "stream",
     "text": [
      "Epoch 21/200 – Loss: 0.6106, ValAcc: 64.98%\n",
      "No improvement in validation accuracy. Patience counter: 2/20\n"
     ]
    },
    {
     "name": "stderr",
     "output_type": "stream",
     "text": [
      "                                                                        \r"
     ]
    },
    {
     "name": "stdout",
     "output_type": "stream",
     "text": [
      "Epoch 22/200 – Loss: 0.5917, ValAcc: 65.64%\n",
      "No improvement in validation accuracy. Patience counter: 3/20\n"
     ]
    },
    {
     "name": "stderr",
     "output_type": "stream",
     "text": [
      "                                                                        \r"
     ]
    },
    {
     "name": "stdout",
     "output_type": "stream",
     "text": [
      "Epoch 23/200 – Loss: 0.5706, ValAcc: 67.64%\n",
      "Saved best QAT+EntKD model with ValAcc: 67.64%\n"
     ]
    },
    {
     "name": "stderr",
     "output_type": "stream",
     "text": [
      "                                                                        \r"
     ]
    },
    {
     "name": "stdout",
     "output_type": "stream",
     "text": [
      "Epoch 24/200 – Loss: 0.5451, ValAcc: 67.60%\n",
      "No improvement in validation accuracy. Patience counter: 1/20\n"
     ]
    },
    {
     "name": "stderr",
     "output_type": "stream",
     "text": [
      "                                                                        \r"
     ]
    },
    {
     "name": "stdout",
     "output_type": "stream",
     "text": [
      "Epoch 25/200 – Loss: 0.5321, ValAcc: 68.64%\n",
      "Saved best QAT+EntKD model with ValAcc: 68.64%\n"
     ]
    },
    {
     "name": "stderr",
     "output_type": "stream",
     "text": [
      "                                                                        \r"
     ]
    },
    {
     "name": "stdout",
     "output_type": "stream",
     "text": [
      "Epoch 26/200 – Loss: 0.5099, ValAcc: 67.94%\n",
      "No improvement in validation accuracy. Patience counter: 1/20\n"
     ]
    },
    {
     "name": "stderr",
     "output_type": "stream",
     "text": [
      "                                                                        \r"
     ]
    },
    {
     "name": "stdout",
     "output_type": "stream",
     "text": [
      "Epoch 27/200 – Loss: 0.4966, ValAcc: 69.06%\n",
      "Saved best QAT+EntKD model with ValAcc: 69.06%\n"
     ]
    },
    {
     "name": "stderr",
     "output_type": "stream",
     "text": [
      "                                                                        \r"
     ]
    },
    {
     "name": "stdout",
     "output_type": "stream",
     "text": [
      "Epoch 28/200 – Loss: 0.4727, ValAcc: 68.04%\n",
      "No improvement in validation accuracy. Patience counter: 1/20\n"
     ]
    },
    {
     "name": "stderr",
     "output_type": "stream",
     "text": [
      "                                                                        \r"
     ]
    },
    {
     "name": "stdout",
     "output_type": "stream",
     "text": [
      "Epoch 29/200 – Loss: 0.4640, ValAcc: 68.16%\n",
      "No improvement in validation accuracy. Patience counter: 2/20\n"
     ]
    },
    {
     "name": "stderr",
     "output_type": "stream",
     "text": [
      "                                                                        \r"
     ]
    },
    {
     "name": "stdout",
     "output_type": "stream",
     "text": [
      "Epoch 30/200 – Loss: 0.4503, ValAcc: 68.82%\n",
      "No improvement in validation accuracy. Patience counter: 3/20\n"
     ]
    },
    {
     "name": "stderr",
     "output_type": "stream",
     "text": [
      "                                                                        \r"
     ]
    },
    {
     "name": "stdout",
     "output_type": "stream",
     "text": [
      "Epoch 31/200 – Loss: 0.4347, ValAcc: 69.78%\n",
      "Saved best QAT+EntKD model with ValAcc: 69.78%\n"
     ]
    },
    {
     "name": "stderr",
     "output_type": "stream",
     "text": [
      "                                                                        \r"
     ]
    },
    {
     "name": "stdout",
     "output_type": "stream",
     "text": [
      "Epoch 32/200 – Loss: 0.4317, ValAcc: 68.44%\n",
      "No improvement in validation accuracy. Patience counter: 1/20\n"
     ]
    },
    {
     "name": "stderr",
     "output_type": "stream",
     "text": [
      "                                                                        \r"
     ]
    },
    {
     "name": "stdout",
     "output_type": "stream",
     "text": [
      "Epoch 33/200 – Loss: 0.4180, ValAcc: 67.90%\n",
      "No improvement in validation accuracy. Patience counter: 2/20\n"
     ]
    },
    {
     "name": "stderr",
     "output_type": "stream",
     "text": [
      "                                                                        \r"
     ]
    },
    {
     "name": "stdout",
     "output_type": "stream",
     "text": [
      "Epoch 34/200 – Loss: 0.4140, ValAcc: 68.50%\n",
      "No improvement in validation accuracy. Patience counter: 3/20\n"
     ]
    },
    {
     "name": "stderr",
     "output_type": "stream",
     "text": [
      "                                                                        \r"
     ]
    },
    {
     "name": "stdout",
     "output_type": "stream",
     "text": [
      "Epoch 35/200 – Loss: 0.4012, ValAcc: 68.94%\n",
      "No improvement in validation accuracy. Patience counter: 4/20\n"
     ]
    },
    {
     "name": "stderr",
     "output_type": "stream",
     "text": [
      "                                                                        \r"
     ]
    },
    {
     "name": "stdout",
     "output_type": "stream",
     "text": [
      "Epoch 36/200 – Loss: 0.3926, ValAcc: 67.66%\n",
      "No improvement in validation accuracy. Patience counter: 5/20\n"
     ]
    },
    {
     "name": "stderr",
     "output_type": "stream",
     "text": [
      "                                                                        \r"
     ]
    },
    {
     "name": "stdout",
     "output_type": "stream",
     "text": [
      "Epoch 37/200 – Loss: 0.3917, ValAcc: 68.88%\n",
      "No improvement in validation accuracy. Patience counter: 6/20\n"
     ]
    },
    {
     "name": "stderr",
     "output_type": "stream",
     "text": [
      "                                                                        \r"
     ]
    },
    {
     "name": "stdout",
     "output_type": "stream",
     "text": [
      "Epoch 38/200 – Loss: 0.3855, ValAcc: 69.92%\n",
      "Saved best QAT+EntKD model with ValAcc: 69.92%\n"
     ]
    },
    {
     "name": "stderr",
     "output_type": "stream",
     "text": [
      "                                                                        \r"
     ]
    },
    {
     "name": "stdout",
     "output_type": "stream",
     "text": [
      "Epoch 39/200 – Loss: 0.3790, ValAcc: 68.54%\n",
      "No improvement in validation accuracy. Patience counter: 1/20\n"
     ]
    },
    {
     "name": "stderr",
     "output_type": "stream",
     "text": [
      "                                                                        \r"
     ]
    },
    {
     "name": "stdout",
     "output_type": "stream",
     "text": [
      "Epoch 40/200 – Loss: 0.3740, ValAcc: 69.22%\n",
      "No improvement in validation accuracy. Patience counter: 2/20\n"
     ]
    },
    {
     "name": "stderr",
     "output_type": "stream",
     "text": [
      "                                                                        \r"
     ]
    },
    {
     "name": "stdout",
     "output_type": "stream",
     "text": [
      "Epoch 41/200 – Loss: 0.3687, ValAcc: 68.86%\n",
      "No improvement in validation accuracy. Patience counter: 3/20\n"
     ]
    },
    {
     "name": "stderr",
     "output_type": "stream",
     "text": [
      "                                                                        \r"
     ]
    },
    {
     "name": "stdout",
     "output_type": "stream",
     "text": [
      "Epoch 42/200 – Loss: 0.3621, ValAcc: 70.24%\n",
      "Saved best QAT+EntKD model with ValAcc: 70.24%\n"
     ]
    },
    {
     "name": "stderr",
     "output_type": "stream",
     "text": [
      "                                                                        \r"
     ]
    },
    {
     "name": "stdout",
     "output_type": "stream",
     "text": [
      "Epoch 43/200 – Loss: 0.3619, ValAcc: 70.40%\n",
      "Saved best QAT+EntKD model with ValAcc: 70.40%\n"
     ]
    },
    {
     "name": "stderr",
     "output_type": "stream",
     "text": [
      "                                                                        \r"
     ]
    },
    {
     "name": "stdout",
     "output_type": "stream",
     "text": [
      "Epoch 44/200 – Loss: 0.3590, ValAcc: 69.52%\n",
      "No improvement in validation accuracy. Patience counter: 1/20\n"
     ]
    },
    {
     "name": "stderr",
     "output_type": "stream",
     "text": [
      "                                                                        \r"
     ]
    },
    {
     "name": "stdout",
     "output_type": "stream",
     "text": [
      "Epoch 45/200 – Loss: 0.3632, ValAcc: 68.66%\n",
      "No improvement in validation accuracy. Patience counter: 2/20\n"
     ]
    },
    {
     "name": "stderr",
     "output_type": "stream",
     "text": [
      "                                                                        \r"
     ]
    },
    {
     "name": "stdout",
     "output_type": "stream",
     "text": [
      "Epoch 46/200 – Loss: 0.3493, ValAcc: 69.30%\n",
      "No improvement in validation accuracy. Patience counter: 3/20\n"
     ]
    },
    {
     "name": "stderr",
     "output_type": "stream",
     "text": [
      "                                                                        \r"
     ]
    },
    {
     "name": "stdout",
     "output_type": "stream",
     "text": [
      "Epoch 47/200 – Loss: 0.3484, ValAcc: 70.08%\n",
      "No improvement in validation accuracy. Patience counter: 4/20\n"
     ]
    },
    {
     "name": "stderr",
     "output_type": "stream",
     "text": [
      "                                                                        \r"
     ]
    },
    {
     "name": "stdout",
     "output_type": "stream",
     "text": [
      "Epoch 48/200 – Loss: 0.3440, ValAcc: 68.74%\n",
      "No improvement in validation accuracy. Patience counter: 5/20\n"
     ]
    },
    {
     "name": "stderr",
     "output_type": "stream",
     "text": [
      "                                                                        \r"
     ]
    },
    {
     "name": "stdout",
     "output_type": "stream",
     "text": [
      "Epoch 49/200 – Loss: 0.3419, ValAcc: 69.54%\n",
      "No improvement in validation accuracy. Patience counter: 6/20\n"
     ]
    },
    {
     "name": "stderr",
     "output_type": "stream",
     "text": [
      "                                                                        \r"
     ]
    },
    {
     "name": "stdout",
     "output_type": "stream",
     "text": [
      "Epoch 50/200 – Loss: 0.3414, ValAcc: 70.00%\n",
      "No improvement in validation accuracy. Patience counter: 7/20\n"
     ]
    },
    {
     "name": "stderr",
     "output_type": "stream",
     "text": [
      "                                                                        \r"
     ]
    },
    {
     "name": "stdout",
     "output_type": "stream",
     "text": [
      "Epoch 51/200 – Loss: 0.3387, ValAcc: 69.84%\n",
      "No improvement in validation accuracy. Patience counter: 8/20\n"
     ]
    },
    {
     "name": "stderr",
     "output_type": "stream",
     "text": [
      "                                                                        \r"
     ]
    },
    {
     "name": "stdout",
     "output_type": "stream",
     "text": [
      "Epoch 52/200 – Loss: 0.3321, ValAcc: 70.78%\n",
      "Saved best QAT+EntKD model with ValAcc: 70.78%\n"
     ]
    },
    {
     "name": "stderr",
     "output_type": "stream",
     "text": [
      "                                                                        \r"
     ]
    },
    {
     "name": "stdout",
     "output_type": "stream",
     "text": [
      "Epoch 53/200 – Loss: 0.3380, ValAcc: 69.90%\n",
      "No improvement in validation accuracy. Patience counter: 1/20\n"
     ]
    },
    {
     "name": "stderr",
     "output_type": "stream",
     "text": [
      "                                                                        \r"
     ]
    },
    {
     "name": "stdout",
     "output_type": "stream",
     "text": [
      "Epoch 54/200 – Loss: 0.3320, ValAcc: 70.40%\n",
      "No improvement in validation accuracy. Patience counter: 2/20\n"
     ]
    },
    {
     "name": "stderr",
     "output_type": "stream",
     "text": [
      "                                                                        \r"
     ]
    },
    {
     "name": "stdout",
     "output_type": "stream",
     "text": [
      "Epoch 55/200 – Loss: 0.3282, ValAcc: 70.30%\n",
      "No improvement in validation accuracy. Patience counter: 3/20\n"
     ]
    },
    {
     "name": "stderr",
     "output_type": "stream",
     "text": [
      "                                                                        \r"
     ]
    },
    {
     "name": "stdout",
     "output_type": "stream",
     "text": [
      "Epoch 56/200 – Loss: 0.3321, ValAcc: 69.06%\n",
      "No improvement in validation accuracy. Patience counter: 4/20\n"
     ]
    },
    {
     "name": "stderr",
     "output_type": "stream",
     "text": [
      "                                                                        \r"
     ]
    },
    {
     "name": "stdout",
     "output_type": "stream",
     "text": [
      "Epoch 57/200 – Loss: 0.3275, ValAcc: 70.16%\n",
      "No improvement in validation accuracy. Patience counter: 5/20\n"
     ]
    },
    {
     "name": "stderr",
     "output_type": "stream",
     "text": [
      "                                                                        \r"
     ]
    },
    {
     "name": "stdout",
     "output_type": "stream",
     "text": [
      "Epoch 58/200 – Loss: 0.3255, ValAcc: 71.36%\n",
      "Saved best QAT+EntKD model with ValAcc: 71.36%\n"
     ]
    },
    {
     "name": "stderr",
     "output_type": "stream",
     "text": [
      "                                                                        \r"
     ]
    },
    {
     "name": "stdout",
     "output_type": "stream",
     "text": [
      "Epoch 59/200 – Loss: 0.3207, ValAcc: 70.84%\n",
      "No improvement in validation accuracy. Patience counter: 1/20\n"
     ]
    },
    {
     "name": "stderr",
     "output_type": "stream",
     "text": [
      "                                                                        \r"
     ]
    },
    {
     "name": "stdout",
     "output_type": "stream",
     "text": [
      "Epoch 60/200 – Loss: 0.3201, ValAcc: 70.44%\n",
      "No improvement in validation accuracy. Patience counter: 2/20\n"
     ]
    },
    {
     "name": "stderr",
     "output_type": "stream",
     "text": [
      "                                                                        \r"
     ]
    },
    {
     "name": "stdout",
     "output_type": "stream",
     "text": [
      "Epoch 61/200 – Loss: 0.3204, ValAcc: 70.58%\n",
      "No improvement in validation accuracy. Patience counter: 3/20\n"
     ]
    },
    {
     "name": "stderr",
     "output_type": "stream",
     "text": [
      "                                                                        \r"
     ]
    },
    {
     "name": "stdout",
     "output_type": "stream",
     "text": [
      "Epoch 62/200 – Loss: 0.3190, ValAcc: 70.80%\n",
      "No improvement in validation accuracy. Patience counter: 4/20\n"
     ]
    },
    {
     "name": "stderr",
     "output_type": "stream",
     "text": [
      "                                                                        \r"
     ]
    },
    {
     "name": "stdout",
     "output_type": "stream",
     "text": [
      "Epoch 63/200 – Loss: 0.3177, ValAcc: 70.76%\n",
      "No improvement in validation accuracy. Patience counter: 5/20\n"
     ]
    },
    {
     "name": "stderr",
     "output_type": "stream",
     "text": [
      "                                                                        \r"
     ]
    },
    {
     "name": "stdout",
     "output_type": "stream",
     "text": [
      "Epoch 64/200 – Loss: 0.3135, ValAcc: 70.70%\n",
      "No improvement in validation accuracy. Patience counter: 6/20\n"
     ]
    },
    {
     "name": "stderr",
     "output_type": "stream",
     "text": [
      "                                                                        \r"
     ]
    },
    {
     "name": "stdout",
     "output_type": "stream",
     "text": [
      "Epoch 65/200 – Loss: 0.3163, ValAcc: 70.96%\n",
      "No improvement in validation accuracy. Patience counter: 7/20\n"
     ]
    },
    {
     "name": "stderr",
     "output_type": "stream",
     "text": [
      "                                                                        \r"
     ]
    },
    {
     "name": "stdout",
     "output_type": "stream",
     "text": [
      "Epoch 66/200 – Loss: 0.3112, ValAcc: 71.26%\n",
      "No improvement in validation accuracy. Patience counter: 8/20\n"
     ]
    },
    {
     "name": "stderr",
     "output_type": "stream",
     "text": [
      "                                                                        \r"
     ]
    },
    {
     "name": "stdout",
     "output_type": "stream",
     "text": [
      "Epoch 67/200 – Loss: 0.3108, ValAcc: 70.46%\n",
      "No improvement in validation accuracy. Patience counter: 9/20\n"
     ]
    },
    {
     "name": "stderr",
     "output_type": "stream",
     "text": [
      "                                                                        \r"
     ]
    },
    {
     "name": "stdout",
     "output_type": "stream",
     "text": [
      "Epoch 68/200 – Loss: 0.3140, ValAcc: 71.42%\n",
      "Saved best QAT+EntKD model with ValAcc: 71.42%\n"
     ]
    },
    {
     "name": "stderr",
     "output_type": "stream",
     "text": [
      "                                                                        \r"
     ]
    },
    {
     "name": "stdout",
     "output_type": "stream",
     "text": [
      "Epoch 69/200 – Loss: 0.3093, ValAcc: 71.62%\n",
      "Saved best QAT+EntKD model with ValAcc: 71.62%\n"
     ]
    },
    {
     "name": "stderr",
     "output_type": "stream",
     "text": [
      "                                                                        \r"
     ]
    },
    {
     "name": "stdout",
     "output_type": "stream",
     "text": [
      "Epoch 70/200 – Loss: 0.3081, ValAcc: 71.06%\n",
      "No improvement in validation accuracy. Patience counter: 1/20\n"
     ]
    },
    {
     "name": "stderr",
     "output_type": "stream",
     "text": [
      "                                                                        \r"
     ]
    },
    {
     "name": "stdout",
     "output_type": "stream",
     "text": [
      "Epoch 71/200 – Loss: 0.3066, ValAcc: 71.08%\n",
      "No improvement in validation accuracy. Patience counter: 2/20\n"
     ]
    },
    {
     "name": "stderr",
     "output_type": "stream",
     "text": [
      "                                                                        \r"
     ]
    },
    {
     "name": "stdout",
     "output_type": "stream",
     "text": [
      "Epoch 72/200 – Loss: 0.3070, ValAcc: 71.50%\n",
      "No improvement in validation accuracy. Patience counter: 3/20\n"
     ]
    },
    {
     "name": "stderr",
     "output_type": "stream",
     "text": [
      "                                                                        \r"
     ]
    },
    {
     "name": "stdout",
     "output_type": "stream",
     "text": [
      "Epoch 73/200 – Loss: 0.3055, ValAcc: 71.16%\n",
      "No improvement in validation accuracy. Patience counter: 4/20\n"
     ]
    },
    {
     "name": "stderr",
     "output_type": "stream",
     "text": [
      "                                                                        \r"
     ]
    },
    {
     "name": "stdout",
     "output_type": "stream",
     "text": [
      "Epoch 74/200 – Loss: 0.3036, ValAcc: 71.12%\n",
      "No improvement in validation accuracy. Patience counter: 5/20\n"
     ]
    },
    {
     "name": "stderr",
     "output_type": "stream",
     "text": [
      "                                                                        \r"
     ]
    },
    {
     "name": "stdout",
     "output_type": "stream",
     "text": [
      "Epoch 75/200 – Loss: 0.3016, ValAcc: 71.98%\n",
      "Saved best QAT+EntKD model with ValAcc: 71.98%\n"
     ]
    },
    {
     "name": "stderr",
     "output_type": "stream",
     "text": [
      "                                                                        \r"
     ]
    },
    {
     "name": "stdout",
     "output_type": "stream",
     "text": [
      "Epoch 76/200 – Loss: 0.3048, ValAcc: 71.76%\n",
      "No improvement in validation accuracy. Patience counter: 1/20\n"
     ]
    },
    {
     "name": "stderr",
     "output_type": "stream",
     "text": [
      "                                                                        \r"
     ]
    },
    {
     "name": "stdout",
     "output_type": "stream",
     "text": [
      "Epoch 77/200 – Loss: 0.3007, ValAcc: 71.60%\n",
      "No improvement in validation accuracy. Patience counter: 2/20\n"
     ]
    },
    {
     "name": "stderr",
     "output_type": "stream",
     "text": [
      "                                                                        \r"
     ]
    },
    {
     "name": "stdout",
     "output_type": "stream",
     "text": [
      "Epoch 78/200 – Loss: 0.3004, ValAcc: 71.36%\n",
      "No improvement in validation accuracy. Patience counter: 3/20\n"
     ]
    },
    {
     "name": "stderr",
     "output_type": "stream",
     "text": [
      "                                                                        \r"
     ]
    },
    {
     "name": "stdout",
     "output_type": "stream",
     "text": [
      "Epoch 79/200 – Loss: 0.3027, ValAcc: 71.56%\n",
      "No improvement in validation accuracy. Patience counter: 4/20\n"
     ]
    },
    {
     "name": "stderr",
     "output_type": "stream",
     "text": [
      "                                                                        \r"
     ]
    },
    {
     "name": "stdout",
     "output_type": "stream",
     "text": [
      "Epoch 80/200 – Loss: 0.3010, ValAcc: 70.28%\n",
      "No improvement in validation accuracy. Patience counter: 5/20\n"
     ]
    },
    {
     "name": "stderr",
     "output_type": "stream",
     "text": [
      "                                                                        \r"
     ]
    },
    {
     "name": "stdout",
     "output_type": "stream",
     "text": [
      "Epoch 81/200 – Loss: 0.2966, ValAcc: 72.30%\n",
      "Saved best QAT+EntKD model with ValAcc: 72.30%\n"
     ]
    },
    {
     "name": "stderr",
     "output_type": "stream",
     "text": [
      "                                                                        \r"
     ]
    },
    {
     "name": "stdout",
     "output_type": "stream",
     "text": [
      "Epoch 82/200 – Loss: 0.2974, ValAcc: 71.04%\n",
      "No improvement in validation accuracy. Patience counter: 1/20\n"
     ]
    },
    {
     "name": "stderr",
     "output_type": "stream",
     "text": [
      "                                                                        \r"
     ]
    },
    {
     "name": "stdout",
     "output_type": "stream",
     "text": [
      "Epoch 83/200 – Loss: 0.2979, ValAcc: 70.88%\n",
      "No improvement in validation accuracy. Patience counter: 2/20\n"
     ]
    },
    {
     "name": "stderr",
     "output_type": "stream",
     "text": [
      "                                                                        \r"
     ]
    },
    {
     "name": "stdout",
     "output_type": "stream",
     "text": [
      "Epoch 84/200 – Loss: 0.2965, ValAcc: 71.82%\n",
      "No improvement in validation accuracy. Patience counter: 3/20\n"
     ]
    },
    {
     "name": "stderr",
     "output_type": "stream",
     "text": [
      "                                                                        \r"
     ]
    },
    {
     "name": "stdout",
     "output_type": "stream",
     "text": [
      "Epoch 85/200 – Loss: 0.2944, ValAcc: 71.46%\n",
      "No improvement in validation accuracy. Patience counter: 4/20\n"
     ]
    },
    {
     "name": "stderr",
     "output_type": "stream",
     "text": [
      "                                                                        \r"
     ]
    },
    {
     "name": "stdout",
     "output_type": "stream",
     "text": [
      "Epoch 86/200 – Loss: 0.2951, ValAcc: 71.74%\n",
      "No improvement in validation accuracy. Patience counter: 5/20\n"
     ]
    },
    {
     "name": "stderr",
     "output_type": "stream",
     "text": [
      "                                                                        \r"
     ]
    },
    {
     "name": "stdout",
     "output_type": "stream",
     "text": [
      "Epoch 87/200 – Loss: 0.2923, ValAcc: 72.92%\n",
      "Saved best QAT+EntKD model with ValAcc: 72.92%\n"
     ]
    },
    {
     "name": "stderr",
     "output_type": "stream",
     "text": [
      "                                                                        \r"
     ]
    },
    {
     "name": "stdout",
     "output_type": "stream",
     "text": [
      "Epoch 88/200 – Loss: 0.2890, ValAcc: 73.20%\n",
      "Saved best QAT+EntKD model with ValAcc: 73.20%\n"
     ]
    },
    {
     "name": "stderr",
     "output_type": "stream",
     "text": [
      "                                                                        \r"
     ]
    },
    {
     "name": "stdout",
     "output_type": "stream",
     "text": [
      "Epoch 89/200 – Loss: 0.2904, ValAcc: 72.24%\n",
      "No improvement in validation accuracy. Patience counter: 1/20\n"
     ]
    },
    {
     "name": "stderr",
     "output_type": "stream",
     "text": [
      "                                                                        \r"
     ]
    },
    {
     "name": "stdout",
     "output_type": "stream",
     "text": [
      "Epoch 90/200 – Loss: 0.2939, ValAcc: 72.08%\n",
      "No improvement in validation accuracy. Patience counter: 2/20\n"
     ]
    },
    {
     "name": "stderr",
     "output_type": "stream",
     "text": [
      "                                                                        \r"
     ]
    },
    {
     "name": "stdout",
     "output_type": "stream",
     "text": [
      "Epoch 91/200 – Loss: 0.2918, ValAcc: 72.08%\n",
      "No improvement in validation accuracy. Patience counter: 3/20\n"
     ]
    },
    {
     "name": "stderr",
     "output_type": "stream",
     "text": [
      "                                                                        \r"
     ]
    },
    {
     "name": "stdout",
     "output_type": "stream",
     "text": [
      "Epoch 92/200 – Loss: 0.2922, ValAcc: 71.80%\n",
      "No improvement in validation accuracy. Patience counter: 4/20\n"
     ]
    },
    {
     "name": "stderr",
     "output_type": "stream",
     "text": [
      "                                                                        \r"
     ]
    },
    {
     "name": "stdout",
     "output_type": "stream",
     "text": [
      "Epoch 93/200 – Loss: 0.2893, ValAcc: 72.32%\n",
      "No improvement in validation accuracy. Patience counter: 5/20\n"
     ]
    },
    {
     "name": "stderr",
     "output_type": "stream",
     "text": [
      "                                                                        \r"
     ]
    },
    {
     "name": "stdout",
     "output_type": "stream",
     "text": [
      "Epoch 94/200 – Loss: 0.2907, ValAcc: 71.56%\n",
      "No improvement in validation accuracy. Patience counter: 6/20\n"
     ]
    },
    {
     "name": "stderr",
     "output_type": "stream",
     "text": [
      "                                                                        \r"
     ]
    },
    {
     "name": "stdout",
     "output_type": "stream",
     "text": [
      "Epoch 95/200 – Loss: 0.2890, ValAcc: 72.66%\n",
      "No improvement in validation accuracy. Patience counter: 7/20\n"
     ]
    },
    {
     "name": "stderr",
     "output_type": "stream",
     "text": [
      "                                                                        \r"
     ]
    },
    {
     "name": "stdout",
     "output_type": "stream",
     "text": [
      "Epoch 96/200 – Loss: 0.2873, ValAcc: 72.34%\n",
      "No improvement in validation accuracy. Patience counter: 8/20\n"
     ]
    },
    {
     "name": "stderr",
     "output_type": "stream",
     "text": [
      "                                                                        \r"
     ]
    },
    {
     "name": "stdout",
     "output_type": "stream",
     "text": [
      "Epoch 97/200 – Loss: 0.2853, ValAcc: 72.70%\n",
      "No improvement in validation accuracy. Patience counter: 9/20\n"
     ]
    },
    {
     "name": "stderr",
     "output_type": "stream",
     "text": [
      "                                                                        \r"
     ]
    },
    {
     "name": "stdout",
     "output_type": "stream",
     "text": [
      "Epoch 98/200 – Loss: 0.2850, ValAcc: 72.72%\n",
      "No improvement in validation accuracy. Patience counter: 10/20\n"
     ]
    },
    {
     "name": "stderr",
     "output_type": "stream",
     "text": [
      "                                                                        \r"
     ]
    },
    {
     "name": "stdout",
     "output_type": "stream",
     "text": [
      "Epoch 99/200 – Loss: 0.2860, ValAcc: 72.28%\n",
      "No improvement in validation accuracy. Patience counter: 11/20\n"
     ]
    },
    {
     "name": "stderr",
     "output_type": "stream",
     "text": [
      "                                                                         \r"
     ]
    },
    {
     "name": "stdout",
     "output_type": "stream",
     "text": [
      "Epoch 100/200 – Loss: 0.2874, ValAcc: 72.78%\n",
      "No improvement in validation accuracy. Patience counter: 12/20\n"
     ]
    },
    {
     "name": "stderr",
     "output_type": "stream",
     "text": [
      "                                                                         \r"
     ]
    },
    {
     "name": "stdout",
     "output_type": "stream",
     "text": [
      "Epoch 101/200 – Loss: 0.2861, ValAcc: 72.18%\n",
      "No improvement in validation accuracy. Patience counter: 13/20\n"
     ]
    },
    {
     "name": "stderr",
     "output_type": "stream",
     "text": [
      "                                                                         \r"
     ]
    },
    {
     "name": "stdout",
     "output_type": "stream",
     "text": [
      "Epoch 102/200 – Loss: 0.2863, ValAcc: 72.48%\n",
      "No improvement in validation accuracy. Patience counter: 14/20\n"
     ]
    },
    {
     "name": "stderr",
     "output_type": "stream",
     "text": [
      "                                                                         \r"
     ]
    },
    {
     "name": "stdout",
     "output_type": "stream",
     "text": [
      "Epoch 103/200 – Loss: 0.2829, ValAcc: 72.34%\n",
      "No improvement in validation accuracy. Patience counter: 15/20\n"
     ]
    },
    {
     "name": "stderr",
     "output_type": "stream",
     "text": [
      "                                                                         \r"
     ]
    },
    {
     "name": "stdout",
     "output_type": "stream",
     "text": [
      "Epoch 104/200 – Loss: 0.2850, ValAcc: 72.14%\n",
      "No improvement in validation accuracy. Patience counter: 16/20\n"
     ]
    },
    {
     "name": "stderr",
     "output_type": "stream",
     "text": [
      "                                                                         \r"
     ]
    },
    {
     "name": "stdout",
     "output_type": "stream",
     "text": [
      "Epoch 105/200 – Loss: 0.2856, ValAcc: 73.52%\n",
      "Saved best QAT+EntKD model with ValAcc: 73.52%\n"
     ]
    },
    {
     "name": "stderr",
     "output_type": "stream",
     "text": [
      "                                                                         \r"
     ]
    },
    {
     "name": "stdout",
     "output_type": "stream",
     "text": [
      "Epoch 106/200 – Loss: 0.2829, ValAcc: 73.24%\n",
      "No improvement in validation accuracy. Patience counter: 1/20\n"
     ]
    },
    {
     "name": "stderr",
     "output_type": "stream",
     "text": [
      "                                                                         \r"
     ]
    },
    {
     "name": "stdout",
     "output_type": "stream",
     "text": [
      "Epoch 107/200 – Loss: 0.2816, ValAcc: 72.80%\n",
      "No improvement in validation accuracy. Patience counter: 2/20\n"
     ]
    },
    {
     "name": "stderr",
     "output_type": "stream",
     "text": [
      "                                                                         \r"
     ]
    },
    {
     "name": "stdout",
     "output_type": "stream",
     "text": [
      "Epoch 108/200 – Loss: 0.2809, ValAcc: 73.20%\n",
      "No improvement in validation accuracy. Patience counter: 3/20\n"
     ]
    },
    {
     "name": "stderr",
     "output_type": "stream",
     "text": [
      "                                                                         \r"
     ]
    },
    {
     "name": "stdout",
     "output_type": "stream",
     "text": [
      "Epoch 109/200 – Loss: 0.2817, ValAcc: 71.80%\n",
      "No improvement in validation accuracy. Patience counter: 4/20\n"
     ]
    },
    {
     "name": "stderr",
     "output_type": "stream",
     "text": [
      "                                                                         \r"
     ]
    },
    {
     "name": "stdout",
     "output_type": "stream",
     "text": [
      "Epoch 110/200 – Loss: 0.2831, ValAcc: 73.14%\n",
      "No improvement in validation accuracy. Patience counter: 5/20\n"
     ]
    },
    {
     "name": "stderr",
     "output_type": "stream",
     "text": [
      "                                                                         \r"
     ]
    },
    {
     "name": "stdout",
     "output_type": "stream",
     "text": [
      "Epoch 111/200 – Loss: 0.2800, ValAcc: 73.62%\n",
      "Saved best QAT+EntKD model with ValAcc: 73.62%\n"
     ]
    },
    {
     "name": "stderr",
     "output_type": "stream",
     "text": [
      "                                                                         \r"
     ]
    },
    {
     "name": "stdout",
     "output_type": "stream",
     "text": [
      "Epoch 112/200 – Loss: 0.2812, ValAcc: 73.30%\n",
      "No improvement in validation accuracy. Patience counter: 1/20\n"
     ]
    },
    {
     "name": "stderr",
     "output_type": "stream",
     "text": [
      "                                                                         \r"
     ]
    },
    {
     "name": "stdout",
     "output_type": "stream",
     "text": [
      "Epoch 113/200 – Loss: 0.2793, ValAcc: 73.10%\n",
      "No improvement in validation accuracy. Patience counter: 2/20\n"
     ]
    },
    {
     "name": "stderr",
     "output_type": "stream",
     "text": [
      "                                                                         \r"
     ]
    },
    {
     "name": "stdout",
     "output_type": "stream",
     "text": [
      "Epoch 114/200 – Loss: 0.2799, ValAcc: 73.42%\n",
      "No improvement in validation accuracy. Patience counter: 3/20\n"
     ]
    },
    {
     "name": "stderr",
     "output_type": "stream",
     "text": [
      "                                                                         \r"
     ]
    },
    {
     "name": "stdout",
     "output_type": "stream",
     "text": [
      "Epoch 115/200 – Loss: 0.2799, ValAcc: 73.04%\n",
      "No improvement in validation accuracy. Patience counter: 4/20\n"
     ]
    },
    {
     "name": "stderr",
     "output_type": "stream",
     "text": [
      "                                                                         \r"
     ]
    },
    {
     "name": "stdout",
     "output_type": "stream",
     "text": [
      "Epoch 116/200 – Loss: 0.2797, ValAcc: 73.80%\n",
      "Saved best QAT+EntKD model with ValAcc: 73.80%\n"
     ]
    },
    {
     "name": "stderr",
     "output_type": "stream",
     "text": [
      "                                                                         \r"
     ]
    },
    {
     "name": "stdout",
     "output_type": "stream",
     "text": [
      "Epoch 117/200 – Loss: 0.2778, ValAcc: 73.16%\n",
      "No improvement in validation accuracy. Patience counter: 1/20\n"
     ]
    },
    {
     "name": "stderr",
     "output_type": "stream",
     "text": [
      "                                                                         \r"
     ]
    },
    {
     "name": "stdout",
     "output_type": "stream",
     "text": [
      "Epoch 118/200 – Loss: 0.2776, ValAcc: 73.56%\n",
      "No improvement in validation accuracy. Patience counter: 2/20\n"
     ]
    },
    {
     "name": "stderr",
     "output_type": "stream",
     "text": [
      "                                                                         \r"
     ]
    },
    {
     "name": "stdout",
     "output_type": "stream",
     "text": [
      "Epoch 119/200 – Loss: 0.2776, ValAcc: 73.32%\n",
      "No improvement in validation accuracy. Patience counter: 3/20\n"
     ]
    },
    {
     "name": "stderr",
     "output_type": "stream",
     "text": [
      "                                                                         \r"
     ]
    },
    {
     "name": "stdout",
     "output_type": "stream",
     "text": [
      "Epoch 120/200 – Loss: 0.2770, ValAcc: 72.98%\n",
      "No improvement in validation accuracy. Patience counter: 4/20\n"
     ]
    },
    {
     "name": "stderr",
     "output_type": "stream",
     "text": [
      "                                                                         \r"
     ]
    },
    {
     "name": "stdout",
     "output_type": "stream",
     "text": [
      "Epoch 121/200 – Loss: 0.2783, ValAcc: 73.62%\n",
      "No improvement in validation accuracy. Patience counter: 5/20\n"
     ]
    },
    {
     "name": "stderr",
     "output_type": "stream",
     "text": [
      "                                                                         \r"
     ]
    },
    {
     "name": "stdout",
     "output_type": "stream",
     "text": [
      "Epoch 122/200 – Loss: 0.2770, ValAcc: 73.22%\n",
      "No improvement in validation accuracy. Patience counter: 6/20\n"
     ]
    },
    {
     "name": "stderr",
     "output_type": "stream",
     "text": [
      "                                                                         \r"
     ]
    },
    {
     "name": "stdout",
     "output_type": "stream",
     "text": [
      "Epoch 123/200 – Loss: 0.2771, ValAcc: 73.40%\n",
      "No improvement in validation accuracy. Patience counter: 7/20\n"
     ]
    },
    {
     "name": "stderr",
     "output_type": "stream",
     "text": [
      "                                                                         \r"
     ]
    },
    {
     "name": "stdout",
     "output_type": "stream",
     "text": [
      "Epoch 124/200 – Loss: 0.2771, ValAcc: 73.76%\n",
      "No improvement in validation accuracy. Patience counter: 8/20\n"
     ]
    },
    {
     "name": "stderr",
     "output_type": "stream",
     "text": [
      "                                                                         \r"
     ]
    },
    {
     "name": "stdout",
     "output_type": "stream",
     "text": [
      "Epoch 125/200 – Loss: 0.2763, ValAcc: 74.12%\n",
      "Saved best QAT+EntKD model with ValAcc: 74.12%\n"
     ]
    },
    {
     "name": "stderr",
     "output_type": "stream",
     "text": [
      "                                                                         \r"
     ]
    },
    {
     "name": "stdout",
     "output_type": "stream",
     "text": [
      "Epoch 126/200 – Loss: 0.2750, ValAcc: 74.04%\n",
      "No improvement in validation accuracy. Patience counter: 1/20\n"
     ]
    },
    {
     "name": "stderr",
     "output_type": "stream",
     "text": [
      "                                                                         \r"
     ]
    },
    {
     "name": "stdout",
     "output_type": "stream",
     "text": [
      "Epoch 127/200 – Loss: 0.2748, ValAcc: 73.60%\n",
      "No improvement in validation accuracy. Patience counter: 2/20\n"
     ]
    },
    {
     "name": "stderr",
     "output_type": "stream",
     "text": [
      "                                                                         \r"
     ]
    },
    {
     "name": "stdout",
     "output_type": "stream",
     "text": [
      "Epoch 128/200 – Loss: 0.2744, ValAcc: 73.36%\n",
      "No improvement in validation accuracy. Patience counter: 3/20\n"
     ]
    },
    {
     "name": "stderr",
     "output_type": "stream",
     "text": [
      "                                                                         \r"
     ]
    },
    {
     "name": "stdout",
     "output_type": "stream",
     "text": [
      "Epoch 129/200 – Loss: 0.2746, ValAcc: 73.38%\n",
      "No improvement in validation accuracy. Patience counter: 4/20\n"
     ]
    },
    {
     "name": "stderr",
     "output_type": "stream",
     "text": [
      "                                                                         \r"
     ]
    },
    {
     "name": "stdout",
     "output_type": "stream",
     "text": [
      "Epoch 130/200 – Loss: 0.2742, ValAcc: 73.90%\n",
      "No improvement in validation accuracy. Patience counter: 5/20\n"
     ]
    },
    {
     "name": "stderr",
     "output_type": "stream",
     "text": [
      "                                                                         \r"
     ]
    },
    {
     "name": "stdout",
     "output_type": "stream",
     "text": [
      "Epoch 131/200 – Loss: 0.2737, ValAcc: 73.84%\n",
      "No improvement in validation accuracy. Patience counter: 6/20\n"
     ]
    },
    {
     "name": "stderr",
     "output_type": "stream",
     "text": [
      "                                                                         \r"
     ]
    },
    {
     "name": "stdout",
     "output_type": "stream",
     "text": [
      "Epoch 132/200 – Loss: 0.2732, ValAcc: 73.80%\n",
      "No improvement in validation accuracy. Patience counter: 7/20\n"
     ]
    },
    {
     "name": "stderr",
     "output_type": "stream",
     "text": [
      "                                                                         \r"
     ]
    },
    {
     "name": "stdout",
     "output_type": "stream",
     "text": [
      "Epoch 133/200 – Loss: 0.2748, ValAcc: 74.16%\n",
      "Saved best QAT+EntKD model with ValAcc: 74.16%\n"
     ]
    },
    {
     "name": "stderr",
     "output_type": "stream",
     "text": [
      "                                                                         \r"
     ]
    },
    {
     "name": "stdout",
     "output_type": "stream",
     "text": [
      "Epoch 134/200 – Loss: 0.2734, ValAcc: 73.54%\n",
      "No improvement in validation accuracy. Patience counter: 1/20\n"
     ]
    },
    {
     "name": "stderr",
     "output_type": "stream",
     "text": [
      "                                                                         \r"
     ]
    },
    {
     "name": "stdout",
     "output_type": "stream",
     "text": [
      "Epoch 135/200 – Loss: 0.2727, ValAcc: 74.06%\n",
      "No improvement in validation accuracy. Patience counter: 2/20\n"
     ]
    },
    {
     "name": "stderr",
     "output_type": "stream",
     "text": [
      "                                                                         \r"
     ]
    },
    {
     "name": "stdout",
     "output_type": "stream",
     "text": [
      "Epoch 136/200 – Loss: 0.2721, ValAcc: 73.82%\n",
      "No improvement in validation accuracy. Patience counter: 3/20\n"
     ]
    },
    {
     "name": "stderr",
     "output_type": "stream",
     "text": [
      "                                                                         \r"
     ]
    },
    {
     "name": "stdout",
     "output_type": "stream",
     "text": [
      "Epoch 137/200 – Loss: 0.2720, ValAcc: 74.40%\n",
      "Saved best QAT+EntKD model with ValAcc: 74.40%\n"
     ]
    },
    {
     "name": "stderr",
     "output_type": "stream",
     "text": [
      "                                                                         \r"
     ]
    },
    {
     "name": "stdout",
     "output_type": "stream",
     "text": [
      "Epoch 138/200 – Loss: 0.2750, ValAcc: 74.16%\n",
      "No improvement in validation accuracy. Patience counter: 1/20\n"
     ]
    },
    {
     "name": "stderr",
     "output_type": "stream",
     "text": [
      "                                                                         \r"
     ]
    },
    {
     "name": "stdout",
     "output_type": "stream",
     "text": [
      "Epoch 139/200 – Loss: 0.2733, ValAcc: 74.80%\n",
      "Saved best QAT+EntKD model with ValAcc: 74.80%\n"
     ]
    },
    {
     "name": "stderr",
     "output_type": "stream",
     "text": [
      "                                                                         \r"
     ]
    },
    {
     "name": "stdout",
     "output_type": "stream",
     "text": [
      "Epoch 140/200 – Loss: 0.2718, ValAcc: 74.58%\n",
      "No improvement in validation accuracy. Patience counter: 1/20\n"
     ]
    },
    {
     "name": "stderr",
     "output_type": "stream",
     "text": [
      "                                                                         \r"
     ]
    },
    {
     "name": "stdout",
     "output_type": "stream",
     "text": [
      "Epoch 141/200 – Loss: 0.2713, ValAcc: 74.88%\n",
      "Saved best QAT+EntKD model with ValAcc: 74.88%\n"
     ]
    },
    {
     "name": "stderr",
     "output_type": "stream",
     "text": [
      "                                                                         \r"
     ]
    },
    {
     "name": "stdout",
     "output_type": "stream",
     "text": [
      "Epoch 142/200 – Loss: 0.2713, ValAcc: 74.42%\n",
      "No improvement in validation accuracy. Patience counter: 1/20\n"
     ]
    },
    {
     "name": "stderr",
     "output_type": "stream",
     "text": [
      "                                                                         \r"
     ]
    },
    {
     "name": "stdout",
     "output_type": "stream",
     "text": [
      "Epoch 143/200 – Loss: 0.2711, ValAcc: 74.28%\n",
      "No improvement in validation accuracy. Patience counter: 2/20\n"
     ]
    },
    {
     "name": "stderr",
     "output_type": "stream",
     "text": [
      "                                                                         \r"
     ]
    },
    {
     "name": "stdout",
     "output_type": "stream",
     "text": [
      "Epoch 144/200 – Loss: 0.2708, ValAcc: 74.06%\n",
      "No improvement in validation accuracy. Patience counter: 3/20\n"
     ]
    },
    {
     "name": "stderr",
     "output_type": "stream",
     "text": [
      "                                                                         \r"
     ]
    },
    {
     "name": "stdout",
     "output_type": "stream",
     "text": [
      "Epoch 145/200 – Loss: 0.2705, ValAcc: 74.88%\n",
      "No improvement in validation accuracy. Patience counter: 4/20\n"
     ]
    },
    {
     "name": "stderr",
     "output_type": "stream",
     "text": [
      "                                                                         \r"
     ]
    },
    {
     "name": "stdout",
     "output_type": "stream",
     "text": [
      "Epoch 146/200 – Loss: 0.2706, ValAcc: 74.74%\n",
      "No improvement in validation accuracy. Patience counter: 5/20\n"
     ]
    },
    {
     "name": "stderr",
     "output_type": "stream",
     "text": [
      "                                                                         \r"
     ]
    },
    {
     "name": "stdout",
     "output_type": "stream",
     "text": [
      "Epoch 147/200 – Loss: 0.2704, ValAcc: 73.86%\n",
      "No improvement in validation accuracy. Patience counter: 6/20\n"
     ]
    },
    {
     "name": "stderr",
     "output_type": "stream",
     "text": [
      "                                                                         \r"
     ]
    },
    {
     "name": "stdout",
     "output_type": "stream",
     "text": [
      "Epoch 148/200 – Loss: 0.2701, ValAcc: 74.56%\n",
      "No improvement in validation accuracy. Patience counter: 7/20\n"
     ]
    },
    {
     "name": "stderr",
     "output_type": "stream",
     "text": [
      "                                                                         \r"
     ]
    },
    {
     "name": "stdout",
     "output_type": "stream",
     "text": [
      "Epoch 149/200 – Loss: 0.2697, ValAcc: 74.22%\n",
      "No improvement in validation accuracy. Patience counter: 8/20\n"
     ]
    },
    {
     "name": "stderr",
     "output_type": "stream",
     "text": [
      "                                                                         \r"
     ]
    },
    {
     "name": "stdout",
     "output_type": "stream",
     "text": [
      "Epoch 150/200 – Loss: 0.2697, ValAcc: 74.64%\n",
      "No improvement in validation accuracy. Patience counter: 9/20\n"
     ]
    },
    {
     "name": "stderr",
     "output_type": "stream",
     "text": [
      "                                                                         \r"
     ]
    },
    {
     "name": "stdout",
     "output_type": "stream",
     "text": [
      "Epoch 151/200 – Loss: 0.2698, ValAcc: 74.06%\n",
      "No improvement in validation accuracy. Patience counter: 10/20\n"
     ]
    },
    {
     "name": "stderr",
     "output_type": "stream",
     "text": [
      "                                                                         \r"
     ]
    },
    {
     "name": "stdout",
     "output_type": "stream",
     "text": [
      "Epoch 152/200 – Loss: 0.2696, ValAcc: 74.08%\n",
      "No improvement in validation accuracy. Patience counter: 11/20\n"
     ]
    },
    {
     "name": "stderr",
     "output_type": "stream",
     "text": [
      "                                                                         \r"
     ]
    },
    {
     "name": "stdout",
     "output_type": "stream",
     "text": [
      "Epoch 153/200 – Loss: 0.2692, ValAcc: 74.50%\n",
      "No improvement in validation accuracy. Patience counter: 12/20\n"
     ]
    },
    {
     "name": "stderr",
     "output_type": "stream",
     "text": [
      "                                                                         \r"
     ]
    },
    {
     "name": "stdout",
     "output_type": "stream",
     "text": [
      "Epoch 154/200 – Loss: 0.2690, ValAcc: 75.00%\n",
      "Saved best QAT+EntKD model with ValAcc: 75.00%\n"
     ]
    },
    {
     "name": "stderr",
     "output_type": "stream",
     "text": [
      "                                                                         \r"
     ]
    },
    {
     "name": "stdout",
     "output_type": "stream",
     "text": [
      "Epoch 155/200 – Loss: 0.2690, ValAcc: 74.38%\n",
      "No improvement in validation accuracy. Patience counter: 1/20\n"
     ]
    },
    {
     "name": "stderr",
     "output_type": "stream",
     "text": [
      "                                                                         \r"
     ]
    },
    {
     "name": "stdout",
     "output_type": "stream",
     "text": [
      "Epoch 156/200 – Loss: 0.2687, ValAcc: 74.56%\n",
      "No improvement in validation accuracy. Patience counter: 2/20\n"
     ]
    },
    {
     "name": "stderr",
     "output_type": "stream",
     "text": [
      "                                                                         \r"
     ]
    },
    {
     "name": "stdout",
     "output_type": "stream",
     "text": [
      "Epoch 157/200 – Loss: 0.2687, ValAcc: 74.46%\n",
      "No improvement in validation accuracy. Patience counter: 3/20\n"
     ]
    },
    {
     "name": "stderr",
     "output_type": "stream",
     "text": [
      "                                                                         \r"
     ]
    },
    {
     "name": "stdout",
     "output_type": "stream",
     "text": [
      "Epoch 158/200 – Loss: 0.2684, ValAcc: 74.44%\n",
      "No improvement in validation accuracy. Patience counter: 4/20\n"
     ]
    },
    {
     "name": "stderr",
     "output_type": "stream",
     "text": [
      "                                                                         \r"
     ]
    },
    {
     "name": "stdout",
     "output_type": "stream",
     "text": [
      "Epoch 159/200 – Loss: 0.2683, ValAcc: 75.04%\n",
      "Saved best QAT+EntKD model with ValAcc: 75.04%\n"
     ]
    },
    {
     "name": "stderr",
     "output_type": "stream",
     "text": [
      "                                                                         \r"
     ]
    },
    {
     "name": "stdout",
     "output_type": "stream",
     "text": [
      "Epoch 160/200 – Loss: 0.2681, ValAcc: 74.98%\n",
      "No improvement in validation accuracy. Patience counter: 1/20\n"
     ]
    },
    {
     "name": "stderr",
     "output_type": "stream",
     "text": [
      "                                                                         \r"
     ]
    },
    {
     "name": "stdout",
     "output_type": "stream",
     "text": [
      "Epoch 161/200 – Loss: 0.2682, ValAcc: 74.92%\n",
      "No improvement in validation accuracy. Patience counter: 2/20\n"
     ]
    },
    {
     "name": "stderr",
     "output_type": "stream",
     "text": [
      "                                                                         \r"
     ]
    },
    {
     "name": "stdout",
     "output_type": "stream",
     "text": [
      "Epoch 162/200 – Loss: 0.2681, ValAcc: 74.72%\n",
      "No improvement in validation accuracy. Patience counter: 3/20\n"
     ]
    },
    {
     "name": "stderr",
     "output_type": "stream",
     "text": [
      "                                                                         \r"
     ]
    },
    {
     "name": "stdout",
     "output_type": "stream",
     "text": [
      "Epoch 163/200 – Loss: 0.2681, ValAcc: 74.98%\n",
      "No improvement in validation accuracy. Patience counter: 4/20\n"
     ]
    },
    {
     "name": "stderr",
     "output_type": "stream",
     "text": [
      "                                                                         \r"
     ]
    },
    {
     "name": "stdout",
     "output_type": "stream",
     "text": [
      "Epoch 164/200 – Loss: 0.2676, ValAcc: 74.92%\n",
      "No improvement in validation accuracy. Patience counter: 5/20\n"
     ]
    },
    {
     "name": "stderr",
     "output_type": "stream",
     "text": [
      "                                                                         \r"
     ]
    },
    {
     "name": "stdout",
     "output_type": "stream",
     "text": [
      "Epoch 165/200 – Loss: 0.2675, ValAcc: 74.78%\n",
      "No improvement in validation accuracy. Patience counter: 6/20\n"
     ]
    },
    {
     "name": "stderr",
     "output_type": "stream",
     "text": [
      "                                                                         \r"
     ]
    },
    {
     "name": "stdout",
     "output_type": "stream",
     "text": [
      "Epoch 166/200 – Loss: 0.2675, ValAcc: 74.58%\n",
      "No improvement in validation accuracy. Patience counter: 7/20\n"
     ]
    },
    {
     "name": "stderr",
     "output_type": "stream",
     "text": [
      "                                                                         \r"
     ]
    },
    {
     "name": "stdout",
     "output_type": "stream",
     "text": [
      "Epoch 167/200 – Loss: 0.2674, ValAcc: 74.24%\n",
      "No improvement in validation accuracy. Patience counter: 8/20\n"
     ]
    },
    {
     "name": "stderr",
     "output_type": "stream",
     "text": [
      "                                                                         \r"
     ]
    },
    {
     "name": "stdout",
     "output_type": "stream",
     "text": [
      "Epoch 168/200 – Loss: 0.2673, ValAcc: 75.06%\n",
      "Saved best QAT+EntKD model with ValAcc: 75.06%\n"
     ]
    },
    {
     "name": "stderr",
     "output_type": "stream",
     "text": [
      "                                                                         \r"
     ]
    },
    {
     "name": "stdout",
     "output_type": "stream",
     "text": [
      "Epoch 169/200 – Loss: 0.2672, ValAcc: 74.46%\n",
      "No improvement in validation accuracy. Patience counter: 1/20\n"
     ]
    },
    {
     "name": "stderr",
     "output_type": "stream",
     "text": [
      "                                                                         \r"
     ]
    },
    {
     "name": "stdout",
     "output_type": "stream",
     "text": [
      "Epoch 170/200 – Loss: 0.2672, ValAcc: 74.88%\n",
      "No improvement in validation accuracy. Patience counter: 2/20\n"
     ]
    },
    {
     "name": "stderr",
     "output_type": "stream",
     "text": [
      "                                                                         \r"
     ]
    },
    {
     "name": "stdout",
     "output_type": "stream",
     "text": [
      "Epoch 171/200 – Loss: 0.2670, ValAcc: 74.74%\n",
      "No improvement in validation accuracy. Patience counter: 3/20\n"
     ]
    },
    {
     "name": "stderr",
     "output_type": "stream",
     "text": [
      "                                                                         \r"
     ]
    },
    {
     "name": "stdout",
     "output_type": "stream",
     "text": [
      "Epoch 172/200 – Loss: 0.2671, ValAcc: 74.90%\n",
      "No improvement in validation accuracy. Patience counter: 4/20\n"
     ]
    },
    {
     "name": "stderr",
     "output_type": "stream",
     "text": [
      "                                                                         \r"
     ]
    },
    {
     "name": "stdout",
     "output_type": "stream",
     "text": [
      "Epoch 173/200 – Loss: 0.2668, ValAcc: 74.24%\n",
      "No improvement in validation accuracy. Patience counter: 5/20\n"
     ]
    },
    {
     "name": "stderr",
     "output_type": "stream",
     "text": [
      "                                                                         \r"
     ]
    },
    {
     "name": "stdout",
     "output_type": "stream",
     "text": [
      "Epoch 174/200 – Loss: 0.2666, ValAcc: 74.24%\n",
      "No improvement in validation accuracy. Patience counter: 6/20\n"
     ]
    },
    {
     "name": "stderr",
     "output_type": "stream",
     "text": [
      "                                                                         \r"
     ]
    },
    {
     "name": "stdout",
     "output_type": "stream",
     "text": [
      "Epoch 175/200 – Loss: 0.2668, ValAcc: 74.58%\n",
      "No improvement in validation accuracy. Patience counter: 7/20\n"
     ]
    },
    {
     "name": "stderr",
     "output_type": "stream",
     "text": [
      "                                                                         \r"
     ]
    },
    {
     "name": "stdout",
     "output_type": "stream",
     "text": [
      "Epoch 176/200 – Loss: 0.2668, ValAcc: 74.80%\n",
      "No improvement in validation accuracy. Patience counter: 8/20\n"
     ]
    },
    {
     "name": "stderr",
     "output_type": "stream",
     "text": [
      "                                                                         \r"
     ]
    },
    {
     "name": "stdout",
     "output_type": "stream",
     "text": [
      "Epoch 177/200 – Loss: 0.2665, ValAcc: 74.84%\n",
      "No improvement in validation accuracy. Patience counter: 9/20\n"
     ]
    },
    {
     "name": "stderr",
     "output_type": "stream",
     "text": [
      "                                                                         \r"
     ]
    },
    {
     "name": "stdout",
     "output_type": "stream",
     "text": [
      "Epoch 178/200 – Loss: 0.2666, ValAcc: 73.98%\n",
      "No improvement in validation accuracy. Patience counter: 10/20\n"
     ]
    },
    {
     "name": "stderr",
     "output_type": "stream",
     "text": [
      "                                                                         \r"
     ]
    },
    {
     "name": "stdout",
     "output_type": "stream",
     "text": [
      "Epoch 179/200 – Loss: 0.2664, ValAcc: 73.98%\n",
      "No improvement in validation accuracy. Patience counter: 11/20\n"
     ]
    },
    {
     "name": "stderr",
     "output_type": "stream",
     "text": [
      "                                                                         \r"
     ]
    },
    {
     "name": "stdout",
     "output_type": "stream",
     "text": [
      "Epoch 180/200 – Loss: 0.2665, ValAcc: 74.86%\n",
      "No improvement in validation accuracy. Patience counter: 12/20\n"
     ]
    },
    {
     "name": "stderr",
     "output_type": "stream",
     "text": [
      "                                                                         \r"
     ]
    },
    {
     "name": "stdout",
     "output_type": "stream",
     "text": [
      "Epoch 181/200 – Loss: 0.2665, ValAcc: 74.76%\n",
      "No improvement in validation accuracy. Patience counter: 13/20\n"
     ]
    },
    {
     "name": "stderr",
     "output_type": "stream",
     "text": [
      "                                                                         \r"
     ]
    },
    {
     "name": "stdout",
     "output_type": "stream",
     "text": [
      "Epoch 182/200 – Loss: 0.2662, ValAcc: 73.94%\n",
      "No improvement in validation accuracy. Patience counter: 14/20\n"
     ]
    },
    {
     "name": "stderr",
     "output_type": "stream",
     "text": [
      "                                                                         \r"
     ]
    },
    {
     "name": "stdout",
     "output_type": "stream",
     "text": [
      "Epoch 183/200 – Loss: 0.2663, ValAcc: 74.26%\n",
      "No improvement in validation accuracy. Patience counter: 15/20\n"
     ]
    },
    {
     "name": "stderr",
     "output_type": "stream",
     "text": [
      "                                                                         \r"
     ]
    },
    {
     "name": "stdout",
     "output_type": "stream",
     "text": [
      "Epoch 184/200 – Loss: 0.2663, ValAcc: 74.56%\n",
      "No improvement in validation accuracy. Patience counter: 16/20\n"
     ]
    },
    {
     "name": "stderr",
     "output_type": "stream",
     "text": [
      "                                                                         \r"
     ]
    },
    {
     "name": "stdout",
     "output_type": "stream",
     "text": [
      "Epoch 185/200 – Loss: 0.2662, ValAcc: 74.76%\n",
      "No improvement in validation accuracy. Patience counter: 17/20\n"
     ]
    },
    {
     "name": "stderr",
     "output_type": "stream",
     "text": [
      "                                                                         \r"
     ]
    },
    {
     "name": "stdout",
     "output_type": "stream",
     "text": [
      "Epoch 186/200 – Loss: 0.2662, ValAcc: 75.32%\n",
      "Saved best QAT+EntKD model with ValAcc: 75.32%\n"
     ]
    },
    {
     "name": "stderr",
     "output_type": "stream",
     "text": [
      "                                                                         \r"
     ]
    },
    {
     "name": "stdout",
     "output_type": "stream",
     "text": [
      "Epoch 187/200 – Loss: 0.2664, ValAcc: 74.66%\n",
      "No improvement in validation accuracy. Patience counter: 1/20\n"
     ]
    },
    {
     "name": "stderr",
     "output_type": "stream",
     "text": [
      "                                                                         \r"
     ]
    },
    {
     "name": "stdout",
     "output_type": "stream",
     "text": [
      "Epoch 188/200 – Loss: 0.2663, ValAcc: 75.26%\n",
      "No improvement in validation accuracy. Patience counter: 2/20\n"
     ]
    },
    {
     "name": "stderr",
     "output_type": "stream",
     "text": [
      "                                                                         \r"
     ]
    },
    {
     "name": "stdout",
     "output_type": "stream",
     "text": [
      "Epoch 189/200 – Loss: 0.2663, ValAcc: 75.36%\n",
      "Saved best QAT+EntKD model with ValAcc: 75.36%\n"
     ]
    },
    {
     "name": "stderr",
     "output_type": "stream",
     "text": [
      "                                                                         \r"
     ]
    },
    {
     "name": "stdout",
     "output_type": "stream",
     "text": [
      "Epoch 190/200 – Loss: 0.2662, ValAcc: 74.72%\n",
      "No improvement in validation accuracy. Patience counter: 1/20\n"
     ]
    },
    {
     "name": "stderr",
     "output_type": "stream",
     "text": [
      "                                                                         \r"
     ]
    },
    {
     "name": "stdout",
     "output_type": "stream",
     "text": [
      "Epoch 191/200 – Loss: 0.2661, ValAcc: 74.66%\n",
      "No improvement in validation accuracy. Patience counter: 2/20\n"
     ]
    },
    {
     "name": "stderr",
     "output_type": "stream",
     "text": [
      "                                                                         \r"
     ]
    },
    {
     "name": "stdout",
     "output_type": "stream",
     "text": [
      "Epoch 192/200 – Loss: 0.2660, ValAcc: 75.06%\n",
      "No improvement in validation accuracy. Patience counter: 3/20\n"
     ]
    },
    {
     "name": "stderr",
     "output_type": "stream",
     "text": [
      "                                                                         \r"
     ]
    },
    {
     "name": "stdout",
     "output_type": "stream",
     "text": [
      "Epoch 193/200 – Loss: 0.2659, ValAcc: 74.62%\n",
      "No improvement in validation accuracy. Patience counter: 4/20\n"
     ]
    },
    {
     "name": "stderr",
     "output_type": "stream",
     "text": [
      "                                                                         \r"
     ]
    },
    {
     "name": "stdout",
     "output_type": "stream",
     "text": [
      "Epoch 194/200 – Loss: 0.2660, ValAcc: 74.18%\n",
      "No improvement in validation accuracy. Patience counter: 5/20\n"
     ]
    },
    {
     "name": "stderr",
     "output_type": "stream",
     "text": [
      "                                                                         \r"
     ]
    },
    {
     "name": "stdout",
     "output_type": "stream",
     "text": [
      "Epoch 195/200 – Loss: 0.2659, ValAcc: 74.88%\n",
      "No improvement in validation accuracy. Patience counter: 6/20\n"
     ]
    },
    {
     "name": "stderr",
     "output_type": "stream",
     "text": [
      "                                                                         \r"
     ]
    },
    {
     "name": "stdout",
     "output_type": "stream",
     "text": [
      "Epoch 196/200 – Loss: 0.2659, ValAcc: 74.86%\n",
      "No improvement in validation accuracy. Patience counter: 7/20\n"
     ]
    },
    {
     "name": "stderr",
     "output_type": "stream",
     "text": [
      "                                                                         \r"
     ]
    },
    {
     "name": "stdout",
     "output_type": "stream",
     "text": [
      "Epoch 197/200 – Loss: 0.2659, ValAcc: 74.70%\n",
      "No improvement in validation accuracy. Patience counter: 8/20\n"
     ]
    },
    {
     "name": "stderr",
     "output_type": "stream",
     "text": [
      "                                                                         \r"
     ]
    },
    {
     "name": "stdout",
     "output_type": "stream",
     "text": [
      "Epoch 198/200 – Loss: 0.2660, ValAcc: 75.00%\n",
      "No improvement in validation accuracy. Patience counter: 9/20\n"
     ]
    },
    {
     "name": "stderr",
     "output_type": "stream",
     "text": [
      "                                                                         \r"
     ]
    },
    {
     "name": "stdout",
     "output_type": "stream",
     "text": [
      "Epoch 199/200 – Loss: 0.2660, ValAcc: 75.08%\n",
      "No improvement in validation accuracy. Patience counter: 10/20\n"
     ]
    },
    {
     "name": "stderr",
     "output_type": "stream",
     "text": [
      "                                                                         \r"
     ]
    },
    {
     "name": "stdout",
     "output_type": "stream",
     "text": [
      "Epoch 200/200 – Loss: 0.2661, ValAcc: 74.76%\n",
      "No improvement in validation accuracy. Patience counter: 11/20\n"
     ]
    },
    {
     "name": "stderr",
     "output_type": "stream",
     "text": [
      "                                                                           \r"
     ]
    },
    {
     "name": "stdout",
     "output_type": "stream",
     "text": [
      "\n",
      "Best Fake-Quantized Model – Test Accuracy: 74.73%\n",
      "Average Fake-Quantized Inference Latency (GPU): 25.67 ms/batch\n"
     ]
    },
    {
     "name": "stderr",
     "output_type": "stream",
     "text": [
      "                                                                 \r"
     ]
    },
    {
     "name": "stdout",
     "output_type": "stream",
     "text": [
      "Best INT8 Model – Test Accuracy: 74.78%\n",
      "Average INT8 Inference Latency (CPU): 130.35 ms/batch\n"
     ]
    }
   ],
   "source": [
    "import os\n",
    "import time\n",
    "import torch\n",
    "import torch.nn as nn\n",
    "import torch.optim as optim\n",
    "import torch.nn.functional as F\n",
    "import torchvision\n",
    "import torchvision.transforms as transforms\n",
    "from torch.utils.data import DataLoader, SubsetRandomSampler\n",
    "from torch.quantization import (\n",
    "    prepare_qat,\n",
    "    convert,\n",
    "    enable_observer,\n",
    "    disable_observer,\n",
    "    enable_fake_quant,\n",
    "    disable_fake_quant,\n",
    ")\n",
    "from torchvision.models.quantization import resnet50\n",
    "import numpy as np\n",
    "from tqdm import tqdm\n",
    "\n",
    "torch.backends.quantized.engine = 'fbgemm'\n",
    "\n",
    "def get_cifar100_data_loaders(data_dir='./data'):\n",
    "    train_tf = transforms.Compose([\n",
    "        transforms.RandomCrop(32, padding=4),\n",
    "        transforms.RandomHorizontalFlip(),\n",
    "        transforms.ToTensor(),\n",
    "        transforms.Normalize((0.5071, 0.4867, 0.4408), (0.2675, 0.2565, 0.2761)),\n",
    "    ])\n",
    "    test_tf = transforms.Compose([\n",
    "        transforms.ToTensor(),\n",
    "        transforms.Normalize((0.5071, 0.4867, 0.4408), (0.2675, 0.2565, 0.2761)),\n",
    "    ])\n",
    "\n",
    "    train_ds = torchvision.datasets.CIFAR100(data_dir, train=True, download=True, transform=train_tf)\n",
    "    test_ds = torchvision.datasets.CIFAR100(data_dir, train=False, download=True, transform=test_tf)\n",
    "\n",
    "    train_size = len(train_ds)\n",
    "    indices = list(range(train_size))\n",
    "    np.random.seed(42)\n",
    "    np.random.shuffle(indices)\n",
    "    split = int(0.1 * train_size)\n",
    "    train_idx, val_idx = indices[split:], indices[:split]\n",
    "\n",
    "    train_loader = DataLoader(train_ds, batch_size=128, sampler=SubsetRandomSampler(train_idx), num_workers=4, pin_memory=True)\n",
    "    val_loader = DataLoader(train_ds, batch_size=256, sampler=SubsetRandomSampler(val_idx), num_workers=4, pin_memory=True)\n",
    "    test_loader = DataLoader(test_ds, batch_size=8, shuffle=False, num_workers=4, pin_memory=False)\n",
    "\n",
    "    return train_loader, val_loader, test_loader, train_idx\n",
    "\n",
    "def evaluate_accuracy_and_latency(model, loader, device, num_batches=None, desc=\"Evaluating\"):\n",
    "    model.eval()\n",
    "    model.to(device)\n",
    "    correct = total = 0\n",
    "    latencies = []\n",
    "    with torch.no_grad():\n",
    "        for i, (imgs, labels) in enumerate(tqdm(loader, desc=desc, leave=False)):\n",
    "            if num_batches is not None and i >= num_batches:\n",
    "                break\n",
    "            imgs, labels = imgs.to(device), labels.to(device)\n",
    "            start_time = time.time()\n",
    "            outputs = model(imgs)\n",
    "            latency = (time.time() - start_time) * 1000  # Latency in ms/batch\n",
    "            latencies.append(latency)\n",
    "            preds = outputs.argmax(dim=1)\n",
    "            correct += (preds == labels).sum().item()\n",
    "            total += labels.size(0)\n",
    "    accuracy = 100.0 * correct / total\n",
    "    avg_latency = sum(latencies) / len(latencies) if latencies else 0.0\n",
    "    return accuracy, avg_latency\n",
    "\n",
    "class EntKDLoss(nn.Module):\n",
    "    def __init__(self, base_temperature=3.0, alpha=0.7, beta=0.1):\n",
    "        super(EntKDLoss, self).__init__()\n",
    "        self.base_temperature = base_temperature\n",
    "        self.alpha = alpha\n",
    "        self.beta = beta\n",
    "        self.ce_loss = nn.CrossEntropyLoss(label_smoothing=0.1)\n",
    "        self.kld_loss = nn.KLDivLoss(reduction='batchmean')\n",
    "\n",
    "    def forward(self, student_outputs, teacher_outputs, labels):\n",
    "        # Compute teacher entropy\n",
    "        teacher_probs = F.softmax(teacher_outputs, dim=1)\n",
    "        entropy = -torch.sum(teacher_probs * torch.log(teacher_probs + 1e-10), dim=1).mean()\n",
    "        \n",
    "        # Dynamic temperature\n",
    "        temperature = self.base_temperature / (1 + self.beta * entropy)\n",
    "        temperature = torch.clamp(temperature, min=1.0, max=10.0)  # Prevent extreme values\n",
    "\n",
    "        # Compute loss\n",
    "        ce = self.ce_loss(student_outputs, labels)\n",
    "        kld = self.kld_loss(\n",
    "            F.log_softmax(student_outputs / temperature, dim=1),\n",
    "            F.softmax(teacher_outputs / temperature, dim=1)\n",
    "        ) * (temperature ** 2)\n",
    "        return self.alpha * ce + (1 - self.alpha) * kld\n",
    "\n",
    "def main():\n",
    "    train_device = torch.device('cuda' if torch.cuda.is_available() else 'cpu')\n",
    "    assert train_device.type == 'cuda', \"GPU not available for training/validation\"\n",
    "    test_device = torch.device('cpu')\n",
    "\n",
    "    train_loader, val_loader, test_loader, train_idx = get_cifar100_data_loaders()\n",
    "\n",
    "    # Load pre-trained FP32 teacher model\n",
    "    teacher_model = resnet50(pretrained=False, num_classes=100)\n",
    "    teacher_model.conv1 = nn.Conv2d(3, 64, kernel_size=3, stride=1, padding=0, bias=False)\n",
    "    teacher_model.maxpool = nn.Identity()\n",
    "    teacher_model.load_state_dict(torch.load('best_fp32_resnet50_cifar100_32x32_200.pth'))\n",
    "    teacher_model.to(train_device)\n",
    "    teacher_model.eval()\n",
    "\n",
    "    # Initialize QAT student model\n",
    "    student_model = resnet50(pretrained=False, quantize=False, num_classes=100)\n",
    "    student_model.conv1 = nn.Conv2d(3, 64, kernel_size=3, stride=1, padding=0, bias=False)\n",
    "    student_model.maxpool = nn.Identity()\n",
    "    student_model.fuse_model()\n",
    "    student_model.qconfig = torch.quantization.get_default_qat_qconfig('fbgemm')\n",
    "    prepare_qat(student_model, inplace=True)\n",
    "    student_model.to(train_device)\n",
    "\n",
    "    # Calibration\n",
    "    student_model.eval()\n",
    "    disable_fake_quant(student_model)\n",
    "    enable_observer(student_model)\n",
    "    with torch.no_grad():\n",
    "        for i, (imgs, _) in enumerate(tqdm(train_loader, desc=\"Calibrating\", leave=False)):\n",
    "            if i >= 200:\n",
    "                break\n",
    "            imgs = imgs.to(train_device)\n",
    "            student_model(imgs)\n",
    "    disable_observer(student_model)\n",
    "    enable_fake_quant(student_model)\n",
    "\n",
    "    optimizer = optim.AdamW(student_model.parameters(), lr=1e-3, weight_decay=1e-4)\n",
    "    scheduler = optim.lr_scheduler.CosineAnnealingLR(optimizer, T_max=200)\n",
    "    criterion = EntKDLoss(base_temperature=3.0, alpha=0.3, beta=0.1)  # Fixed: temperature -> base_temperature\n",
    "    best_val_acc = 0.0\n",
    "    best_model_path = 'qat_entkd_resnet50_cifar100_float_32x32_200.pth'\n",
    "    epochs = 200\n",
    "    patience = 20\n",
    "    patience_counter = 0\n",
    "\n",
    "    for epoch in range(epochs):\n",
    "        student_model.train()\n",
    "        enable_fake_quant(student_model)\n",
    "        running_loss = 0.0\n",
    "        for imgs, targets in tqdm(train_loader, desc=f\"Training Epoch {epoch+1}/{epochs}\", leave=False):\n",
    "            imgs, targets = imgs.to(train_device), targets.to(train_device)\n",
    "            optimizer.zero_grad()\n",
    "            with torch.no_grad():\n",
    "                teacher_outputs = teacher_model(imgs)\n",
    "            student_outputs = student_model(imgs)\n",
    "            loss = criterion(student_outputs, teacher_outputs, targets)\n",
    "            loss.backward()\n",
    "            optimizer.step()\n",
    "            running_loss += loss.item() * imgs.size(0)\n",
    "\n",
    "        val_acc, _ = evaluate_accuracy_and_latency(student_model, val_loader, train_device, desc=\"Validating\")\n",
    "        print(f\"Epoch {epoch+1}/{epochs} – Loss: {running_loss/len(train_idx):.4f}, ValAcc: {val_acc:.2f}%\")\n",
    "\n",
    "        if val_acc > best_val_acc:\n",
    "            best_val_acc = val_acc\n",
    "            torch.save(student_model.state_dict(), best_model_path)\n",
    "            print(f\"Saved best QAT+EntKD model with ValAcc: {best_val_acc:.2f}%\")\n",
    "            patience_counter = 0\n",
    "        else:\n",
    "            patience_counter += 1\n",
    "            print(f\"No improvement in validation accuracy. Patience counter: {patience_counter}/{patience}\")\n",
    "\n",
    "        if patience_counter >= patience:\n",
    "            print(f\"Early stopping triggered after {epoch+1} epochs.\")\n",
    "            break\n",
    "\n",
    "        scheduler.step()\n",
    "\n",
    "    student_model.load_state_dict(torch.load(best_model_path))\n",
    "    fake_quant_acc, fake_quant_latency = evaluate_accuracy_and_latency(student_model, test_loader, train_device, desc=\"Testing Fake-Quantized\")\n",
    "    print(f\"\\nBest Fake-Quantized Model – Test Accuracy: {fake_quant_acc:.2f}%\")\n",
    "    print(f\"Average Fake-Quantized Inference Latency (GPU): {fake_quant_latency:.2f} ms/batch\")\n",
    "\n",
    "    student_model.cpu()\n",
    "    student_model.eval()\n",
    "    quantized_model = convert(student_model, inplace=False)\n",
    "\n",
    "    int8_acc, int8_latency = evaluate_accuracy_and_latency(quantized_model, test_loader, test_device, desc=\"Testing INT8\")\n",
    "    print(f\"Best INT8 Model – Test Accuracy: {int8_acc:.2f}%\")\n",
    "    print(f\"Average INT8 Inference Latency (CPU): {int8_latency:.2f} ms/batch\")\n",
    "\n",
    "    # torch.save(quantized_model.state_dict(), 'qat_entkd_resnet50_cifar100_int8_final_32x32_200.pth')\n",
    "    # TODO ONNX integration\n",
    "if __name__ == '__main__':\n",
    "    main()"
   ]
  },
  {
   "cell_type": "code",
   "execution_count": null,
   "id": "b8ec8087-85b5-4317-9c69-777585b616c5",
   "metadata": {},
   "outputs": [],
   "source": []
  },
  {
   "cell_type": "code",
   "execution_count": null,
   "id": "a2db6449-3b29-48e5-830a-3bdbcb3fa6ff",
   "metadata": {},
   "outputs": [],
   "source": []
  }
 ],
 "metadata": {
  "kernelspec": {
   "display_name": "Python 3",
   "language": "python",
   "name": "python3"
  },
  "language_info": {
   "codemirror_mode": {
    "name": "ipython",
    "version": 3
   },
   "file_extension": ".py",
   "mimetype": "text/x-python",
   "name": "python",
   "nbconvert_exporter": "python",
   "pygments_lexer": "ipython3",
   "version": "3.10.10"
  }
 },
 "nbformat": 4,
 "nbformat_minor": 5
}
