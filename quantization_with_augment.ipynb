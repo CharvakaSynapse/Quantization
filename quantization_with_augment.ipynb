{
 "cells": [
  {
   "cell_type": "code",
   "execution_count": null,
   "id": "3826faea-4222-4a0f-a5a6-3a9c33dad576",
   "metadata": {},
   "outputs": [],
   "source": []
  },
  {
   "cell_type": "markdown",
   "id": "556224a9-2493-4c70-8a50-4de5363fee3b",
   "metadata": {},
   "source": [
    "# Imports and Data Preparation"
   ]
  },
  {
   "cell_type": "code",
   "execution_count": 1,
   "id": "e02c47d4-399a-4262-a1ca-015b4c54c341",
   "metadata": {},
   "outputs": [],
   "source": [
    "import os\n",
    "import time\n",
    "import torch\n",
    "import torch.nn as nn\n",
    "import torch.optim as optim\n",
    "import torchvision\n",
    "import torchvision.transforms as transforms\n",
    "from torch.utils.data import DataLoader, SubsetRandomSampler\n",
    "from torch.quantization import (\n",
    "    prepare_qat,\n",
    "    convert,\n",
    "    enable_observer,\n",
    "    disable_observer,\n",
    "    enable_fake_quant,\n",
    "    disable_fake_quant,\n",
    ")\n",
    "from torchvision.models.quantization import resnet50\n",
    "import numpy as np\n",
    "from tqdm import tqdm"
   ]
  },
  {
   "cell_type": "code",
   "execution_count": 2,
   "id": "94dbcb0a-52ee-4848-be63-8a852af600f6",
   "metadata": {},
   "outputs": [
    {
     "name": "stdout",
     "output_type": "stream",
     "text": [
      "Files already downloaded and verified\n",
      "Files already downloaded and verified\n"
     ]
    }
   ],
   "source": [
    "def get_cifar100_data_loaders(data_dir='./data'):\n",
    "    train_tf = transforms.Compose([\n",
    "        transforms.RandomCrop(32, padding=4),\n",
    "        transforms.RandomHorizontalFlip(),\n",
    "        transforms.ToTensor(),\n",
    "        transforms.Normalize((0.5071, 0.4867, 0.4408), (0.2675, 0.2565, 0.2761)),\n",
    "    ])\n",
    "    test_tf = transforms.Compose([\n",
    "        transforms.ToTensor(),\n",
    "        transforms.Normalize((0.5071, 0.4867, 0.4408), (0.2675, 0.2565, 0.2761)),\n",
    "    ])\n",
    "\n",
    "    train_ds = torchvision.datasets.CIFAR100(data_dir, train=True, download=True, transform=train_tf)\n",
    "    test_ds = torchvision.datasets.CIFAR100(data_dir, train=False, download=True, transform=test_tf)\n",
    "\n",
    "    train_size = len(train_ds)\n",
    "    indices = list(range(train_size))\n",
    "    np.random.seed(42)\n",
    "    np.random.shuffle(indices)\n",
    "    split = int(0.1 * train_size)\n",
    "    train_idx, val_idx = indices[split:], indices[:split]\n",
    "\n",
    "    train_loader = DataLoader(train_ds, batch_size=128, sampler=SubsetRandomSampler(train_idx), num_workers=4, pin_memory=True)\n",
    "    val_loader = DataLoader(train_ds, batch_size=256, sampler=SubsetRandomSampler(val_idx), num_workers=4, pin_memory=True)\n",
    "    test_loader = DataLoader(test_ds, batch_size=8, shuffle=False, num_workers=4, pin_memory=False)\n",
    "\n",
    "    return train_loader, val_loader, test_loader, train_idx\n",
    "\n",
    "def cutmix(data, targets, alpha=1.0):\n",
    "    batch_size = data.size(0)\n",
    "    indices = torch.randperm(batch_size)\n",
    "    shuffled_data = data[indices]\n",
    "    shuffled_targets = targets[indices]\n",
    "\n",
    "    lam = np.random.beta(alpha, alpha)\n",
    "    bbx1, bby1, bbx2, bby2 = rand_bbox(data.size(), lam)\n",
    "    data[:, :, bbx1:bbx2, bby1:bby2] = shuffled_data[:, :, bbx1:bbx2, bby1:bby2]\n",
    "    lam = 1 - ((bbx2 - bbx1) * (bby2 - bby1) / (data.size(-1) * data.size(-2)))\n",
    "\n",
    "    return data, targets, shuffled_targets, lam\n",
    "\n",
    "def rand_bbox(size, lam):\n",
    "    W = size[2]\n",
    "    H = size[3]\n",
    "    cut_rat = np.sqrt(1. - lam)\n",
    "    cut_w = int(W * cut_rat)\n",
    "    cut_h = int(H * cut_rat)\n",
    "\n",
    "    cx = np.random.randint(W)\n",
    "    cy = np.random.randint(H)\n",
    "\n",
    "    bbx1 = np.clip(cx - cut_w // 2, 0, W)\n",
    "    bby1 = np.clip(cy - cut_h // 2, 0, H)\n",
    "    bbx2 = np.clip(cx + cut_w // 2, 0, W)\n",
    "    bby2 = np.clip(cy + cut_h // 2, 0, H)\n",
    "\n",
    "    return bbx1, bby1, bbx2, bby2\n",
    "\n",
    "train_loader, val_loader, test_loader, train_idx = get_cifar100_data_loaders()"
   ]
  },
  {
   "cell_type": "markdown",
   "id": "1893beb2-70e2-4f83-ab45-a526a32325db",
   "metadata": {},
   "source": [
    "# fp32 with quantized resnet model"
   ]
  },
  {
   "cell_type": "code",
   "execution_count": 6,
   "id": "01dd1e45-6014-433d-b88f-2a0491e9e3cf",
   "metadata": {},
   "outputs": [
    {
     "name": "stderr",
     "output_type": "stream",
     "text": [
      "Training Epoch 1/100: 100%|██████████| 352/352 [00:19<00:00, 17.63it/s]\n",
      "                                                           \r"
     ]
    },
    {
     "name": "stdout",
     "output_type": "stream",
     "text": [
      "Epoch 1/100 – Loss: 4.3153, Val Accuracy: 13.44%\n",
      "Saved best FP32 model with Val Accuracy: 13.44%\n"
     ]
    },
    {
     "name": "stderr",
     "output_type": "stream",
     "text": [
      "Training Epoch 2/100: 100%|██████████| 352/352 [00:20<00:00, 17.53it/s]\n",
      "                                                           \r"
     ]
    },
    {
     "name": "stdout",
     "output_type": "stream",
     "text": [
      "Epoch 2/100 – Loss: 3.9347, Val Accuracy: 18.54%\n",
      "Saved best FP32 model with Val Accuracy: 18.54%\n"
     ]
    },
    {
     "name": "stderr",
     "output_type": "stream",
     "text": [
      "Training Epoch 3/100: 100%|██████████| 352/352 [00:19<00:00, 17.67it/s]\n",
      "                                                           \r"
     ]
    },
    {
     "name": "stdout",
     "output_type": "stream",
     "text": [
      "Epoch 3/100 – Loss: 3.6401, Val Accuracy: 26.36%\n",
      "Saved best FP32 model with Val Accuracy: 26.36%\n"
     ]
    },
    {
     "name": "stderr",
     "output_type": "stream",
     "text": [
      "Training Epoch 4/100: 100%|██████████| 352/352 [00:19<00:00, 17.62it/s]\n",
      "                                                           \r"
     ]
    },
    {
     "name": "stdout",
     "output_type": "stream",
     "text": [
      "Epoch 4/100 – Loss: 3.4129, Val Accuracy: 35.50%\n",
      "Saved best FP32 model with Val Accuracy: 35.50%\n"
     ]
    },
    {
     "name": "stderr",
     "output_type": "stream",
     "text": [
      "Training Epoch 5/100: 100%|██████████| 352/352 [00:20<00:00, 17.46it/s]\n",
      "                                                           \r"
     ]
    },
    {
     "name": "stdout",
     "output_type": "stream",
     "text": [
      "Epoch 5/100 – Loss: 3.1587, Val Accuracy: 37.34%\n",
      "Saved best FP32 model with Val Accuracy: 37.34%\n"
     ]
    },
    {
     "name": "stderr",
     "output_type": "stream",
     "text": [
      "Training Epoch 6/100: 100%|██████████| 352/352 [00:20<00:00, 17.58it/s]\n",
      "                                                           \r"
     ]
    },
    {
     "name": "stdout",
     "output_type": "stream",
     "text": [
      "Epoch 6/100 – Loss: 3.0546, Val Accuracy: 42.62%\n",
      "Saved best FP32 model with Val Accuracy: 42.62%\n"
     ]
    },
    {
     "name": "stderr",
     "output_type": "stream",
     "text": [
      "Training Epoch 7/100: 100%|██████████| 352/352 [00:20<00:00, 17.45it/s]\n",
      "                                                           \r"
     ]
    },
    {
     "name": "stdout",
     "output_type": "stream",
     "text": [
      "Epoch 7/100 – Loss: 2.9393, Val Accuracy: 46.62%\n",
      "Saved best FP32 model with Val Accuracy: 46.62%\n"
     ]
    },
    {
     "name": "stderr",
     "output_type": "stream",
     "text": [
      "Training Epoch 8/100: 100%|██████████| 352/352 [00:19<00:00, 17.64it/s]\n",
      "                                                           \r"
     ]
    },
    {
     "name": "stdout",
     "output_type": "stream",
     "text": [
      "Epoch 8/100 – Loss: 2.8389, Val Accuracy: 48.34%\n",
      "Saved best FP32 model with Val Accuracy: 48.34%\n"
     ]
    },
    {
     "name": "stderr",
     "output_type": "stream",
     "text": [
      "Training Epoch 9/100: 100%|██████████| 352/352 [00:20<00:00, 17.48it/s]\n",
      "                                                           \r"
     ]
    },
    {
     "name": "stdout",
     "output_type": "stream",
     "text": [
      "Epoch 9/100 – Loss: 2.8216, Val Accuracy: 49.78%\n",
      "Saved best FP32 model with Val Accuracy: 49.78%\n"
     ]
    },
    {
     "name": "stderr",
     "output_type": "stream",
     "text": [
      "Training Epoch 10/100: 100%|██████████| 352/352 [00:19<00:00, 17.62it/s]\n",
      "                                                           \r"
     ]
    },
    {
     "name": "stdout",
     "output_type": "stream",
     "text": [
      "Epoch 10/100 – Loss: 2.6850, Val Accuracy: 52.48%\n",
      "Saved best FP32 model with Val Accuracy: 52.48%\n"
     ]
    },
    {
     "name": "stderr",
     "output_type": "stream",
     "text": [
      "Training Epoch 11/100: 100%|██████████| 352/352 [00:20<00:00, 17.51it/s]\n",
      "                                                           \r"
     ]
    },
    {
     "name": "stdout",
     "output_type": "stream",
     "text": [
      "Epoch 11/100 – Loss: 2.5140, Val Accuracy: 56.72%\n",
      "Saved best FP32 model with Val Accuracy: 56.72%\n"
     ]
    },
    {
     "name": "stderr",
     "output_type": "stream",
     "text": [
      "Training Epoch 12/100: 100%|██████████| 352/352 [00:20<00:00, 17.58it/s]\n",
      "                                                           \r"
     ]
    },
    {
     "name": "stdout",
     "output_type": "stream",
     "text": [
      "Epoch 12/100 – Loss: 2.5248, Val Accuracy: 54.76%\n",
      "No improvement in validation accuracy. Patience counter: 1/20\n"
     ]
    },
    {
     "name": "stderr",
     "output_type": "stream",
     "text": [
      "Training Epoch 13/100: 100%|██████████| 352/352 [00:20<00:00, 17.52it/s]\n",
      "                                                           \r"
     ]
    },
    {
     "name": "stdout",
     "output_type": "stream",
     "text": [
      "Epoch 13/100 – Loss: 2.4979, Val Accuracy: 58.66%\n",
      "Saved best FP32 model with Val Accuracy: 58.66%\n"
     ]
    },
    {
     "name": "stderr",
     "output_type": "stream",
     "text": [
      "Training Epoch 14/100: 100%|██████████| 352/352 [00:19<00:00, 17.63it/s]\n",
      "                                                           \r"
     ]
    },
    {
     "name": "stdout",
     "output_type": "stream",
     "text": [
      "Epoch 14/100 – Loss: 2.4577, Val Accuracy: 59.52%\n",
      "Saved best FP32 model with Val Accuracy: 59.52%\n"
     ]
    },
    {
     "name": "stderr",
     "output_type": "stream",
     "text": [
      "Training Epoch 15/100: 100%|██████████| 352/352 [00:19<00:00, 17.62it/s]\n",
      "                                                           \r"
     ]
    },
    {
     "name": "stdout",
     "output_type": "stream",
     "text": [
      "Epoch 15/100 – Loss: 2.4030, Val Accuracy: 60.26%\n",
      "Saved best FP32 model with Val Accuracy: 60.26%\n"
     ]
    },
    {
     "name": "stderr",
     "output_type": "stream",
     "text": [
      "Training Epoch 16/100: 100%|██████████| 352/352 [00:20<00:00, 17.47it/s]\n",
      "                                                           \r"
     ]
    },
    {
     "name": "stdout",
     "output_type": "stream",
     "text": [
      "Epoch 16/100 – Loss: 2.3608, Val Accuracy: 63.32%\n",
      "Saved best FP32 model with Val Accuracy: 63.32%\n"
     ]
    },
    {
     "name": "stderr",
     "output_type": "stream",
     "text": [
      "Training Epoch 17/100: 100%|██████████| 352/352 [00:19<00:00, 17.65it/s]\n",
      "                                                           \r"
     ]
    },
    {
     "name": "stdout",
     "output_type": "stream",
     "text": [
      "Epoch 17/100 – Loss: 2.2525, Val Accuracy: 64.02%\n",
      "Saved best FP32 model with Val Accuracy: 64.02%\n"
     ]
    },
    {
     "name": "stderr",
     "output_type": "stream",
     "text": [
      "Training Epoch 18/100: 100%|██████████| 352/352 [00:20<00:00, 17.54it/s]\n",
      "                                                           \r"
     ]
    },
    {
     "name": "stdout",
     "output_type": "stream",
     "text": [
      "Epoch 18/100 – Loss: 2.2988, Val Accuracy: 61.34%\n",
      "No improvement in validation accuracy. Patience counter: 1/20\n"
     ]
    },
    {
     "name": "stderr",
     "output_type": "stream",
     "text": [
      "Training Epoch 19/100: 100%|██████████| 352/352 [00:19<00:00, 17.67it/s]\n",
      "                                                           \r"
     ]
    },
    {
     "name": "stdout",
     "output_type": "stream",
     "text": [
      "Epoch 19/100 – Loss: 2.3230, Val Accuracy: 64.78%\n",
      "Saved best FP32 model with Val Accuracy: 64.78%\n"
     ]
    },
    {
     "name": "stderr",
     "output_type": "stream",
     "text": [
      "Training Epoch 20/100: 100%|██████████| 352/352 [00:20<00:00, 17.54it/s]\n",
      "                                                           \r"
     ]
    },
    {
     "name": "stdout",
     "output_type": "stream",
     "text": [
      "Epoch 20/100 – Loss: 2.1720, Val Accuracy: 63.62%\n",
      "No improvement in validation accuracy. Patience counter: 1/20\n"
     ]
    },
    {
     "name": "stderr",
     "output_type": "stream",
     "text": [
      "Training Epoch 21/100: 100%|██████████| 352/352 [00:19<00:00, 17.61it/s]\n",
      "                                                           \r"
     ]
    },
    {
     "name": "stdout",
     "output_type": "stream",
     "text": [
      "Epoch 21/100 – Loss: 2.0947, Val Accuracy: 66.24%\n",
      "Saved best FP32 model with Val Accuracy: 66.24%\n"
     ]
    },
    {
     "name": "stderr",
     "output_type": "stream",
     "text": [
      "Training Epoch 22/100: 100%|██████████| 352/352 [00:19<00:00, 17.60it/s]\n",
      "                                                           \r"
     ]
    },
    {
     "name": "stdout",
     "output_type": "stream",
     "text": [
      "Epoch 22/100 – Loss: 2.1347, Val Accuracy: 67.54%\n",
      "Saved best FP32 model with Val Accuracy: 67.54%\n"
     ]
    },
    {
     "name": "stderr",
     "output_type": "stream",
     "text": [
      "Training Epoch 23/100: 100%|██████████| 352/352 [00:20<00:00, 17.52it/s]\n",
      "                                                           \r"
     ]
    },
    {
     "name": "stdout",
     "output_type": "stream",
     "text": [
      "Epoch 23/100 – Loss: 2.0554, Val Accuracy: 67.86%\n",
      "Saved best FP32 model with Val Accuracy: 67.86%\n"
     ]
    },
    {
     "name": "stderr",
     "output_type": "stream",
     "text": [
      "Training Epoch 24/100: 100%|██████████| 352/352 [00:19<00:00, 17.69it/s]\n",
      "                                                           \r"
     ]
    },
    {
     "name": "stdout",
     "output_type": "stream",
     "text": [
      "Epoch 24/100 – Loss: 2.0416, Val Accuracy: 68.96%\n",
      "Saved best FP32 model with Val Accuracy: 68.96%\n"
     ]
    },
    {
     "name": "stderr",
     "output_type": "stream",
     "text": [
      "Training Epoch 25/100: 100%|██████████| 352/352 [00:20<00:00, 17.52it/s]\n",
      "                                                           \r"
     ]
    },
    {
     "name": "stdout",
     "output_type": "stream",
     "text": [
      "Epoch 25/100 – Loss: 2.0106, Val Accuracy: 67.68%\n",
      "No improvement in validation accuracy. Patience counter: 1/20\n"
     ]
    },
    {
     "name": "stderr",
     "output_type": "stream",
     "text": [
      "Training Epoch 26/100: 100%|██████████| 352/352 [00:19<00:00, 17.66it/s]\n",
      "                                                           \r"
     ]
    },
    {
     "name": "stdout",
     "output_type": "stream",
     "text": [
      "Epoch 26/100 – Loss: 2.0431, Val Accuracy: 69.46%\n",
      "Saved best FP32 model with Val Accuracy: 69.46%\n"
     ]
    },
    {
     "name": "stderr",
     "output_type": "stream",
     "text": [
      "Training Epoch 27/100: 100%|██████████| 352/352 [00:20<00:00, 17.53it/s]\n",
      "                                                           \r"
     ]
    },
    {
     "name": "stdout",
     "output_type": "stream",
     "text": [
      "Epoch 27/100 – Loss: 1.9424, Val Accuracy: 69.02%\n",
      "No improvement in validation accuracy. Patience counter: 1/20\n"
     ]
    },
    {
     "name": "stderr",
     "output_type": "stream",
     "text": [
      "Training Epoch 28/100: 100%|██████████| 352/352 [00:19<00:00, 17.69it/s]\n",
      "                                                           \r"
     ]
    },
    {
     "name": "stdout",
     "output_type": "stream",
     "text": [
      "Epoch 28/100 – Loss: 1.9593, Val Accuracy: 69.04%\n",
      "No improvement in validation accuracy. Patience counter: 2/20\n"
     ]
    },
    {
     "name": "stderr",
     "output_type": "stream",
     "text": [
      "Training Epoch 29/100: 100%|██████████| 352/352 [00:19<00:00, 17.70it/s]\n",
      "                                                           \r"
     ]
    },
    {
     "name": "stdout",
     "output_type": "stream",
     "text": [
      "Epoch 29/100 – Loss: 1.9024, Val Accuracy: 68.46%\n",
      "No improvement in validation accuracy. Patience counter: 3/20\n"
     ]
    },
    {
     "name": "stderr",
     "output_type": "stream",
     "text": [
      "Training Epoch 30/100: 100%|██████████| 352/352 [00:20<00:00, 17.52it/s]\n",
      "                                                           \r"
     ]
    },
    {
     "name": "stdout",
     "output_type": "stream",
     "text": [
      "Epoch 30/100 – Loss: 1.9016, Val Accuracy: 70.48%\n",
      "Saved best FP32 model with Val Accuracy: 70.48%\n"
     ]
    },
    {
     "name": "stderr",
     "output_type": "stream",
     "text": [
      "Training Epoch 31/100: 100%|██████████| 352/352 [00:20<00:00, 17.58it/s]\n",
      "                                                           \r"
     ]
    },
    {
     "name": "stdout",
     "output_type": "stream",
     "text": [
      "Epoch 31/100 – Loss: 1.8306, Val Accuracy: 70.26%\n",
      "No improvement in validation accuracy. Patience counter: 1/20\n"
     ]
    },
    {
     "name": "stderr",
     "output_type": "stream",
     "text": [
      "Training Epoch 32/100: 100%|██████████| 352/352 [00:20<00:00, 17.49it/s]\n",
      "                                                           \r"
     ]
    },
    {
     "name": "stdout",
     "output_type": "stream",
     "text": [
      "Epoch 32/100 – Loss: 1.8713, Val Accuracy: 70.86%\n",
      "Saved best FP32 model with Val Accuracy: 70.86%\n"
     ]
    },
    {
     "name": "stderr",
     "output_type": "stream",
     "text": [
      "Training Epoch 33/100: 100%|██████████| 352/352 [00:19<00:00, 17.64it/s]\n",
      "                                                           \r"
     ]
    },
    {
     "name": "stdout",
     "output_type": "stream",
     "text": [
      "Epoch 33/100 – Loss: 1.8177, Val Accuracy: 70.92%\n",
      "Saved best FP32 model with Val Accuracy: 70.92%\n"
     ]
    },
    {
     "name": "stderr",
     "output_type": "stream",
     "text": [
      "Training Epoch 34/100: 100%|██████████| 352/352 [00:19<00:00, 17.65it/s]\n",
      "                                                           \r"
     ]
    },
    {
     "name": "stdout",
     "output_type": "stream",
     "text": [
      "Epoch 34/100 – Loss: 1.7299, Val Accuracy: 71.34%\n",
      "Saved best FP32 model with Val Accuracy: 71.34%\n"
     ]
    },
    {
     "name": "stderr",
     "output_type": "stream",
     "text": [
      "Training Epoch 35/100: 100%|██████████| 352/352 [00:20<00:00, 17.46it/s]\n",
      "                                                           \r"
     ]
    },
    {
     "name": "stdout",
     "output_type": "stream",
     "text": [
      "Epoch 35/100 – Loss: 1.7888, Val Accuracy: 70.54%\n",
      "No improvement in validation accuracy. Patience counter: 1/20\n"
     ]
    },
    {
     "name": "stderr",
     "output_type": "stream",
     "text": [
      "Training Epoch 36/100: 100%|██████████| 352/352 [00:19<00:00, 17.62it/s]\n",
      "                                                           \r"
     ]
    },
    {
     "name": "stdout",
     "output_type": "stream",
     "text": [
      "Epoch 36/100 – Loss: 1.7638, Val Accuracy: 71.08%\n",
      "No improvement in validation accuracy. Patience counter: 2/20\n"
     ]
    },
    {
     "name": "stderr",
     "output_type": "stream",
     "text": [
      "Training Epoch 37/100: 100%|██████████| 352/352 [00:20<00:00, 17.56it/s]\n",
      "                                                           \r"
     ]
    },
    {
     "name": "stdout",
     "output_type": "stream",
     "text": [
      "Epoch 37/100 – Loss: 1.7364, Val Accuracy: 71.64%\n",
      "Saved best FP32 model with Val Accuracy: 71.64%\n"
     ]
    },
    {
     "name": "stderr",
     "output_type": "stream",
     "text": [
      "Training Epoch 38/100: 100%|██████████| 352/352 [00:19<00:00, 17.68it/s]\n",
      "                                                           \r"
     ]
    },
    {
     "name": "stdout",
     "output_type": "stream",
     "text": [
      "Epoch 38/100 – Loss: 1.7173, Val Accuracy: 71.58%\n",
      "No improvement in validation accuracy. Patience counter: 1/20\n"
     ]
    },
    {
     "name": "stderr",
     "output_type": "stream",
     "text": [
      "Training Epoch 39/100: 100%|██████████| 352/352 [00:20<00:00, 17.54it/s]\n",
      "                                                           \r"
     ]
    },
    {
     "name": "stdout",
     "output_type": "stream",
     "text": [
      "Epoch 39/100 – Loss: 1.6887, Val Accuracy: 71.84%\n",
      "Saved best FP32 model with Val Accuracy: 71.84%\n"
     ]
    },
    {
     "name": "stderr",
     "output_type": "stream",
     "text": [
      "Training Epoch 40/100: 100%|██████████| 352/352 [00:19<00:00, 17.70it/s]\n",
      "                                                           \r"
     ]
    },
    {
     "name": "stdout",
     "output_type": "stream",
     "text": [
      "Epoch 40/100 – Loss: 1.6728, Val Accuracy: 71.96%\n",
      "Saved best FP32 model with Val Accuracy: 71.96%\n"
     ]
    },
    {
     "name": "stderr",
     "output_type": "stream",
     "text": [
      "Training Epoch 41/100: 100%|██████████| 352/352 [00:20<00:00, 17.46it/s]\n",
      "                                                           \r"
     ]
    },
    {
     "name": "stdout",
     "output_type": "stream",
     "text": [
      "Epoch 41/100 – Loss: 1.6420, Val Accuracy: 72.24%\n",
      "Saved best FP32 model with Val Accuracy: 72.24%\n"
     ]
    },
    {
     "name": "stderr",
     "output_type": "stream",
     "text": [
      "Training Epoch 42/100: 100%|██████████| 352/352 [00:19<00:00, 17.60it/s]\n",
      "                                                           \r"
     ]
    },
    {
     "name": "stdout",
     "output_type": "stream",
     "text": [
      "Epoch 42/100 – Loss: 1.7140, Val Accuracy: 72.08%\n",
      "No improvement in validation accuracy. Patience counter: 1/20\n"
     ]
    },
    {
     "name": "stderr",
     "output_type": "stream",
     "text": [
      "Training Epoch 43/100: 100%|██████████| 352/352 [00:19<00:00, 17.73it/s]\n",
      "                                                           \r"
     ]
    },
    {
     "name": "stdout",
     "output_type": "stream",
     "text": [
      "Epoch 43/100 – Loss: 1.5828, Val Accuracy: 72.16%\n",
      "No improvement in validation accuracy. Patience counter: 2/20\n"
     ]
    },
    {
     "name": "stderr",
     "output_type": "stream",
     "text": [
      "Training Epoch 44/100: 100%|██████████| 352/352 [00:20<00:00, 17.52it/s]\n",
      "                                                           \r"
     ]
    },
    {
     "name": "stdout",
     "output_type": "stream",
     "text": [
      "Epoch 44/100 – Loss: 1.6553, Val Accuracy: 72.62%\n",
      "Saved best FP32 model with Val Accuracy: 72.62%\n"
     ]
    },
    {
     "name": "stderr",
     "output_type": "stream",
     "text": [
      "Training Epoch 45/100: 100%|██████████| 352/352 [00:19<00:00, 17.72it/s]\n",
      "                                                           \r"
     ]
    },
    {
     "name": "stdout",
     "output_type": "stream",
     "text": [
      "Epoch 45/100 – Loss: 1.5929, Val Accuracy: 72.36%\n",
      "No improvement in validation accuracy. Patience counter: 1/20\n"
     ]
    },
    {
     "name": "stderr",
     "output_type": "stream",
     "text": [
      "Training Epoch 46/100: 100%|██████████| 352/352 [00:20<00:00, 17.51it/s]\n",
      "                                                           \r"
     ]
    },
    {
     "name": "stdout",
     "output_type": "stream",
     "text": [
      "Epoch 46/100 – Loss: 1.5948, Val Accuracy: 73.02%\n",
      "Saved best FP32 model with Val Accuracy: 73.02%\n"
     ]
    },
    {
     "name": "stderr",
     "output_type": "stream",
     "text": [
      "Training Epoch 47/100: 100%|██████████| 352/352 [00:19<00:00, 17.68it/s]\n",
      "                                                           \r"
     ]
    },
    {
     "name": "stdout",
     "output_type": "stream",
     "text": [
      "Epoch 47/100 – Loss: 1.5855, Val Accuracy: 72.56%\n",
      "No improvement in validation accuracy. Patience counter: 1/20\n"
     ]
    },
    {
     "name": "stderr",
     "output_type": "stream",
     "text": [
      "Training Epoch 48/100: 100%|██████████| 352/352 [00:20<00:00, 17.52it/s]\n",
      "                                                           \r"
     ]
    },
    {
     "name": "stdout",
     "output_type": "stream",
     "text": [
      "Epoch 48/100 – Loss: 1.5590, Val Accuracy: 73.46%\n",
      "Saved best FP32 model with Val Accuracy: 73.46%\n"
     ]
    },
    {
     "name": "stderr",
     "output_type": "stream",
     "text": [
      "Training Epoch 49/100: 100%|██████████| 352/352 [00:19<00:00, 17.61it/s]\n",
      "                                                           \r"
     ]
    },
    {
     "name": "stdout",
     "output_type": "stream",
     "text": [
      "Epoch 49/100 – Loss: 1.5591, Val Accuracy: 72.24%\n",
      "No improvement in validation accuracy. Patience counter: 1/20\n"
     ]
    },
    {
     "name": "stderr",
     "output_type": "stream",
     "text": [
      "Training Epoch 50/100: 100%|██████████| 352/352 [00:19<00:00, 17.60it/s]\n",
      "                                                           \r"
     ]
    },
    {
     "name": "stdout",
     "output_type": "stream",
     "text": [
      "Epoch 50/100 – Loss: 1.5800, Val Accuracy: 73.58%\n",
      "Saved best FP32 model with Val Accuracy: 73.58%\n"
     ]
    },
    {
     "name": "stderr",
     "output_type": "stream",
     "text": [
      "Training Epoch 51/100: 100%|██████████| 352/352 [00:19<00:00, 17.62it/s]\n",
      "                                                           \r"
     ]
    },
    {
     "name": "stdout",
     "output_type": "stream",
     "text": [
      "Epoch 51/100 – Loss: 1.5493, Val Accuracy: 72.94%\n",
      "No improvement in validation accuracy. Patience counter: 1/20\n"
     ]
    },
    {
     "name": "stderr",
     "output_type": "stream",
     "text": [
      "Training Epoch 52/100: 100%|██████████| 352/352 [00:19<00:00, 17.60it/s]\n",
      "                                                           \r"
     ]
    },
    {
     "name": "stdout",
     "output_type": "stream",
     "text": [
      "Epoch 52/100 – Loss: 1.5851, Val Accuracy: 73.50%\n",
      "No improvement in validation accuracy. Patience counter: 2/20\n"
     ]
    },
    {
     "name": "stderr",
     "output_type": "stream",
     "text": [
      "Training Epoch 53/100: 100%|██████████| 352/352 [00:20<00:00, 17.50it/s]\n",
      "                                                           \r"
     ]
    },
    {
     "name": "stdout",
     "output_type": "stream",
     "text": [
      "Epoch 53/100 – Loss: 1.5385, Val Accuracy: 74.14%\n",
      "Saved best FP32 model with Val Accuracy: 74.14%\n"
     ]
    },
    {
     "name": "stderr",
     "output_type": "stream",
     "text": [
      "Training Epoch 54/100: 100%|██████████| 352/352 [00:19<00:00, 17.63it/s]\n",
      "                                                           \r"
     ]
    },
    {
     "name": "stdout",
     "output_type": "stream",
     "text": [
      "Epoch 54/100 – Loss: 1.5499, Val Accuracy: 73.40%\n",
      "No improvement in validation accuracy. Patience counter: 1/20\n"
     ]
    },
    {
     "name": "stderr",
     "output_type": "stream",
     "text": [
      "Training Epoch 55/100: 100%|██████████| 352/352 [00:20<00:00, 17.54it/s]\n",
      "                                                           \r"
     ]
    },
    {
     "name": "stdout",
     "output_type": "stream",
     "text": [
      "Epoch 55/100 – Loss: 1.5062, Val Accuracy: 73.92%\n",
      "No improvement in validation accuracy. Patience counter: 2/20\n"
     ]
    },
    {
     "name": "stderr",
     "output_type": "stream",
     "text": [
      "Training Epoch 56/100: 100%|██████████| 352/352 [00:19<00:00, 17.68it/s]\n",
      "                                                           \r"
     ]
    },
    {
     "name": "stdout",
     "output_type": "stream",
     "text": [
      "Epoch 56/100 – Loss: 1.4930, Val Accuracy: 73.70%\n",
      "No improvement in validation accuracy. Patience counter: 3/20\n"
     ]
    },
    {
     "name": "stderr",
     "output_type": "stream",
     "text": [
      "Training Epoch 57/100: 100%|██████████| 352/352 [00:20<00:00, 17.55it/s]\n",
      "                                                           \r"
     ]
    },
    {
     "name": "stdout",
     "output_type": "stream",
     "text": [
      "Epoch 57/100 – Loss: 1.4531, Val Accuracy: 74.30%\n",
      "Saved best FP32 model with Val Accuracy: 74.30%\n"
     ]
    },
    {
     "name": "stderr",
     "output_type": "stream",
     "text": [
      "Training Epoch 58/100: 100%|██████████| 352/352 [00:19<00:00, 17.67it/s]\n",
      "                                                           \r"
     ]
    },
    {
     "name": "stdout",
     "output_type": "stream",
     "text": [
      "Epoch 58/100 – Loss: 1.5112, Val Accuracy: 74.14%\n",
      "No improvement in validation accuracy. Patience counter: 1/20\n"
     ]
    },
    {
     "name": "stderr",
     "output_type": "stream",
     "text": [
      "Training Epoch 59/100: 100%|██████████| 352/352 [00:19<00:00, 17.70it/s]\n",
      "                                                           \r"
     ]
    },
    {
     "name": "stdout",
     "output_type": "stream",
     "text": [
      "Epoch 59/100 – Loss: 1.5169, Val Accuracy: 74.56%\n",
      "Saved best FP32 model with Val Accuracy: 74.56%\n"
     ]
    },
    {
     "name": "stderr",
     "output_type": "stream",
     "text": [
      "Training Epoch 60/100: 100%|██████████| 352/352 [00:20<00:00, 17.54it/s]\n",
      "                                                           \r"
     ]
    },
    {
     "name": "stdout",
     "output_type": "stream",
     "text": [
      "Epoch 60/100 – Loss: 1.4366, Val Accuracy: 74.86%\n",
      "Saved best FP32 model with Val Accuracy: 74.86%\n"
     ]
    },
    {
     "name": "stderr",
     "output_type": "stream",
     "text": [
      "Training Epoch 61/100: 100%|██████████| 352/352 [00:19<00:00, 17.72it/s]\n",
      "                                                           \r"
     ]
    },
    {
     "name": "stdout",
     "output_type": "stream",
     "text": [
      "Epoch 61/100 – Loss: 1.4520, Val Accuracy: 74.42%\n",
      "No improvement in validation accuracy. Patience counter: 1/20\n"
     ]
    },
    {
     "name": "stderr",
     "output_type": "stream",
     "text": [
      "Training Epoch 62/100: 100%|██████████| 352/352 [00:20<00:00, 17.49it/s]\n",
      "                                                           \r"
     ]
    },
    {
     "name": "stdout",
     "output_type": "stream",
     "text": [
      "Epoch 62/100 – Loss: 1.4985, Val Accuracy: 74.76%\n",
      "No improvement in validation accuracy. Patience counter: 2/20\n"
     ]
    },
    {
     "name": "stderr",
     "output_type": "stream",
     "text": [
      "Training Epoch 63/100: 100%|██████████| 352/352 [00:20<00:00, 17.59it/s]\n",
      "                                                           \r"
     ]
    },
    {
     "name": "stdout",
     "output_type": "stream",
     "text": [
      "Epoch 63/100 – Loss: 1.4695, Val Accuracy: 75.10%\n",
      "Saved best FP32 model with Val Accuracy: 75.10%\n"
     ]
    },
    {
     "name": "stderr",
     "output_type": "stream",
     "text": [
      "Training Epoch 64/100: 100%|██████████| 352/352 [00:20<00:00, 17.51it/s]\n",
      "                                                           \r"
     ]
    },
    {
     "name": "stdout",
     "output_type": "stream",
     "text": [
      "Epoch 64/100 – Loss: 1.5021, Val Accuracy: 74.58%\n",
      "No improvement in validation accuracy. Patience counter: 1/20\n"
     ]
    },
    {
     "name": "stderr",
     "output_type": "stream",
     "text": [
      "Training Epoch 65/100: 100%|██████████| 352/352 [00:19<00:00, 17.65it/s]\n",
      "                                                           \r"
     ]
    },
    {
     "name": "stdout",
     "output_type": "stream",
     "text": [
      "Epoch 65/100 – Loss: 1.4302, Val Accuracy: 74.92%\n",
      "No improvement in validation accuracy. Patience counter: 2/20\n"
     ]
    },
    {
     "name": "stderr",
     "output_type": "stream",
     "text": [
      "Training Epoch 66/100: 100%|██████████| 352/352 [00:19<00:00, 17.65it/s]\n",
      "                                                           \r"
     ]
    },
    {
     "name": "stdout",
     "output_type": "stream",
     "text": [
      "Epoch 66/100 – Loss: 1.4774, Val Accuracy: 74.90%\n",
      "No improvement in validation accuracy. Patience counter: 3/20\n"
     ]
    },
    {
     "name": "stderr",
     "output_type": "stream",
     "text": [
      "Training Epoch 67/100: 100%|██████████| 352/352 [00:20<00:00, 17.47it/s]\n",
      "                                                           \r"
     ]
    },
    {
     "name": "stdout",
     "output_type": "stream",
     "text": [
      "Epoch 67/100 – Loss: 1.4804, Val Accuracy: 75.56%\n",
      "Saved best FP32 model with Val Accuracy: 75.56%\n"
     ]
    },
    {
     "name": "stderr",
     "output_type": "stream",
     "text": [
      "Training Epoch 68/100: 100%|██████████| 352/352 [00:20<00:00, 17.60it/s]\n",
      "                                                           \r"
     ]
    },
    {
     "name": "stdout",
     "output_type": "stream",
     "text": [
      "Epoch 68/100 – Loss: 1.4610, Val Accuracy: 75.52%\n",
      "No improvement in validation accuracy. Patience counter: 1/20\n"
     ]
    },
    {
     "name": "stderr",
     "output_type": "stream",
     "text": [
      "Training Epoch 69/100: 100%|██████████| 352/352 [00:20<00:00, 17.53it/s]\n",
      "                                                           \r"
     ]
    },
    {
     "name": "stdout",
     "output_type": "stream",
     "text": [
      "Epoch 69/100 – Loss: 1.3772, Val Accuracy: 75.58%\n",
      "Saved best FP32 model with Val Accuracy: 75.58%\n"
     ]
    },
    {
     "name": "stderr",
     "output_type": "stream",
     "text": [
      "Training Epoch 70/100: 100%|██████████| 352/352 [00:19<00:00, 17.69it/s]\n",
      "                                                           \r"
     ]
    },
    {
     "name": "stdout",
     "output_type": "stream",
     "text": [
      "Epoch 70/100 – Loss: 1.4701, Val Accuracy: 75.70%\n",
      "Saved best FP32 model with Val Accuracy: 75.70%\n"
     ]
    },
    {
     "name": "stderr",
     "output_type": "stream",
     "text": [
      "Training Epoch 71/100: 100%|██████████| 352/352 [00:20<00:00, 17.55it/s]\n",
      "                                                           \r"
     ]
    },
    {
     "name": "stdout",
     "output_type": "stream",
     "text": [
      "Epoch 71/100 – Loss: 1.4021, Val Accuracy: 76.56%\n",
      "Saved best FP32 model with Val Accuracy: 76.56%\n"
     ]
    },
    {
     "name": "stderr",
     "output_type": "stream",
     "text": [
      "Training Epoch 72/100: 100%|██████████| 352/352 [00:19<00:00, 17.70it/s]\n",
      "                                                           \r"
     ]
    },
    {
     "name": "stdout",
     "output_type": "stream",
     "text": [
      "Epoch 72/100 – Loss: 1.4367, Val Accuracy: 75.76%\n",
      "No improvement in validation accuracy. Patience counter: 1/20\n"
     ]
    },
    {
     "name": "stderr",
     "output_type": "stream",
     "text": [
      "Training Epoch 73/100: 100%|██████████| 352/352 [00:20<00:00, 17.56it/s]\n",
      "                                                           \r"
     ]
    },
    {
     "name": "stdout",
     "output_type": "stream",
     "text": [
      "Epoch 73/100 – Loss: 1.5039, Val Accuracy: 75.96%\n",
      "No improvement in validation accuracy. Patience counter: 2/20\n"
     ]
    },
    {
     "name": "stderr",
     "output_type": "stream",
     "text": [
      "Training Epoch 74/100: 100%|██████████| 352/352 [00:19<00:00, 17.65it/s]\n",
      "                                                           \r"
     ]
    },
    {
     "name": "stdout",
     "output_type": "stream",
     "text": [
      "Epoch 74/100 – Loss: 1.4195, Val Accuracy: 75.74%\n",
      "No improvement in validation accuracy. Patience counter: 3/20\n"
     ]
    },
    {
     "name": "stderr",
     "output_type": "stream",
     "text": [
      "Training Epoch 75/100: 100%|██████████| 352/352 [00:19<00:00, 17.67it/s]\n",
      "                                                           \r"
     ]
    },
    {
     "name": "stdout",
     "output_type": "stream",
     "text": [
      "Epoch 75/100 – Loss: 1.4329, Val Accuracy: 76.10%\n",
      "No improvement in validation accuracy. Patience counter: 4/20\n"
     ]
    },
    {
     "name": "stderr",
     "output_type": "stream",
     "text": [
      "Training Epoch 76/100: 100%|██████████| 352/352 [00:20<00:00, 17.51it/s]\n",
      "                                                           \r"
     ]
    },
    {
     "name": "stdout",
     "output_type": "stream",
     "text": [
      "Epoch 76/100 – Loss: 1.4015, Val Accuracy: 75.46%\n",
      "No improvement in validation accuracy. Patience counter: 5/20\n"
     ]
    },
    {
     "name": "stderr",
     "output_type": "stream",
     "text": [
      "Training Epoch 77/100: 100%|██████████| 352/352 [00:19<00:00, 17.62it/s]\n",
      "                                                           \r"
     ]
    },
    {
     "name": "stdout",
     "output_type": "stream",
     "text": [
      "Epoch 77/100 – Loss: 1.3718, Val Accuracy: 75.68%\n",
      "No improvement in validation accuracy. Patience counter: 6/20\n"
     ]
    },
    {
     "name": "stderr",
     "output_type": "stream",
     "text": [
      "Training Epoch 78/100: 100%|██████████| 352/352 [00:20<00:00, 17.48it/s]\n",
      "                                                           \r"
     ]
    },
    {
     "name": "stdout",
     "output_type": "stream",
     "text": [
      "Epoch 78/100 – Loss: 1.3673, Val Accuracy: 75.88%\n",
      "No improvement in validation accuracy. Patience counter: 7/20\n"
     ]
    },
    {
     "name": "stderr",
     "output_type": "stream",
     "text": [
      "Training Epoch 79/100: 100%|██████████| 352/352 [00:19<00:00, 17.64it/s]\n",
      "                                                           \r"
     ]
    },
    {
     "name": "stdout",
     "output_type": "stream",
     "text": [
      "Epoch 79/100 – Loss: 1.4057, Val Accuracy: 75.84%\n",
      "No improvement in validation accuracy. Patience counter: 8/20\n"
     ]
    },
    {
     "name": "stderr",
     "output_type": "stream",
     "text": [
      "Training Epoch 80/100: 100%|██████████| 352/352 [00:20<00:00, 17.52it/s]\n",
      "                                                           \r"
     ]
    },
    {
     "name": "stdout",
     "output_type": "stream",
     "text": [
      "Epoch 80/100 – Loss: 1.4047, Val Accuracy: 76.16%\n",
      "No improvement in validation accuracy. Patience counter: 9/20\n"
     ]
    },
    {
     "name": "stderr",
     "output_type": "stream",
     "text": [
      "Training Epoch 81/100: 100%|██████████| 352/352 [00:20<00:00, 17.59it/s]\n",
      "                                                           \r"
     ]
    },
    {
     "name": "stdout",
     "output_type": "stream",
     "text": [
      "Epoch 81/100 – Loss: 1.3467, Val Accuracy: 75.86%\n",
      "No improvement in validation accuracy. Patience counter: 10/20\n"
     ]
    },
    {
     "name": "stderr",
     "output_type": "stream",
     "text": [
      "Training Epoch 82/100: 100%|██████████| 352/352 [00:20<00:00, 17.49it/s]\n",
      "                                                           \r"
     ]
    },
    {
     "name": "stdout",
     "output_type": "stream",
     "text": [
      "Epoch 82/100 – Loss: 1.3968, Val Accuracy: 76.14%\n",
      "No improvement in validation accuracy. Patience counter: 11/20\n"
     ]
    },
    {
     "name": "stderr",
     "output_type": "stream",
     "text": [
      "Training Epoch 83/100: 100%|██████████| 352/352 [00:19<00:00, 17.69it/s]\n",
      "                                                           \r"
     ]
    },
    {
     "name": "stdout",
     "output_type": "stream",
     "text": [
      "Epoch 83/100 – Loss: 1.4262, Val Accuracy: 75.52%\n",
      "No improvement in validation accuracy. Patience counter: 12/20\n"
     ]
    },
    {
     "name": "stderr",
     "output_type": "stream",
     "text": [
      "Training Epoch 84/100: 100%|██████████| 352/352 [00:19<00:00, 17.67it/s]\n",
      "                                                           \r"
     ]
    },
    {
     "name": "stdout",
     "output_type": "stream",
     "text": [
      "Epoch 84/100 – Loss: 1.4056, Val Accuracy: 76.40%\n",
      "No improvement in validation accuracy. Patience counter: 13/20\n"
     ]
    },
    {
     "name": "stderr",
     "output_type": "stream",
     "text": [
      "Training Epoch 85/100: 100%|██████████| 352/352 [00:20<00:00, 17.56it/s]\n",
      "                                                           \r"
     ]
    },
    {
     "name": "stdout",
     "output_type": "stream",
     "text": [
      "Epoch 85/100 – Loss: 1.3675, Val Accuracy: 76.24%\n",
      "No improvement in validation accuracy. Patience counter: 14/20\n"
     ]
    },
    {
     "name": "stderr",
     "output_type": "stream",
     "text": [
      "Training Epoch 86/100: 100%|██████████| 352/352 [00:19<00:00, 17.69it/s]\n",
      "                                                           \r"
     ]
    },
    {
     "name": "stdout",
     "output_type": "stream",
     "text": [
      "Epoch 86/100 – Loss: 1.3922, Val Accuracy: 75.70%\n",
      "No improvement in validation accuracy. Patience counter: 15/20\n"
     ]
    },
    {
     "name": "stderr",
     "output_type": "stream",
     "text": [
      "Training Epoch 87/100: 100%|██████████| 352/352 [00:20<00:00, 17.54it/s]\n",
      "                                                           \r"
     ]
    },
    {
     "name": "stdout",
     "output_type": "stream",
     "text": [
      "Epoch 87/100 – Loss: 1.3710, Val Accuracy: 76.64%\n",
      "Saved best FP32 model with Val Accuracy: 76.64%\n"
     ]
    },
    {
     "name": "stderr",
     "output_type": "stream",
     "text": [
      "Training Epoch 88/100: 100%|██████████| 352/352 [00:19<00:00, 17.65it/s]\n",
      "                                                           \r"
     ]
    },
    {
     "name": "stdout",
     "output_type": "stream",
     "text": [
      "Epoch 88/100 – Loss: 1.2740, Val Accuracy: 76.58%\n",
      "No improvement in validation accuracy. Patience counter: 1/20\n"
     ]
    },
    {
     "name": "stderr",
     "output_type": "stream",
     "text": [
      "Training Epoch 89/100: 100%|██████████| 352/352 [00:20<00:00, 17.52it/s]\n",
      "                                                           \r"
     ]
    },
    {
     "name": "stdout",
     "output_type": "stream",
     "text": [
      "Epoch 89/100 – Loss: 1.3365, Val Accuracy: 76.62%\n",
      "No improvement in validation accuracy. Patience counter: 2/20\n"
     ]
    },
    {
     "name": "stderr",
     "output_type": "stream",
     "text": [
      "Training Epoch 90/100: 100%|██████████| 352/352 [00:20<00:00, 17.58it/s]\n",
      "                                                           \r"
     ]
    },
    {
     "name": "stdout",
     "output_type": "stream",
     "text": [
      "Epoch 90/100 – Loss: 1.2620, Val Accuracy: 76.20%\n",
      "No improvement in validation accuracy. Patience counter: 3/20\n"
     ]
    },
    {
     "name": "stderr",
     "output_type": "stream",
     "text": [
      "Training Epoch 91/100: 100%|██████████| 352/352 [00:19<00:00, 17.65it/s]\n",
      "                                                           \r"
     ]
    },
    {
     "name": "stdout",
     "output_type": "stream",
     "text": [
      "Epoch 91/100 – Loss: 1.3411, Val Accuracy: 76.22%\n",
      "No improvement in validation accuracy. Patience counter: 4/20\n"
     ]
    },
    {
     "name": "stderr",
     "output_type": "stream",
     "text": [
      "Training Epoch 92/100: 100%|██████████| 352/352 [00:20<00:00, 17.56it/s]\n",
      "                                                           \r"
     ]
    },
    {
     "name": "stdout",
     "output_type": "stream",
     "text": [
      "Epoch 92/100 – Loss: 1.4517, Val Accuracy: 76.86%\n",
      "Saved best FP32 model with Val Accuracy: 76.86%\n"
     ]
    },
    {
     "name": "stderr",
     "output_type": "stream",
     "text": [
      "Training Epoch 93/100: 100%|██████████| 352/352 [00:19<00:00, 17.69it/s]\n",
      "                                                           \r"
     ]
    },
    {
     "name": "stdout",
     "output_type": "stream",
     "text": [
      "Epoch 93/100 – Loss: 1.3439, Val Accuracy: 76.76%\n",
      "No improvement in validation accuracy. Patience counter: 1/20\n"
     ]
    },
    {
     "name": "stderr",
     "output_type": "stream",
     "text": [
      "Training Epoch 94/100: 100%|██████████| 352/352 [00:20<00:00, 17.53it/s]\n",
      "                                                           \r"
     ]
    },
    {
     "name": "stdout",
     "output_type": "stream",
     "text": [
      "Epoch 94/100 – Loss: 1.3202, Val Accuracy: 76.48%\n",
      "No improvement in validation accuracy. Patience counter: 2/20\n"
     ]
    },
    {
     "name": "stderr",
     "output_type": "stream",
     "text": [
      "Training Epoch 95/100: 100%|██████████| 352/352 [00:19<00:00, 17.67it/s]\n",
      "                                                           \r"
     ]
    },
    {
     "name": "stdout",
     "output_type": "stream",
     "text": [
      "Epoch 95/100 – Loss: 1.2882, Val Accuracy: 76.30%\n",
      "No improvement in validation accuracy. Patience counter: 3/20\n"
     ]
    },
    {
     "name": "stderr",
     "output_type": "stream",
     "text": [
      "Training Epoch 96/100: 100%|██████████| 352/352 [00:20<00:00, 17.50it/s]\n",
      "                                                           \r"
     ]
    },
    {
     "name": "stdout",
     "output_type": "stream",
     "text": [
      "Epoch 96/100 – Loss: 1.3615, Val Accuracy: 75.88%\n",
      "No improvement in validation accuracy. Patience counter: 4/20\n"
     ]
    },
    {
     "name": "stderr",
     "output_type": "stream",
     "text": [
      "Training Epoch 97/100: 100%|██████████| 352/352 [00:19<00:00, 17.66it/s]\n",
      "                                                           \r"
     ]
    },
    {
     "name": "stdout",
     "output_type": "stream",
     "text": [
      "Epoch 97/100 – Loss: 1.3480, Val Accuracy: 77.30%\n",
      "Saved best FP32 model with Val Accuracy: 77.30%\n"
     ]
    },
    {
     "name": "stderr",
     "output_type": "stream",
     "text": [
      "Training Epoch 98/100: 100%|██████████| 352/352 [00:20<00:00, 17.55it/s]\n",
      "                                                           \r"
     ]
    },
    {
     "name": "stdout",
     "output_type": "stream",
     "text": [
      "Epoch 98/100 – Loss: 1.4152, Val Accuracy: 75.94%\n",
      "No improvement in validation accuracy. Patience counter: 1/20\n"
     ]
    },
    {
     "name": "stderr",
     "output_type": "stream",
     "text": [
      "Training Epoch 99/100: 100%|██████████| 352/352 [00:19<00:00, 17.66it/s]\n",
      "                                                           \r"
     ]
    },
    {
     "name": "stdout",
     "output_type": "stream",
     "text": [
      "Epoch 99/100 – Loss: 1.3812, Val Accuracy: 76.02%\n",
      "No improvement in validation accuracy. Patience counter: 2/20\n"
     ]
    },
    {
     "name": "stderr",
     "output_type": "stream",
     "text": [
      "Training Epoch 100/100: 100%|██████████| 352/352 [00:20<00:00, 17.58it/s]\n",
      "                                                           \r"
     ]
    },
    {
     "name": "stdout",
     "output_type": "stream",
     "text": [
      "Epoch 100/100 – Loss: 1.3134, Val Accuracy: 76.42%\n",
      "No improvement in validation accuracy. Patience counter: 3/20\n"
     ]
    },
    {
     "name": "stderr",
     "output_type": "stream",
     "text": [
      "                                                                 "
     ]
    },
    {
     "name": "stdout",
     "output_type": "stream",
     "text": [
      "\n",
      "Best FP32 Model – Test Accuracy: 76.69%\n",
      "Average FP32 Inference Latency (CPU): 267.59 ms/batch\n"
     ]
    },
    {
     "name": "stderr",
     "output_type": "stream",
     "text": [
      "\r"
     ]
    }
   ],
   "source": [
    "\n",
    "def evaluate_accuracy_and_latency(model, loader, device, num_batches=None, desc=\"Evaluating\"):\n",
    "    model.eval()\n",
    "    model.to(device)\n",
    "    correct = total = 0\n",
    "    latencies = []\n",
    "    with torch.no_grad():\n",
    "        for i, (imgs, labels) in enumerate(tqdm(loader, desc=desc, leave=False)):\n",
    "            if num_batches is not None and i >= num_batches:\n",
    "                break\n",
    "            imgs, labels = imgs.to(device), labels.to(device)\n",
    "            start_time = time.time()\n",
    "            outputs = model(imgs)\n",
    "            latency = (time.time() - start_time) * 1000  # Latency in ms/batch\n",
    "            latencies.append(latency)\n",
    "            preds = outputs.argmax(dim=1)\n",
    "            correct += (preds == labels).sum().item()\n",
    "            total += labels.size(0)\n",
    "    accuracy = 100.0 * correct / total\n",
    "    avg_latency = sum(latencies) / len(latencies)\n",
    "    return accuracy, avg_latency\n",
    "\n",
    "# Main training loop (same structure as provided, with CutMix logic from QAT code)\n",
    "def main():\n",
    "    train_device = torch.device('cuda' if torch.cuda.is_available() else 'cpu')\n",
    "    assert train_device.type == 'cuda', \"GPU not available for training/validation\"\n",
    "    test_device = torch.device('cpu')\n",
    "\n",
    "    # train_loader, val_loader, test_loader, train_idx = get_cifar100_data_loaders()\n",
    "\n",
    "    model = resnet50(pretrained=False, quantize=False, num_classes=100)\n",
    "    # Modify conv1 and maxpool for 32x32 inputs\n",
    "    model.conv1 = nn.Conv2d(3, 64, kernel_size=3, stride=1, padding=0, bias=False)\n",
    "    model.maxpool = nn.Identity()  # Remove maxpool to preserve spatial dimensions\n",
    "    model.to(train_device)\n",
    "\n",
    "    optimizer = optim.AdamW(model.parameters(), lr=1e-3, weight_decay=1e-4)\n",
    "    scheduler = optim.lr_scheduler.CosineAnnealingLR(optimizer, T_max=100)\n",
    "    criterion = nn.CrossEntropyLoss(label_smoothing=0.1)\n",
    "    best_val_acc = 0.0\n",
    "    best_model_path = 'best_fp32_resnet50_cifar100_32x32_100_cutmix.pth'\n",
    "    epochs = 100\n",
    "    patience = 20\n",
    "    patience_counter = 0\n",
    "    cutmix_prob = 0.5\n",
    "\n",
    "    for epoch in range(epochs):\n",
    "        model.train()\n",
    "        running_loss = 0.0\n",
    "        for imgs, targets in tqdm(train_loader, desc=f\"Training Epoch {epoch+1}/{epochs}\", leave=True):\n",
    "            imgs, targets = imgs.to(train_device), targets.to(train_device)\n",
    "            optimizer.zero_grad()\n",
    "            if np.random.random() < cutmix_prob:\n",
    "                imgs, targets_a, targets_b, lam = cutmix(imgs, targets, alpha=1.0)\n",
    "                outputs = model(imgs)\n",
    "                loss = lam * criterion(outputs, targets_a) + (1 - lam) * criterion(outputs, targets_b)\n",
    "            else:\n",
    "                outputs = model(imgs)\n",
    "                loss = criterion(outputs, targets)\n",
    "            loss.backward()\n",
    "            optimizer.step()\n",
    "            running_loss += loss.item() * imgs.size(0)\n",
    "\n",
    "        val_acc, _ = evaluate_accuracy_and_latency(model, val_loader, train_device, desc=\"Validating\")\n",
    "        print(f\"Epoch {epoch+1}/{epochs} – Loss: {running_loss/len(train_idx):.4f}, Val Accuracy: {val_acc:.2f}%\")\n",
    "\n",
    "        if val_acc > best_val_acc:\n",
    "            best_val_acc = val_acc\n",
    "            torch.save(model.state_dict(), best_model_path)\n",
    "            print(f\"Saved best FP32 model with Val Accuracy: {best_val_acc:.2f}%\")\n",
    "            patience_counter = 0\n",
    "        else:\n",
    "            patience_counter += 1\n",
    "            print(f\"No improvement in validation accuracy. Patience counter: {patience_counter}/{patience}\")\n",
    "\n",
    "        if patience_counter >= patience:\n",
    "            print(f\"Early stopping triggered after {epoch+1} epochs.\")\n",
    "            break\n",
    "\n",
    "        scheduler.step()\n",
    "\n",
    "    model.load_state_dict(torch.load(best_model_path))\n",
    "    test_acc, avg_latency = evaluate_accuracy_and_latency(model, test_loader, test_device, desc=\"Testing FP32\")\n",
    "    print(f\"\\nBest FP32 Model – Test Accuracy: {test_acc:.2f}%\")\n",
    "    print(f\"Average FP32 Inference Latency (CPU): {avg_latency:.2f} ms/batch\")\n",
    "\n",
    "if __name__ == '__main__':\n",
    "    main()"
   ]
  },
  {
   "cell_type": "code",
   "execution_count": null,
   "id": "f7b2a3bf-f8c7-4e93-af94-a01ec40ff30d",
   "metadata": {},
   "outputs": [],
   "source": []
  },
  {
   "cell_type": "code",
   "execution_count": null,
   "id": "88d56d85-626a-4203-a0f3-48e290da94d3",
   "metadata": {},
   "outputs": [],
   "source": []
  },
  {
   "cell_type": "code",
   "execution_count": null,
   "id": "a1e922ff-f272-4ce2-a66e-5883a7515753",
   "metadata": {},
   "outputs": [],
   "source": []
  },
  {
   "cell_type": "markdown",
   "id": "bce8152d-2f5d-40e0-9091-980393c0df68",
   "metadata": {},
   "source": [
    "# ENT KD"
   ]
  },
  {
   "cell_type": "code",
   "execution_count": 13,
   "id": "c5b08dad-e2a3-4b9d-a1ce-4d54e4f7169c",
   "metadata": {},
   "outputs": [
    {
     "name": "stdout",
     "output_type": "stream",
     "text": [
      "Files already downloaded and verified\n",
      "Files already downloaded and verified\n"
     ]
    },
    {
     "name": "stderr",
     "output_type": "stream",
     "text": [
      "                                                                       \r"
     ]
    },
    {
     "name": "stdout",
     "output_type": "stream",
     "text": [
      "Epoch 1/100 – Loss: 2.1634, ValAcc: 11.82%\n",
      "Saved best QAT+EntKD+CutMix model with ValAcc: 11.82%\n"
     ]
    },
    {
     "name": "stderr",
     "output_type": "stream",
     "text": [
      "                                                                       \r"
     ]
    },
    {
     "name": "stdout",
     "output_type": "stream",
     "text": [
      "Epoch 2/100 – Loss: 1.9454, ValAcc: 19.42%\n",
      "Saved best QAT+EntKD+CutMix model with ValAcc: 19.42%\n"
     ]
    },
    {
     "name": "stderr",
     "output_type": "stream",
     "text": [
      "                                                                       \r"
     ]
    },
    {
     "name": "stdout",
     "output_type": "stream",
     "text": [
      "Epoch 3/100 – Loss: 1.8255, ValAcc: 29.62%\n",
      "Saved best QAT+EntKD+CutMix model with ValAcc: 29.62%\n"
     ]
    },
    {
     "name": "stderr",
     "output_type": "stream",
     "text": [
      "                                                                       \r"
     ]
    },
    {
     "name": "stdout",
     "output_type": "stream",
     "text": [
      "Epoch 4/100 – Loss: 1.6762, ValAcc: 34.98%\n",
      "Saved best QAT+EntKD+CutMix model with ValAcc: 34.98%\n"
     ]
    },
    {
     "name": "stderr",
     "output_type": "stream",
     "text": [
      "                                                                       \r"
     ]
    },
    {
     "name": "stdout",
     "output_type": "stream",
     "text": [
      "Epoch 5/100 – Loss: 1.5531, ValAcc: 41.04%\n",
      "Saved best QAT+EntKD+CutMix model with ValAcc: 41.04%\n"
     ]
    },
    {
     "name": "stderr",
     "output_type": "stream",
     "text": [
      "                                                                       \r"
     ]
    },
    {
     "name": "stdout",
     "output_type": "stream",
     "text": [
      "Epoch 6/100 – Loss: 1.4415, ValAcc: 45.50%\n",
      "Saved best QAT+EntKD+CutMix model with ValAcc: 45.50%\n"
     ]
    },
    {
     "name": "stderr",
     "output_type": "stream",
     "text": [
      "                                                                       \r"
     ]
    },
    {
     "name": "stdout",
     "output_type": "stream",
     "text": [
      "Epoch 7/100 – Loss: 1.3490, ValAcc: 48.92%\n",
      "Saved best QAT+EntKD+CutMix model with ValAcc: 48.92%\n"
     ]
    },
    {
     "name": "stderr",
     "output_type": "stream",
     "text": [
      "                                                                       \r"
     ]
    },
    {
     "name": "stdout",
     "output_type": "stream",
     "text": [
      "Epoch 8/100 – Loss: 1.2727, ValAcc: 53.22%\n",
      "Saved best QAT+EntKD+CutMix model with ValAcc: 53.22%\n"
     ]
    },
    {
     "name": "stderr",
     "output_type": "stream",
     "text": [
      "                                                                       \r"
     ]
    },
    {
     "name": "stdout",
     "output_type": "stream",
     "text": [
      "Epoch 9/100 – Loss: 1.2166, ValAcc: 51.28%\n",
      "No improvement in validation accuracy. Patience counter: 1/20\n"
     ]
    },
    {
     "name": "stderr",
     "output_type": "stream",
     "text": [
      "                                                                        \r"
     ]
    },
    {
     "name": "stdout",
     "output_type": "stream",
     "text": [
      "Epoch 10/100 – Loss: 1.1828, ValAcc: 51.52%\n",
      "No improvement in validation accuracy. Patience counter: 2/20\n"
     ]
    },
    {
     "name": "stderr",
     "output_type": "stream",
     "text": [
      "                                                                        \r"
     ]
    },
    {
     "name": "stdout",
     "output_type": "stream",
     "text": [
      "Epoch 11/100 – Loss: 1.1338, ValAcc: 58.92%\n",
      "Saved best QAT+EntKD+CutMix model with ValAcc: 58.92%\n"
     ]
    },
    {
     "name": "stderr",
     "output_type": "stream",
     "text": [
      "                                                                        \r"
     ]
    },
    {
     "name": "stdout",
     "output_type": "stream",
     "text": [
      "Epoch 12/100 – Loss: 1.0646, ValAcc: 60.48%\n",
      "Saved best QAT+EntKD+CutMix model with ValAcc: 60.48%\n"
     ]
    },
    {
     "name": "stderr",
     "output_type": "stream",
     "text": [
      "                                                                        \r"
     ]
    },
    {
     "name": "stdout",
     "output_type": "stream",
     "text": [
      "Epoch 13/100 – Loss: 1.0432, ValAcc: 61.74%\n",
      "Saved best QAT+EntKD+CutMix model with ValAcc: 61.74%\n"
     ]
    },
    {
     "name": "stderr",
     "output_type": "stream",
     "text": [
      "                                                                        \r"
     ]
    },
    {
     "name": "stdout",
     "output_type": "stream",
     "text": [
      "Epoch 14/100 – Loss: 1.0058, ValAcc: 59.56%\n",
      "No improvement in validation accuracy. Patience counter: 1/20\n"
     ]
    },
    {
     "name": "stderr",
     "output_type": "stream",
     "text": [
      "                                                                        \r"
     ]
    },
    {
     "name": "stdout",
     "output_type": "stream",
     "text": [
      "Epoch 15/100 – Loss: 0.9595, ValAcc: 63.90%\n",
      "Saved best QAT+EntKD+CutMix model with ValAcc: 63.90%\n"
     ]
    },
    {
     "name": "stderr",
     "output_type": "stream",
     "text": [
      "                                                                        \r"
     ]
    },
    {
     "name": "stdout",
     "output_type": "stream",
     "text": [
      "Epoch 16/100 – Loss: 0.9073, ValAcc: 63.90%\n",
      "No improvement in validation accuracy. Patience counter: 1/20\n"
     ]
    },
    {
     "name": "stderr",
     "output_type": "stream",
     "text": [
      "                                                                        \r"
     ]
    },
    {
     "name": "stdout",
     "output_type": "stream",
     "text": [
      "Epoch 17/100 – Loss: 0.8670, ValAcc: 65.94%\n",
      "Saved best QAT+EntKD+CutMix model with ValAcc: 65.94%\n"
     ]
    },
    {
     "name": "stderr",
     "output_type": "stream",
     "text": [
      "                                                                        \r"
     ]
    },
    {
     "name": "stdout",
     "output_type": "stream",
     "text": [
      "Epoch 18/100 – Loss: 0.8475, ValAcc: 67.20%\n",
      "Saved best QAT+EntKD+CutMix model with ValAcc: 67.20%\n"
     ]
    },
    {
     "name": "stderr",
     "output_type": "stream",
     "text": [
      "                                                                        \r"
     ]
    },
    {
     "name": "stdout",
     "output_type": "stream",
     "text": [
      "Epoch 19/100 – Loss: 0.8327, ValAcc: 67.84%\n",
      "Saved best QAT+EntKD+CutMix model with ValAcc: 67.84%\n"
     ]
    },
    {
     "name": "stderr",
     "output_type": "stream",
     "text": [
      "                                                                        \r"
     ]
    },
    {
     "name": "stdout",
     "output_type": "stream",
     "text": [
      "Epoch 20/100 – Loss: 0.7982, ValAcc: 68.66%\n",
      "Saved best QAT+EntKD+CutMix model with ValAcc: 68.66%\n"
     ]
    },
    {
     "name": "stderr",
     "output_type": "stream",
     "text": [
      "                                                                        \r"
     ]
    },
    {
     "name": "stdout",
     "output_type": "stream",
     "text": [
      "Epoch 21/100 – Loss: 0.7873, ValAcc: 68.60%\n",
      "No improvement in validation accuracy. Patience counter: 1/20\n"
     ]
    },
    {
     "name": "stderr",
     "output_type": "stream",
     "text": [
      "                                                                        \r"
     ]
    },
    {
     "name": "stdout",
     "output_type": "stream",
     "text": [
      "Epoch 22/100 – Loss: 0.7491, ValAcc: 68.22%\n",
      "No improvement in validation accuracy. Patience counter: 2/20\n"
     ]
    },
    {
     "name": "stderr",
     "output_type": "stream",
     "text": [
      "                                                                        \r"
     ]
    },
    {
     "name": "stdout",
     "output_type": "stream",
     "text": [
      "Epoch 23/100 – Loss: 0.7239, ValAcc: 69.84%\n",
      "Saved best QAT+EntKD+CutMix model with ValAcc: 69.84%\n"
     ]
    },
    {
     "name": "stderr",
     "output_type": "stream",
     "text": [
      "                                                                        \r"
     ]
    },
    {
     "name": "stdout",
     "output_type": "stream",
     "text": [
      "Epoch 24/100 – Loss: 0.7481, ValAcc: 70.12%\n",
      "Saved best QAT+EntKD+CutMix model with ValAcc: 70.12%\n"
     ]
    },
    {
     "name": "stderr",
     "output_type": "stream",
     "text": [
      "                                                                        \r"
     ]
    },
    {
     "name": "stdout",
     "output_type": "stream",
     "text": [
      "Epoch 25/100 – Loss: 0.6945, ValAcc: 70.54%\n",
      "Saved best QAT+EntKD+CutMix model with ValAcc: 70.54%\n"
     ]
    },
    {
     "name": "stderr",
     "output_type": "stream",
     "text": [
      "                                                                        \r"
     ]
    },
    {
     "name": "stdout",
     "output_type": "stream",
     "text": [
      "Epoch 26/100 – Loss: 0.6890, ValAcc: 70.58%\n",
      "Saved best QAT+EntKD+CutMix model with ValAcc: 70.58%\n"
     ]
    },
    {
     "name": "stderr",
     "output_type": "stream",
     "text": [
      "                                                                        \r"
     ]
    },
    {
     "name": "stdout",
     "output_type": "stream",
     "text": [
      "Epoch 27/100 – Loss: 0.6365, ValAcc: 71.72%\n",
      "Saved best QAT+EntKD+CutMix model with ValAcc: 71.72%\n"
     ]
    },
    {
     "name": "stderr",
     "output_type": "stream",
     "text": [
      "                                                                        \r"
     ]
    },
    {
     "name": "stdout",
     "output_type": "stream",
     "text": [
      "Epoch 28/100 – Loss: 0.5840, ValAcc: 71.82%\n",
      "Saved best QAT+EntKD+CutMix model with ValAcc: 71.82%\n"
     ]
    },
    {
     "name": "stderr",
     "output_type": "stream",
     "text": [
      "                                                                        \r"
     ]
    },
    {
     "name": "stdout",
     "output_type": "stream",
     "text": [
      "Epoch 29/100 – Loss: 0.6108, ValAcc: 71.98%\n",
      "Saved best QAT+EntKD+CutMix model with ValAcc: 71.98%\n"
     ]
    },
    {
     "name": "stderr",
     "output_type": "stream",
     "text": [
      "                                                                        \r"
     ]
    },
    {
     "name": "stdout",
     "output_type": "stream",
     "text": [
      "Epoch 30/100 – Loss: 0.5594, ValAcc: 72.88%\n",
      "Saved best QAT+EntKD+CutMix model with ValAcc: 72.88%\n"
     ]
    },
    {
     "name": "stderr",
     "output_type": "stream",
     "text": [
      "                                                                        \r"
     ]
    },
    {
     "name": "stdout",
     "output_type": "stream",
     "text": [
      "Epoch 31/100 – Loss: 0.5863, ValAcc: 72.88%\n",
      "No improvement in validation accuracy. Patience counter: 1/20\n"
     ]
    },
    {
     "name": "stderr",
     "output_type": "stream",
     "text": [
      "                                                                        \r"
     ]
    },
    {
     "name": "stdout",
     "output_type": "stream",
     "text": [
      "Epoch 32/100 – Loss: 0.5770, ValAcc: 72.46%\n",
      "No improvement in validation accuracy. Patience counter: 2/20\n"
     ]
    },
    {
     "name": "stderr",
     "output_type": "stream",
     "text": [
      "                                                                        \r"
     ]
    },
    {
     "name": "stdout",
     "output_type": "stream",
     "text": [
      "Epoch 33/100 – Loss: 0.5606, ValAcc: 72.84%\n",
      "No improvement in validation accuracy. Patience counter: 3/20\n"
     ]
    },
    {
     "name": "stderr",
     "output_type": "stream",
     "text": [
      "                                                                        \r"
     ]
    },
    {
     "name": "stdout",
     "output_type": "stream",
     "text": [
      "Epoch 34/100 – Loss: 0.5372, ValAcc: 73.40%\n",
      "Saved best QAT+EntKD+CutMix model with ValAcc: 73.40%\n"
     ]
    },
    {
     "name": "stderr",
     "output_type": "stream",
     "text": [
      "                                                                        \r"
     ]
    },
    {
     "name": "stdout",
     "output_type": "stream",
     "text": [
      "Epoch 35/100 – Loss: 0.5441, ValAcc: 73.68%\n",
      "Saved best QAT+EntKD+CutMix model with ValAcc: 73.68%\n"
     ]
    },
    {
     "name": "stderr",
     "output_type": "stream",
     "text": [
      "                                                                        \r"
     ]
    },
    {
     "name": "stdout",
     "output_type": "stream",
     "text": [
      "Epoch 36/100 – Loss: 0.5087, ValAcc: 73.74%\n",
      "Saved best QAT+EntKD+CutMix model with ValAcc: 73.74%\n"
     ]
    },
    {
     "name": "stderr",
     "output_type": "stream",
     "text": [
      "                                                                        \r"
     ]
    },
    {
     "name": "stdout",
     "output_type": "stream",
     "text": [
      "Epoch 37/100 – Loss: 0.4867, ValAcc: 74.38%\n",
      "Saved best QAT+EntKD+CutMix model with ValAcc: 74.38%\n"
     ]
    },
    {
     "name": "stderr",
     "output_type": "stream",
     "text": [
      "                                                                        \r"
     ]
    },
    {
     "name": "stdout",
     "output_type": "stream",
     "text": [
      "Epoch 38/100 – Loss: 0.4807, ValAcc: 74.06%\n",
      "No improvement in validation accuracy. Patience counter: 1/20\n"
     ]
    },
    {
     "name": "stderr",
     "output_type": "stream",
     "text": [
      "                                                                        \r"
     ]
    },
    {
     "name": "stdout",
     "output_type": "stream",
     "text": [
      "Epoch 39/100 – Loss: 0.4879, ValAcc: 73.18%\n",
      "No improvement in validation accuracy. Patience counter: 2/20\n"
     ]
    },
    {
     "name": "stderr",
     "output_type": "stream",
     "text": [
      "                                                                        \r"
     ]
    },
    {
     "name": "stdout",
     "output_type": "stream",
     "text": [
      "Epoch 40/100 – Loss: 0.4658, ValAcc: 74.46%\n",
      "Saved best QAT+EntKD+CutMix model with ValAcc: 74.46%\n"
     ]
    },
    {
     "name": "stderr",
     "output_type": "stream",
     "text": [
      "                                                                        \r"
     ]
    },
    {
     "name": "stdout",
     "output_type": "stream",
     "text": [
      "Epoch 41/100 – Loss: 0.4822, ValAcc: 74.12%\n",
      "No improvement in validation accuracy. Patience counter: 1/20\n"
     ]
    },
    {
     "name": "stderr",
     "output_type": "stream",
     "text": [
      "                                                                        \r"
     ]
    },
    {
     "name": "stdout",
     "output_type": "stream",
     "text": [
      "Epoch 42/100 – Loss: 0.4695, ValAcc: 74.62%\n",
      "Saved best QAT+EntKD+CutMix model with ValAcc: 74.62%\n"
     ]
    },
    {
     "name": "stderr",
     "output_type": "stream",
     "text": [
      "                                                                        \r"
     ]
    },
    {
     "name": "stdout",
     "output_type": "stream",
     "text": [
      "Epoch 43/100 – Loss: 0.4716, ValAcc: 74.16%\n",
      "No improvement in validation accuracy. Patience counter: 1/20\n"
     ]
    },
    {
     "name": "stderr",
     "output_type": "stream",
     "text": [
      "                                                                        \r"
     ]
    },
    {
     "name": "stdout",
     "output_type": "stream",
     "text": [
      "Epoch 44/100 – Loss: 0.4340, ValAcc: 74.60%\n",
      "No improvement in validation accuracy. Patience counter: 2/20\n"
     ]
    },
    {
     "name": "stderr",
     "output_type": "stream",
     "text": [
      "                                                                        \r"
     ]
    },
    {
     "name": "stdout",
     "output_type": "stream",
     "text": [
      "Epoch 45/100 – Loss: 0.4572, ValAcc: 74.96%\n",
      "Saved best QAT+EntKD+CutMix model with ValAcc: 74.96%\n"
     ]
    },
    {
     "name": "stderr",
     "output_type": "stream",
     "text": [
      "                                                                        \r"
     ]
    },
    {
     "name": "stdout",
     "output_type": "stream",
     "text": [
      "Epoch 46/100 – Loss: 0.4327, ValAcc: 75.46%\n",
      "Saved best QAT+EntKD+CutMix model with ValAcc: 75.46%\n"
     ]
    },
    {
     "name": "stderr",
     "output_type": "stream",
     "text": [
      "                                                                        \r"
     ]
    },
    {
     "name": "stdout",
     "output_type": "stream",
     "text": [
      "Epoch 47/100 – Loss: 0.4145, ValAcc: 75.04%\n",
      "No improvement in validation accuracy. Patience counter: 1/20\n"
     ]
    },
    {
     "name": "stderr",
     "output_type": "stream",
     "text": [
      "                                                                        \r"
     ]
    },
    {
     "name": "stdout",
     "output_type": "stream",
     "text": [
      "Epoch 48/100 – Loss: 0.4294, ValAcc: 75.76%\n",
      "Saved best QAT+EntKD+CutMix model with ValAcc: 75.76%\n"
     ]
    },
    {
     "name": "stderr",
     "output_type": "stream",
     "text": [
      "                                                                        \r"
     ]
    },
    {
     "name": "stdout",
     "output_type": "stream",
     "text": [
      "Epoch 49/100 – Loss: 0.4052, ValAcc: 75.14%\n",
      "No improvement in validation accuracy. Patience counter: 1/20\n"
     ]
    },
    {
     "name": "stderr",
     "output_type": "stream",
     "text": [
      "                                                                        \r"
     ]
    },
    {
     "name": "stdout",
     "output_type": "stream",
     "text": [
      "Epoch 50/100 – Loss: 0.4308, ValAcc: 74.22%\n",
      "No improvement in validation accuracy. Patience counter: 2/20\n"
     ]
    },
    {
     "name": "stderr",
     "output_type": "stream",
     "text": [
      "                                                                        \r"
     ]
    },
    {
     "name": "stdout",
     "output_type": "stream",
     "text": [
      "Epoch 51/100 – Loss: 0.3909, ValAcc: 75.26%\n",
      "No improvement in validation accuracy. Patience counter: 3/20\n"
     ]
    },
    {
     "name": "stderr",
     "output_type": "stream",
     "text": [
      "                                                                        \r"
     ]
    },
    {
     "name": "stdout",
     "output_type": "stream",
     "text": [
      "Epoch 52/100 – Loss: 0.4020, ValAcc: 75.96%\n",
      "Saved best QAT+EntKD+CutMix model with ValAcc: 75.96%\n"
     ]
    },
    {
     "name": "stderr",
     "output_type": "stream",
     "text": [
      "                                                                        \r"
     ]
    },
    {
     "name": "stdout",
     "output_type": "stream",
     "text": [
      "Epoch 53/100 – Loss: 0.3992, ValAcc: 76.28%\n",
      "Saved best QAT+EntKD+CutMix model with ValAcc: 76.28%\n"
     ]
    },
    {
     "name": "stderr",
     "output_type": "stream",
     "text": [
      "                                                                        \r"
     ]
    },
    {
     "name": "stdout",
     "output_type": "stream",
     "text": [
      "Epoch 54/100 – Loss: 0.3901, ValAcc: 75.60%\n",
      "No improvement in validation accuracy. Patience counter: 1/20\n"
     ]
    },
    {
     "name": "stderr",
     "output_type": "stream",
     "text": [
      "                                                                        \r"
     ]
    },
    {
     "name": "stdout",
     "output_type": "stream",
     "text": [
      "Epoch 55/100 – Loss: 0.3626, ValAcc: 76.10%\n",
      "No improvement in validation accuracy. Patience counter: 2/20\n"
     ]
    },
    {
     "name": "stderr",
     "output_type": "stream",
     "text": [
      "                                                                        \r"
     ]
    },
    {
     "name": "stdout",
     "output_type": "stream",
     "text": [
      "Epoch 56/100 – Loss: 0.3796, ValAcc: 76.54%\n",
      "Saved best QAT+EntKD+CutMix model with ValAcc: 76.54%\n"
     ]
    },
    {
     "name": "stderr",
     "output_type": "stream",
     "text": [
      "                                                                        \r"
     ]
    },
    {
     "name": "stdout",
     "output_type": "stream",
     "text": [
      "Epoch 57/100 – Loss: 0.3587, ValAcc: 75.90%\n",
      "No improvement in validation accuracy. Patience counter: 1/20\n"
     ]
    },
    {
     "name": "stderr",
     "output_type": "stream",
     "text": [
      "                                                                        \r"
     ]
    },
    {
     "name": "stdout",
     "output_type": "stream",
     "text": [
      "Epoch 58/100 – Loss: 0.3666, ValAcc: 76.40%\n",
      "No improvement in validation accuracy. Patience counter: 2/20\n"
     ]
    },
    {
     "name": "stderr",
     "output_type": "stream",
     "text": [
      "                                                                        \r"
     ]
    },
    {
     "name": "stdout",
     "output_type": "stream",
     "text": [
      "Epoch 59/100 – Loss: 0.3796, ValAcc: 76.34%\n",
      "No improvement in validation accuracy. Patience counter: 3/20\n"
     ]
    },
    {
     "name": "stderr",
     "output_type": "stream",
     "text": [
      "                                                                        \r"
     ]
    },
    {
     "name": "stdout",
     "output_type": "stream",
     "text": [
      "Epoch 60/100 – Loss: 0.3514, ValAcc: 76.92%\n",
      "Saved best QAT+EntKD+CutMix model with ValAcc: 76.92%\n"
     ]
    },
    {
     "name": "stderr",
     "output_type": "stream",
     "text": [
      "                                                                        \r"
     ]
    },
    {
     "name": "stdout",
     "output_type": "stream",
     "text": [
      "Epoch 61/100 – Loss: 0.3817, ValAcc: 76.72%\n",
      "No improvement in validation accuracy. Patience counter: 1/20\n"
     ]
    },
    {
     "name": "stderr",
     "output_type": "stream",
     "text": [
      "                                                                        \r"
     ]
    },
    {
     "name": "stdout",
     "output_type": "stream",
     "text": [
      "Epoch 62/100 – Loss: 0.3593, ValAcc: 75.82%\n",
      "No improvement in validation accuracy. Patience counter: 2/20\n"
     ]
    },
    {
     "name": "stderr",
     "output_type": "stream",
     "text": [
      "                                                                        \r"
     ]
    },
    {
     "name": "stdout",
     "output_type": "stream",
     "text": [
      "Epoch 63/100 – Loss: 0.3472, ValAcc: 76.68%\n",
      "No improvement in validation accuracy. Patience counter: 3/20\n"
     ]
    },
    {
     "name": "stderr",
     "output_type": "stream",
     "text": [
      "                                                                        \r"
     ]
    },
    {
     "name": "stdout",
     "output_type": "stream",
     "text": [
      "Epoch 64/100 – Loss: 0.3608, ValAcc: 76.72%\n",
      "No improvement in validation accuracy. Patience counter: 4/20\n"
     ]
    },
    {
     "name": "stderr",
     "output_type": "stream",
     "text": [
      "                                                                        \r"
     ]
    },
    {
     "name": "stdout",
     "output_type": "stream",
     "text": [
      "Epoch 65/100 – Loss: 0.3477, ValAcc: 77.36%\n",
      "Saved best QAT+EntKD+CutMix model with ValAcc: 77.36%\n"
     ]
    },
    {
     "name": "stderr",
     "output_type": "stream",
     "text": [
      "                                                                        \r"
     ]
    },
    {
     "name": "stdout",
     "output_type": "stream",
     "text": [
      "Epoch 66/100 – Loss: 0.3428, ValAcc: 76.60%\n",
      "No improvement in validation accuracy. Patience counter: 1/20\n"
     ]
    },
    {
     "name": "stderr",
     "output_type": "stream",
     "text": [
      "                                                                        \r"
     ]
    },
    {
     "name": "stdout",
     "output_type": "stream",
     "text": [
      "Epoch 67/100 – Loss: 0.3628, ValAcc: 76.60%\n",
      "No improvement in validation accuracy. Patience counter: 2/20\n"
     ]
    },
    {
     "name": "stderr",
     "output_type": "stream",
     "text": [
      "                                                                        \r"
     ]
    },
    {
     "name": "stdout",
     "output_type": "stream",
     "text": [
      "Epoch 68/100 – Loss: 0.3426, ValAcc: 76.72%\n",
      "No improvement in validation accuracy. Patience counter: 3/20\n"
     ]
    },
    {
     "name": "stderr",
     "output_type": "stream",
     "text": [
      "                                                                        \r"
     ]
    },
    {
     "name": "stdout",
     "output_type": "stream",
     "text": [
      "Epoch 69/100 – Loss: 0.3524, ValAcc: 77.30%\n",
      "No improvement in validation accuracy. Patience counter: 4/20\n"
     ]
    },
    {
     "name": "stderr",
     "output_type": "stream",
     "text": [
      "                                                                        \r"
     ]
    },
    {
     "name": "stdout",
     "output_type": "stream",
     "text": [
      "Epoch 70/100 – Loss: 0.3522, ValAcc: 77.68%\n",
      "Saved best QAT+EntKD+CutMix model with ValAcc: 77.68%\n"
     ]
    },
    {
     "name": "stderr",
     "output_type": "stream",
     "text": [
      "                                                                        \r"
     ]
    },
    {
     "name": "stdout",
     "output_type": "stream",
     "text": [
      "Epoch 71/100 – Loss: 0.3498, ValAcc: 77.00%\n",
      "No improvement in validation accuracy. Patience counter: 1/20\n"
     ]
    },
    {
     "name": "stderr",
     "output_type": "stream",
     "text": [
      "                                                                        \r"
     ]
    },
    {
     "name": "stdout",
     "output_type": "stream",
     "text": [
      "Epoch 72/100 – Loss: 0.3200, ValAcc: 76.70%\n",
      "No improvement in validation accuracy. Patience counter: 2/20\n"
     ]
    },
    {
     "name": "stderr",
     "output_type": "stream",
     "text": [
      "                                                                        \r"
     ]
    },
    {
     "name": "stdout",
     "output_type": "stream",
     "text": [
      "Epoch 73/100 – Loss: 0.3417, ValAcc: 76.98%\n",
      "No improvement in validation accuracy. Patience counter: 3/20\n"
     ]
    },
    {
     "name": "stderr",
     "output_type": "stream",
     "text": [
      "                                                                        \r"
     ]
    },
    {
     "name": "stdout",
     "output_type": "stream",
     "text": [
      "Epoch 74/100 – Loss: 0.2999, ValAcc: 77.42%\n",
      "No improvement in validation accuracy. Patience counter: 4/20\n"
     ]
    },
    {
     "name": "stderr",
     "output_type": "stream",
     "text": [
      "                                                                        \r"
     ]
    },
    {
     "name": "stdout",
     "output_type": "stream",
     "text": [
      "Epoch 75/100 – Loss: 0.3706, ValAcc: 77.50%\n",
      "No improvement in validation accuracy. Patience counter: 5/20\n"
     ]
    },
    {
     "name": "stderr",
     "output_type": "stream",
     "text": [
      "                                                                        \r"
     ]
    },
    {
     "name": "stdout",
     "output_type": "stream",
     "text": [
      "Epoch 76/100 – Loss: 0.3228, ValAcc: 76.86%\n",
      "No improvement in validation accuracy. Patience counter: 6/20\n"
     ]
    },
    {
     "name": "stderr",
     "output_type": "stream",
     "text": [
      "                                                                        \r"
     ]
    },
    {
     "name": "stdout",
     "output_type": "stream",
     "text": [
      "Epoch 77/100 – Loss: 0.3171, ValAcc: 76.72%\n",
      "No improvement in validation accuracy. Patience counter: 7/20\n"
     ]
    },
    {
     "name": "stderr",
     "output_type": "stream",
     "text": [
      "                                                                        \r"
     ]
    },
    {
     "name": "stdout",
     "output_type": "stream",
     "text": [
      "Epoch 78/100 – Loss: 0.3251, ValAcc: 77.64%\n",
      "No improvement in validation accuracy. Patience counter: 8/20\n"
     ]
    },
    {
     "name": "stderr",
     "output_type": "stream",
     "text": [
      "                                                                        \r"
     ]
    },
    {
     "name": "stdout",
     "output_type": "stream",
     "text": [
      "Epoch 79/100 – Loss: 0.3370, ValAcc: 77.76%\n",
      "Saved best QAT+EntKD+CutMix model with ValAcc: 77.76%\n"
     ]
    },
    {
     "name": "stderr",
     "output_type": "stream",
     "text": [
      "                                                                        \r"
     ]
    },
    {
     "name": "stdout",
     "output_type": "stream",
     "text": [
      "Epoch 80/100 – Loss: 0.3237, ValAcc: 77.48%\n",
      "No improvement in validation accuracy. Patience counter: 1/20\n"
     ]
    },
    {
     "name": "stderr",
     "output_type": "stream",
     "text": [
      "                                                                        \r"
     ]
    },
    {
     "name": "stdout",
     "output_type": "stream",
     "text": [
      "Epoch 81/100 – Loss: 0.3521, ValAcc: 77.26%\n",
      "No improvement in validation accuracy. Patience counter: 2/20\n"
     ]
    },
    {
     "name": "stderr",
     "output_type": "stream",
     "text": [
      "                                                                        \r"
     ]
    },
    {
     "name": "stdout",
     "output_type": "stream",
     "text": [
      "Epoch 82/100 – Loss: 0.3238, ValAcc: 77.78%\n",
      "Saved best QAT+EntKD+CutMix model with ValAcc: 77.78%\n"
     ]
    },
    {
     "name": "stderr",
     "output_type": "stream",
     "text": [
      "                                                                        \r"
     ]
    },
    {
     "name": "stdout",
     "output_type": "stream",
     "text": [
      "Epoch 83/100 – Loss: 0.3220, ValAcc: 77.96%\n",
      "Saved best QAT+EntKD+CutMix model with ValAcc: 77.96%\n"
     ]
    },
    {
     "name": "stderr",
     "output_type": "stream",
     "text": [
      "                                                                        \r"
     ]
    },
    {
     "name": "stdout",
     "output_type": "stream",
     "text": [
      "Epoch 84/100 – Loss: 0.3514, ValAcc: 78.26%\n",
      "Saved best QAT+EntKD+CutMix model with ValAcc: 78.26%\n"
     ]
    },
    {
     "name": "stderr",
     "output_type": "stream",
     "text": [
      "                                                                        \r"
     ]
    },
    {
     "name": "stdout",
     "output_type": "stream",
     "text": [
      "Epoch 85/100 – Loss: 0.3279, ValAcc: 77.60%\n",
      "No improvement in validation accuracy. Patience counter: 1/20\n"
     ]
    },
    {
     "name": "stderr",
     "output_type": "stream",
     "text": [
      "                                                                        \r"
     ]
    },
    {
     "name": "stdout",
     "output_type": "stream",
     "text": [
      "Epoch 86/100 – Loss: 0.3237, ValAcc: 77.64%\n",
      "No improvement in validation accuracy. Patience counter: 2/20\n"
     ]
    },
    {
     "name": "stderr",
     "output_type": "stream",
     "text": [
      "                                                                        \r"
     ]
    },
    {
     "name": "stdout",
     "output_type": "stream",
     "text": [
      "Epoch 87/100 – Loss: 0.3130, ValAcc: 77.50%\n",
      "No improvement in validation accuracy. Patience counter: 3/20\n"
     ]
    },
    {
     "name": "stderr",
     "output_type": "stream",
     "text": [
      "                                                                        \r"
     ]
    },
    {
     "name": "stdout",
     "output_type": "stream",
     "text": [
      "Epoch 88/100 – Loss: 0.3291, ValAcc: 78.20%\n",
      "No improvement in validation accuracy. Patience counter: 4/20\n"
     ]
    },
    {
     "name": "stderr",
     "output_type": "stream",
     "text": [
      "                                                                        \r"
     ]
    },
    {
     "name": "stdout",
     "output_type": "stream",
     "text": [
      "Epoch 89/100 – Loss: 0.3392, ValAcc: 78.08%\n",
      "No improvement in validation accuracy. Patience counter: 5/20\n"
     ]
    },
    {
     "name": "stderr",
     "output_type": "stream",
     "text": [
      "                                                                        \r"
     ]
    },
    {
     "name": "stdout",
     "output_type": "stream",
     "text": [
      "Epoch 90/100 – Loss: 0.3434, ValAcc: 77.86%\n",
      "No improvement in validation accuracy. Patience counter: 6/20\n"
     ]
    },
    {
     "name": "stderr",
     "output_type": "stream",
     "text": [
      "                                                                        \r"
     ]
    },
    {
     "name": "stdout",
     "output_type": "stream",
     "text": [
      "Epoch 91/100 – Loss: 0.3270, ValAcc: 77.98%\n",
      "No improvement in validation accuracy. Patience counter: 7/20\n"
     ]
    },
    {
     "name": "stderr",
     "output_type": "stream",
     "text": [
      "                                                                        \r"
     ]
    },
    {
     "name": "stdout",
     "output_type": "stream",
     "text": [
      "Epoch 92/100 – Loss: 0.3201, ValAcc: 77.66%\n",
      "No improvement in validation accuracy. Patience counter: 8/20\n"
     ]
    },
    {
     "name": "stderr",
     "output_type": "stream",
     "text": [
      "                                                                        \r"
     ]
    },
    {
     "name": "stdout",
     "output_type": "stream",
     "text": [
      "Epoch 93/100 – Loss: 0.3225, ValAcc: 78.32%\n",
      "Saved best QAT+EntKD+CutMix model with ValAcc: 78.32%\n"
     ]
    },
    {
     "name": "stderr",
     "output_type": "stream",
     "text": [
      "                                                                        \r"
     ]
    },
    {
     "name": "stdout",
     "output_type": "stream",
     "text": [
      "Epoch 94/100 – Loss: 0.3051, ValAcc: 78.00%\n",
      "No improvement in validation accuracy. Patience counter: 1/20\n"
     ]
    },
    {
     "name": "stderr",
     "output_type": "stream",
     "text": [
      "                                                                        \r"
     ]
    },
    {
     "name": "stdout",
     "output_type": "stream",
     "text": [
      "Epoch 95/100 – Loss: 0.3199, ValAcc: 77.64%\n",
      "No improvement in validation accuracy. Patience counter: 2/20\n"
     ]
    },
    {
     "name": "stderr",
     "output_type": "stream",
     "text": [
      "                                                                        \r"
     ]
    },
    {
     "name": "stdout",
     "output_type": "stream",
     "text": [
      "Epoch 96/100 – Loss: 0.3236, ValAcc: 77.84%\n",
      "No improvement in validation accuracy. Patience counter: 3/20\n"
     ]
    },
    {
     "name": "stderr",
     "output_type": "stream",
     "text": [
      "                                                                        \r"
     ]
    },
    {
     "name": "stdout",
     "output_type": "stream",
     "text": [
      "Epoch 97/100 – Loss: 0.3137, ValAcc: 78.28%\n",
      "No improvement in validation accuracy. Patience counter: 4/20\n"
     ]
    },
    {
     "name": "stderr",
     "output_type": "stream",
     "text": [
      "                                                                        \r"
     ]
    },
    {
     "name": "stdout",
     "output_type": "stream",
     "text": [
      "Epoch 98/100 – Loss: 0.3102, ValAcc: 77.72%\n",
      "No improvement in validation accuracy. Patience counter: 5/20\n"
     ]
    },
    {
     "name": "stderr",
     "output_type": "stream",
     "text": [
      "                                                                        \r"
     ]
    },
    {
     "name": "stdout",
     "output_type": "stream",
     "text": [
      "Epoch 99/100 – Loss: 0.3395, ValAcc: 77.78%\n",
      "No improvement in validation accuracy. Patience counter: 6/20\n"
     ]
    },
    {
     "name": "stderr",
     "output_type": "stream",
     "text": [
      "                                                                         \r"
     ]
    },
    {
     "name": "stdout",
     "output_type": "stream",
     "text": [
      "Epoch 100/100 – Loss: 0.3269, ValAcc: 78.00%\n",
      "No improvement in validation accuracy. Patience counter: 7/20\n"
     ]
    },
    {
     "name": "stderr",
     "output_type": "stream",
     "text": [
      "                                                                           \r"
     ]
    },
    {
     "name": "stdout",
     "output_type": "stream",
     "text": [
      "\n",
      "Best Fake-Quantized Model – Test Accuracy: 78.42%\n",
      "Average Fake-Quantized Inference Latency (GPU): 25.87 ms/batch\n"
     ]
    },
    {
     "name": "stderr",
     "output_type": "stream",
     "text": [
      "                                                                 \r"
     ]
    },
    {
     "name": "stdout",
     "output_type": "stream",
     "text": [
      "Best INT8 Model – Test Accuracy: 78.40%\n",
      "Average INT8 Inference Latency (CPU): 130.78 ms/batch\n"
     ]
    }
   ],
   "source": [
    "import os\n",
    "import time\n",
    "import torch\n",
    "import torch.nn as nn\n",
    "import torch.optim as optim\n",
    "import torch.nn.functional as F\n",
    "import torchvision\n",
    "import torchvision.transforms as transforms\n",
    "from torch.utils.data import DataLoader, SubsetRandomSampler\n",
    "from torch.quantization import (\n",
    "    prepare_qat,\n",
    "    convert,\n",
    "    enable_observer,\n",
    "    disable_observer,\n",
    "    enable_fake_quant,\n",
    "    disable_fake_quant,\n",
    ")\n",
    "from torchvision.models.quantization import resnet50\n",
    "import numpy as np\n",
    "from tqdm import tqdm\n",
    "\n",
    "torch.backends.quantized.engine = 'fbgemm'\n",
    "\n",
    "\n",
    "\n",
    "class EntKDLoss(nn.Module):\n",
    "    def __init__(self, base_temperature=3.0, alpha=0.7, beta=0.1):\n",
    "        super(EntKDLoss, self).__init__()\n",
    "        self.base_temperature = base_temperature\n",
    "        self.alpha = alpha\n",
    "        self.beta = beta\n",
    "        self.kld_loss = nn.KLDivLoss(reduction='batchmean')\n",
    "\n",
    "    def forward(self, student_outputs, teacher_outputs, targets_a, targets_b, lam):\n",
    "        # Compute teacher entropy\n",
    "        teacher_probs = F.softmax(teacher_outputs, dim=1)\n",
    "        entropy = -torch.sum(teacher_probs * torch.log(teacher_probs + 1e-10), dim=1).mean()\n",
    "        \n",
    "        # Dynamic temperature\n",
    "        temperature = self.base_temperature / (1 + self.beta * entropy)\n",
    "        temperature = torch.clamp(temperature, min=1.0, max=10.0)\n",
    "        \n",
    "        # Compute mixed CE loss\n",
    "        log_prob = F.log_softmax(student_outputs, dim=1)\n",
    "        ce_loss = - (lam * log_prob[torch.arange(student_outputs.size(0)), targets_a] + \n",
    "                     (1 - lam) * log_prob[torch.arange(student_outputs.size(0)), targets_b]).mean()\n",
    "        \n",
    "        # Compute KLD loss\n",
    "        kld = self.kld_loss(\n",
    "            F.log_softmax(student_outputs / temperature, dim=1),\n",
    "            F.softmax(teacher_outputs / temperature, dim=1)\n",
    "        ) * (temperature ** 2)\n",
    "        \n",
    "        return self.alpha * ce_loss + (1 - self.alpha) * kld\n",
    "\n",
    "def main():\n",
    "    train_device = torch.device('cuda' if torch.cuda.is_available() else 'cpu')\n",
    "    assert train_device.type == 'cuda', \"GPU not available for training/validation\"\n",
    "    test_device = torch.device('cpu')\n",
    "\n",
    "    train_loader, val_loader, test_loader, train_idx = get_cifar100_data_loaders()\n",
    "\n",
    "    # Load pre-trained FP32 teacher model\n",
    "    teacher_model = resnet50(pretrained=False, num_classes=100)\n",
    "    teacher_model.conv1 = nn.Conv2d(3, 64, kernel_size=3, stride=1, padding=0, bias=False)\n",
    "    teacher_model.maxpool = nn.Identity()\n",
    "    teacher_model.load_state_dict(torch.load('best_fp32_resnet50_cifar100_32x32_100_cutmix.pth'))\n",
    "    teacher_model.to(train_device)\n",
    "    teacher_model.eval()\n",
    "\n",
    "    # Initialize QAT student model\n",
    "    student_model = resnet50(pretrained=False, quantize=False, num_classes=100)\n",
    "    student_model.conv1 = nn.Conv2d(3, 64, kernel_size=3, stride=1, padding=0, bias=False)\n",
    "    student_model.maxpool = nn.Identity()\n",
    "    student_model.fuse_model()\n",
    "    student_model.qconfig = torch.quantization.get_default_qat_qconfig('fbgemm')\n",
    "    prepare_qat(student_model, inplace=True)\n",
    "    student_model.to(train_device)\n",
    "\n",
    "    # Calibration\n",
    "    student_model.eval()\n",
    "    disable_fake_quant(student_model)\n",
    "    enable_observer(student_model)\n",
    "    with torch.no_grad():\n",
    "        for i, (imgs, _) in enumerate(tqdm(train_loader, desc=\"Calibrating\", leave=False)):\n",
    "            if i >= 200:\n",
    "                break\n",
    "            imgs = imgs.to(train_device)\n",
    "            student_model(imgs)\n",
    "    disable_observer(student_model)\n",
    "    enable_fake_quant(student_model)\n",
    "\n",
    "    optimizer = optim.AdamW(student_model.parameters(), lr=1e-3, weight_decay=1e-4)\n",
    "    scheduler = optim.lr_scheduler.CosineAnnealingLR(optimizer, T_max=100)\n",
    "    criterion = EntKDLoss(base_temperature=3.0, alpha=0.3, beta=0.1)\n",
    "    best_val_acc = 0.0\n",
    "    best_model_path = 'qat_entkd_cutmix_resnet50_cifar100_float_32x32_100.pth'\n",
    "    epochs = 100\n",
    "    patience = 20\n",
    "    patience_counter = 0\n",
    "\n",
    "    for epoch in range(epochs):\n",
    "        student_model.train()\n",
    "        enable_fake_quant(student_model)\n",
    "        running_loss = 0.0\n",
    "        for imgs, targets in tqdm(train_loader, desc=f\"Training Epoch {epoch+1}/{epochs}\", leave=False):\n",
    "            imgs, targets = imgs.to(train_device), targets.to(train_device)\n",
    "            if np.random.rand() < 0.5:  # Apply CutMix with 50% probability\n",
    "                mixed_imgs, targets_a, targets_b, lam = cutmix(imgs, targets)\n",
    "            else:\n",
    "                mixed_imgs = imgs\n",
    "                targets_a = targets\n",
    "                targets_b = targets\n",
    "                lam = 1.0\n",
    "            optimizer.zero_grad()\n",
    "            with torch.no_grad():\n",
    "                teacher_outputs = teacher_model(mixed_imgs)\n",
    "            student_outputs = student_model(mixed_imgs)\n",
    "            loss = criterion(student_outputs, teacher_outputs, targets_a, targets_b, lam)\n",
    "            loss.backward()\n",
    "            optimizer.step()\n",
    "            running_loss += loss.item() * imgs.size(0)\n",
    "\n",
    "        val_acc, _ = evaluate_accuracy_and_latency(student_model, val_loader, train_device, desc=\"Validating\")\n",
    "        print(f\"Epoch {epoch+1}/{epochs} – Loss: {running_loss/len(train_idx):.4f}, ValAcc: {val_acc:.2f}%\")\n",
    "\n",
    "        if val_acc > best_val_acc:\n",
    "            best_val_acc = val_acc\n",
    "            torch.save(student_model.state_dict(), best_model_path)\n",
    "            print(f\"Saved best QAT+EntKD+CutMix model with ValAcc: {best_val_acc:.2f}%\")\n",
    "            patience_counter = 0\n",
    "        else:\n",
    "            patience_counter += 1\n",
    "            print(f\"No improvement in validation accuracy. Patience counter: {patience_counter}/{patience}\")\n",
    "\n",
    "        if patience_counter >= patience:\n",
    "            print(f\"Early stopping triggered after {epoch+1} epochs.\")\n",
    "            break\n",
    "\n",
    "        scheduler.step()\n",
    "\n",
    "    student_model.load_state_dict(torch.load(best_model_path))\n",
    "    fake_quant_acc, fake_quant_latency = evaluate_accuracy_and_latency(student_model, test_loader, train_device, desc=\"Testing Fake-Quantized\")\n",
    "    print(f\"\\nBest Fake-Quantized Model – Test Accuracy: {fake_quant_acc:.2f}%\")\n",
    "    print(f\"Average Fake-Quantized Inference Latency (GPU): {fake_quant_latency:.2f} ms/batch\")\n",
    "\n",
    "    student_model.cpu()\n",
    "    student_model.eval()\n",
    "    quantized_model = convert(student_model, inplace=False)\n",
    "\n",
    "    int8_acc, int8_latency = evaluate_accuracy_and_latency(quantized_model, test_loader, test_device, desc=\"Testing INT8\")\n",
    "    print(f\"Best INT8 Model – Test Accuracy: {int8_acc:.2f}%\")\n",
    "    print(f\"Average INT8 Inference Latency (CPU): {int8_latency:.2f} ms/batch\")\n",
    "\n",
    "    torch.save(quantized_model.state_dict(), 'qat_entkd_cutmix_resnet50_cifar100_int8_final_32x32_100.pth')\n",
    "\n",
    "if __name__ == '__main__':\n",
    "    main()"
   ]
  },
  {
   "cell_type": "code",
   "execution_count": null,
   "id": "018fa959-16d2-4d35-95a4-54afa4c84849",
   "metadata": {},
   "outputs": [],
   "source": []
  },
  {
   "cell_type": "code",
   "execution_count": null,
   "id": "64ec3933-9515-479e-8cfa-ad7e84e362f7",
   "metadata": {},
   "outputs": [],
   "source": []
  }
 ],
 "metadata": {
  "kernelspec": {
   "display_name": "Python 3",
   "language": "python",
   "name": "python3"
  },
  "language_info": {
   "codemirror_mode": {
    "name": "ipython",
    "version": 3
   },
   "file_extension": ".py",
   "mimetype": "text/x-python",
   "name": "python",
   "nbconvert_exporter": "python",
   "pygments_lexer": "ipython3",
   "version": "3.10.10"
  }
 },
 "nbformat": 4,
 "nbformat_minor": 5
}
